{
 "cells": [
  {
   "cell_type": "code",
   "execution_count": 12,
   "id": "d95037dc",
   "metadata": {},
   "outputs": [],
   "source": [
    "import matplotlib.pyplot as plt\n",
    "import numpy as np\n",
    "from scipy import stats\n",
    "np.random.seed(123)"
   ]
  },
  {
   "cell_type": "code",
   "execution_count": 26,
   "id": "2a762ffd",
   "metadata": {},
   "outputs": [
    {
     "data": {
      "text/plain": [
       "Text(0.5, 0, 'Cars in drive thru')"
      ]
     },
     "execution_count": 26,
     "metadata": {},
     "output_type": "execute_result"
    },
    {
     "data": {
      "image/png": "[encoded data removed]",
      "text/plain": [
       "<Figure size 648x432 with 1 Axes>"
      ]
     },
     "metadata": {
      "needs_background": "light"
     },
     "output_type": "display_data"
    }
   ],
   "source": [
    "#1\n",
    "x = range(16)\n",
    "y = stats.poisson(2).pmf(x)\n",
    "\n",
    "plt.figure(figsize=(9, 6))\n",
    "plt.bar(x, y, edgecolor='black', color='white', width=1)\n",
    "plt.xticks(x)\n",
    "plt.ylabel('P(X = x)')\n",
    "plt.xlabel('Cars in drive thru')"
   ]
  },
  {
   "cell_type": "code",
   "execution_count": 21,
   "id": "58a24151",
   "metadata": {},
   "outputs": [],
   "source": [
    "one_a = stats.poisson(2).pmf(0)\n",
    "one_b = stats.poisson(2).sf(3)\n",
    "one_c = stats.poisson(2).sf(1)"
   ]
  },
  {
   "cell_type": "code",
   "execution_count": 22,
   "id": "71ee6fa3",
   "metadata": {},
   "outputs": [
    {
     "data": {
      "text/plain": [
       "0.1353352832366127"
      ]
     },
     "execution_count": 22,
     "metadata": {},
     "output_type": "execute_result"
    }
   ],
   "source": [
    "one_a"
   ]
  },
  {
   "cell_type": "code",
   "execution_count": 23,
   "id": "92a0e08e",
   "metadata": {},
   "outputs": [
    {
     "data": {
      "text/plain": [
       "0.14287653950145296"
      ]
     },
     "execution_count": 23,
     "metadata": {},
     "output_type": "execute_result"
    }
   ],
   "source": [
    "one_b"
   ]
  },
  {
   "cell_type": "code",
   "execution_count": 24,
   "id": "e306bc00",
   "metadata": {},
   "outputs": [
    {
     "data": {
      "text/plain": [
       "0.5939941502901616"
      ]
     },
     "execution_count": 24,
     "metadata": {},
     "output_type": "execute_result"
    }
   ],
   "source": [
    "one_c"
   ]
  },
  {
   "cell_type": "code",
   "execution_count": 30,
   "id": "2c1e0a16",
   "metadata": {},
   "outputs": [
    {
     "data": {
      "text/plain": [
       "3.49"
      ]
     },
     "execution_count": 30,
     "metadata": {},
     "output_type": "execute_result"
    }
   ],
   "source": [
    "#2\n",
    "μ = 3.0\n",
    "σ = .3\n",
    "\n",
    "gpa = stats.norm(μ, σ)\n",
    "top_5_percent_cutoff = gpa.ppf(.95)\n",
    "round(top_5_percent_cutoff, 2)"
   ]
  },
  {
   "cell_type": "code",
   "execution_count": 32,
   "id": "35ca4c97",
   "metadata": {},
   "outputs": [
    {
     "data": {
      "text/plain": [
       "2.69"
      ]
     },
     "execution_count": 32,
     "metadata": {},
     "output_type": "execute_result"
    }
   ],
   "source": [
    "bottom_15_percent_cutoff = gpa.ppf(.15)\n",
    "round(bottom_15_percent_cutoff, 2)"
   ]
  },
  {
   "cell_type": "code",
   "execution_count": 35,
   "id": "77c52463",
   "metadata": {},
   "outputs": [],
   "source": [
    "third_decile_upper = gpa.isf(0.7)\n",
    "third_decile_lower = gpa.isf(0.8)"
   ]
  },
  {
   "cell_type": "code",
   "execution_count": 39,
   "id": "4ec36baa",
   "metadata": {},
   "outputs": [
    {
     "data": {
      "text/plain": [
       "2.75"
      ]
     },
     "execution_count": 39,
     "metadata": {},
     "output_type": "execute_result"
    }
   ],
   "source": [
    "round(third_decile_lower, 2)"
   ]
  },
  {
   "cell_type": "code",
   "execution_count": 40,
   "id": "3dcce6c6",
   "metadata": {},
   "outputs": [
    {
     "data": {
      "text/plain": [
       "2.84"
      ]
     },
     "execution_count": 40,
     "metadata": {},
     "output_type": "execute_result"
    }
   ],
   "source": [
    "round(third_decile_upper, 2)"
   ]
  },
  {
   "cell_type": "code",
   "execution_count": null,
   "id": "e1257d88",
   "metadata": {},
   "outputs": [],
   "source": [
    "## A 2.8 GPA would qualify for this scholarship."
   ]
  },
  {
   "cell_type": "code",
   "execution_count": 51,
   "id": "df7df029",
   "metadata": {},
   "outputs": [],
   "source": [
    "percentile_gpa = round(gpa.cdf(3.5)*100, 2)"
   ]
  },
  {
   "cell_type": "code",
   "execution_count": 52,
   "id": "1121d666",
   "metadata": {},
   "outputs": [
    {
     "data": {
      "text/plain": [
       "95.22"
      ]
     },
     "execution_count": 52,
     "metadata": {},
     "output_type": "execute_result"
    }
   ],
   "source": [
    "percentile_gpa"
   ]
  },
  {
   "cell_type": "code",
   "execution_count": 48,
   "id": "6d366958",
   "metadata": {},
   "outputs": [
    {
     "data": {
      "text/plain": [
       "0.11737753210939103"
      ]
     },
     "execution_count": 48,
     "metadata": {},
     "output_type": "execute_result"
    }
   ],
   "source": [
    "clicks = stats.binom(4325, .02)\n",
    "clicks.sf(97)"
   ]
  },
  {
   "cell_type": "code",
   "execution_count": 54,
   "id": "7de1ab1c",
   "metadata": {},
   "outputs": [],
   "source": [
    "homework = stats.binom(60, 0.99)"
   ]
  },
  {
   "cell_type": "code",
   "execution_count": 55,
   "id": "f8cca8e1",
   "metadata": {},
   "outputs": [
    {
     "data": {
      "text/plain": [
       "0.4528433576092388"
      ]
     },
     "execution_count": 55,
     "metadata": {},
     "output_type": "execute_result"
    }
   ],
   "source": [
    "homework.cdf(59)"
   ]
  },
  {
   "cell_type": "code",
   "execution_count": null,
   "id": "c8e76da1",
   "metadata": {},
   "outputs": [],
   "source": []
  }
 ],
 "metadata": {
  "kernelspec": {
   "display_name": "Python 3",
   "language": "python",
   "name": "python3"
  },
  "language_info": {
   "codemirror_mode": {
    "name": "ipython",
    "version": 3
   },
   "file_extension": ".py",
   "mimetype": "text/x-python",
   "name": "python",
   "nbconvert_exporter": "python",
   "pygments_lexer": "ipython3",
   "version": "3.8.8"
  }
 },
 "nbformat": 4,
 "nbformat_minor": 5
}
