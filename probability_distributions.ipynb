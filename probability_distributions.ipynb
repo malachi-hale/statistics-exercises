{
 "cells": [
  {
   "cell_type": "code",
   "execution_count": 50,
   "id": "d95037dc",
   "metadata": {},
   "outputs": [],
   "source": [
    "import matplotlib.pyplot as plt\n",
    "import numpy as np\n",
    "from scipy import stats\n",
    "from pydataset import data\n",
    "from numpy import random\n",
    "import seaborn as sns\n",
    "import pandas as pd\n",
    "\n",
    "np.random.seed(123)"
   ]
  },
  {
   "cell_type": "markdown",
   "id": "c8601347",
   "metadata": {},
   "source": [
    "### A bank found that the average number of cars waiting during the noon hour at a drive-up window follows a Poisson distribution with a mean of 2 cars. Make a chart of this distribution and answer these questions concerning the probability of cars waiting at the drive-up window."
   ]
  },
  {
   "cell_type": "code",
   "execution_count": 26,
   "id": "2a762ffd",
   "metadata": {},
   "outputs": [
    {
     "data": {
      "text/plain": [
       "Text(0.5, 0, 'Cars in drive thru')"
      ]
     },
     "execution_count": 26,
     "metadata": {},
     "output_type": "execute_result"
    },
    {
     "data": {
      "image/png": "[encoded data removed]",
      "text/plain": [
       "<Figure size 648x432 with 1 Axes>"
      ]
     },
     "metadata": {
      "needs_background": "light"
     },
     "output_type": "display_data"
    }
   ],
   "source": [
    "#1\n",
    "x = range(16)\n",
    "y = stats.poisson(2).pmf(x)\n",
    "\n",
    "plt.figure(figsize=(9, 6))\n",
    "plt.bar(x, y, edgecolor='black', color='white', width=1)\n",
    "plt.xticks(x)\n",
    "plt.ylabel('P(X = x)')\n",
    "plt.xlabel('Cars in drive thru')"
   ]
  },
  {
   "cell_type": "markdown",
   "id": "0b058681",
   "metadata": {},
   "source": [
    "## What is the probability that no cars drive up in the noon hour?\n"
   ]
  },
  {
   "cell_type": "code",
   "execution_count": 22,
   "id": "71ee6fa3",
   "metadata": {},
   "outputs": [
    {
     "data": {
      "text/plain": [
       "0.1353352832366127"
      ]
     },
     "execution_count": 22,
     "metadata": {},
     "output_type": "execute_result"
    }
   ],
   "source": [
    "one_a = stats.poisson(2).pmf(0)\n",
    "one_a"
   ]
  },
  {
   "cell_type": "markdown",
   "id": "79aba279",
   "metadata": {},
   "source": [
    "## What is the probability that 3 or more cars come through the drive through?\n"
   ]
  },
  {
   "cell_type": "code",
   "execution_count": 60,
   "id": "92a0e08e",
   "metadata": {},
   "outputs": [
    {
     "data": {
      "text/plain": [
       "0.32332358381693654"
      ]
     },
     "execution_count": 60,
     "metadata": {},
     "output_type": "execute_result"
    }
   ],
   "source": [
    "one_b = stats.poisson(2).sf(2)\n",
    "one_b"
   ]
  },
  {
   "cell_type": "markdown",
   "id": "4c7ac68c",
   "metadata": {},
   "source": [
    "## How likely is it that the drive through gets at least 1 car?\n"
   ]
  },
  {
   "cell_type": "code",
   "execution_count": 62,
   "id": "e306bc00",
   "metadata": {},
   "outputs": [
    {
     "data": {
      "text/plain": [
       "0.8646647167633873"
      ]
     },
     "execution_count": 62,
     "metadata": {},
     "output_type": "execute_result"
    }
   ],
   "source": [
    "one_c = stats.poisson(2).sf(0)\n",
    "one_c"
   ]
  },
  {
   "cell_type": "markdown",
   "id": "a4dc253f",
   "metadata": {},
   "source": [
    "## Now let's redo this question using a simulation rather than a probability distribution. \n",
    "\n"
   ]
  },
  {
   "cell_type": "code",
   "execution_count": 42,
   "id": "80808350",
   "metadata": {},
   "outputs": [],
   "source": [
    "poisson_sample = random.poisson(lam = 2, size = 10_000)"
   ]
  },
  {
   "cell_type": "code",
   "execution_count": 48,
   "id": "e7f25c55",
   "metadata": {},
   "outputs": [
    {
     "data": {
      "text/plain": [
       "<AxesSubplot:>"
      ]
     },
     "execution_count": 48,
     "metadata": {},
     "output_type": "execute_result"
    },
    {
     "data": {
      "image/png": "[encoded data removed]",
      "text/plain": [
       "<Figure size 432x288 with 1 Axes>"
      ]
     },
     "metadata": {
      "needs_background": "light"
     },
     "output_type": "display_data"
    }
   ],
   "source": [
    "\n",
    "sns.distplot(poisson_sample, kde = False, bins = 25)"
   ]
  },
  {
   "cell_type": "code",
   "execution_count": 52,
   "id": "c6420532",
   "metadata": {},
   "outputs": [
    {
     "data": {
      "text/html": [
       "<div>\n",
       "<style scoped>\n",
       "    .dataframe tbody tr th:only-of-type {\n",
       "        vertical-align: middle;\n",
       "    }\n",
       "\n",
       "    .dataframe tbody tr th {\n",
       "        vertical-align: top;\n",
       "    }\n",
       "\n",
       "    .dataframe thead th {\n",
       "        text-align: right;\n",
       "    }\n",
       "</style>\n",
       "<table border=\"1\" class=\"dataframe\">\n",
       "  <thead>\n",
       "    <tr style=\"text-align: right;\">\n",
       "      <th></th>\n",
       "      <th>0</th>\n",
       "    </tr>\n",
       "  </thead>\n",
       "  <tbody>\n",
       "    <tr>\n",
       "      <th>0</th>\n",
       "      <td>2</td>\n",
       "    </tr>\n",
       "    <tr>\n",
       "      <th>1</th>\n",
       "      <td>4</td>\n",
       "    </tr>\n",
       "    <tr>\n",
       "      <th>2</th>\n",
       "      <td>2</td>\n",
       "    </tr>\n",
       "    <tr>\n",
       "      <th>3</th>\n",
       "      <td>2</td>\n",
       "    </tr>\n",
       "    <tr>\n",
       "      <th>4</th>\n",
       "      <td>2</td>\n",
       "    </tr>\n",
       "    <tr>\n",
       "      <th>...</th>\n",
       "      <td>...</td>\n",
       "    </tr>\n",
       "    <tr>\n",
       "      <th>9995</th>\n",
       "      <td>2</td>\n",
       "    </tr>\n",
       "    <tr>\n",
       "      <th>9996</th>\n",
       "      <td>5</td>\n",
       "    </tr>\n",
       "    <tr>\n",
       "      <th>9997</th>\n",
       "      <td>1</td>\n",
       "    </tr>\n",
       "    <tr>\n",
       "      <th>9998</th>\n",
       "      <td>2</td>\n",
       "    </tr>\n",
       "    <tr>\n",
       "      <th>9999</th>\n",
       "      <td>5</td>\n",
       "    </tr>\n",
       "  </tbody>\n",
       "</table>\n",
       "<p>10000 rows × 1 columns</p>\n",
       "</div>"
      ],
      "text/plain": [
       "      0\n",
       "0     2\n",
       "1     4\n",
       "2     2\n",
       "3     2\n",
       "4     2\n",
       "...  ..\n",
       "9995  2\n",
       "9996  5\n",
       "9997  1\n",
       "9998  2\n",
       "9999  5\n",
       "\n",
       "[10000 rows x 1 columns]"
      ]
     },
     "execution_count": 52,
     "metadata": {},
     "output_type": "execute_result"
    }
   ],
   "source": [
    "cars_at_noon = pd.DataFrame(poisson_sample)\n",
    "cars_at_noon"
   ]
  },
  {
   "cell_type": "code",
   "execution_count": 55,
   "id": "b08688f9",
   "metadata": {},
   "outputs": [],
   "source": [
    "no_cars = cars_at_noon[0] == 0"
   ]
  },
  {
   "cell_type": "code",
   "execution_count": 56,
   "id": "5997f9ff",
   "metadata": {},
   "outputs": [
    {
     "data": {
      "text/plain": [
       "0.1353"
      ]
     },
     "execution_count": 56,
     "metadata": {},
     "output_type": "execute_result"
    }
   ],
   "source": [
    "no_cars.mean()"
   ]
  },
  {
   "cell_type": "code",
   "execution_count": null,
   "id": "151462d3",
   "metadata": {},
   "outputs": [],
   "source": [
    "#There is a 0.1353 chance that no cars drive up at noon. "
   ]
  },
  {
   "cell_type": "code",
   "execution_count": 57,
   "id": "4d69ddb0",
   "metadata": {},
   "outputs": [],
   "source": [
    "three_or_more_cars = cars_at_noon[0] >= 3"
   ]
  },
  {
   "cell_type": "code",
   "execution_count": 58,
   "id": "2cc0bac0",
   "metadata": {},
   "outputs": [
    {
     "data": {
      "text/plain": [
       "0.322"
      ]
     },
     "execution_count": 58,
     "metadata": {},
     "output_type": "execute_result"
    }
   ],
   "source": [
    "three_or_more_cars.mean()"
   ]
  },
  {
   "cell_type": "code",
   "execution_count": null,
   "id": "fe8699ba",
   "metadata": {},
   "outputs": [],
   "source": [
    "##There is a 0.322 chance that three or more cars drive up at noon. "
   ]
  },
  {
   "cell_type": "code",
   "execution_count": 63,
   "id": "6d8593c0",
   "metadata": {},
   "outputs": [],
   "source": [
    "at_least_one_car = cars_at_noon[0] > 0"
   ]
  },
  {
   "cell_type": "code",
   "execution_count": 64,
   "id": "96428633",
   "metadata": {},
   "outputs": [
    {
     "data": {
      "text/plain": [
       "0.8647"
      ]
     },
     "execution_count": 64,
     "metadata": {},
     "output_type": "execute_result"
    }
   ],
   "source": [
    "at_least_one_car.mean()"
   ]
  },
  {
   "cell_type": "code",
   "execution_count": null,
   "id": "ff668213",
   "metadata": {},
   "outputs": [],
   "source": [
    "#There is a 0.8647 chance that at least one car will show up at noon. "
   ]
  },
  {
   "cell_type": "code",
   "execution_count": 66,
   "id": "2c1e0a16",
   "metadata": {},
   "outputs": [
    {
     "data": {
      "text/plain": [
       "3.49"
      ]
     },
     "execution_count": 66,
     "metadata": {},
     "output_type": "execute_result"
    }
   ],
   "source": [
    "#2\n",
    "μ = 3.0\n",
    "σ = .3\n",
    "\n",
    "gpa = stats.norm(μ, σ)\n",
    "top_5_percent_cutoff = gpa.ppf(.95)\n",
    "round(top_5_percent_cutoff, 2)"
   ]
  },
  {
   "cell_type": "code",
   "execution_count": 32,
   "id": "35ca4c97",
   "metadata": {},
   "outputs": [
    {
     "data": {
      "text/plain": [
       "2.69"
      ]
     },
     "execution_count": 32,
     "metadata": {},
     "output_type": "execute_result"
    }
   ],
   "source": [
    "bottom_15_percent_cutoff = gpa.ppf(.15)\n",
    "round(bottom_15_percent_cutoff, 2)"
   ]
  },
  {
   "cell_type": "code",
   "execution_count": 35,
   "id": "77c52463",
   "metadata": {},
   "outputs": [],
   "source": [
    "third_decile_upper = gpa.isf(0.7)\n",
    "third_decile_lower = gpa.isf(0.8)"
   ]
  },
  {
   "cell_type": "code",
   "execution_count": 39,
   "id": "4ec36baa",
   "metadata": {},
   "outputs": [
    {
     "data": {
      "text/plain": [
       "2.75"
      ]
     },
     "execution_count": 39,
     "metadata": {},
     "output_type": "execute_result"
    }
   ],
   "source": [
    "round(third_decile_lower, 2)"
   ]
  },
  {
   "cell_type": "code",
   "execution_count": 40,
   "id": "3dcce6c6",
   "metadata": {},
   "outputs": [
    {
     "data": {
      "text/plain": [
       "2.84"
      ]
     },
     "execution_count": 40,
     "metadata": {},
     "output_type": "execute_result"
    }
   ],
   "source": [
    "round(third_decile_upper, 2)"
   ]
  },
  {
   "cell_type": "code",
   "execution_count": null,
   "id": "e1257d88",
   "metadata": {},
   "outputs": [],
   "source": [
    "## A 2.8 GPA would qualify for this scholarship."
   ]
  },
  {
   "cell_type": "code",
   "execution_count": 51,
   "id": "df7df029",
   "metadata": {},
   "outputs": [],
   "source": [
    "percentile_gpa = round(gpa.cdf(3.5)*100, 2)"
   ]
  },
  {
   "cell_type": "code",
   "execution_count": 52,
   "id": "1121d666",
   "metadata": {},
   "outputs": [
    {
     "data": {
      "text/plain": [
       "95.22"
      ]
     },
     "execution_count": 52,
     "metadata": {},
     "output_type": "execute_result"
    }
   ],
   "source": [
    "percentile_gpa"
   ]
  },
  {
   "cell_type": "code",
   "execution_count": null,
   "id": "7383a8ee",
   "metadata": {},
   "outputs": [],
   "source": [
    "##Now lets solve the 2 again using simulations. "
   ]
  },
  {
   "cell_type": "code",
   "execution_count": 92,
   "id": "dff35041",
   "metadata": {},
   "outputs": [
    {
     "ename": "TypeError",
     "evalue": "type numpy.ndarray doesn't define __round__ method",
     "output_type": "error",
     "traceback": [
      "\u001b[0;31m---------------------------------------------------------------------------\u001b[0m",
      "\u001b[0;31mTypeError\u001b[0m                                 Traceback (most recent call last)",
      "\u001b[0;32m<ipython-input-92-03b99dbc5454>\u001b[0m in \u001b[0;36m<module>\u001b[0;34m\u001b[0m\n\u001b[1;32m      1\u001b[0m \u001b[0mgpa_sample\u001b[0m \u001b[0;34m=\u001b[0m \u001b[0mrandom\u001b[0m\u001b[0;34m.\u001b[0m\u001b[0mnormal\u001b[0m\u001b[0;34m(\u001b[0m\u001b[0mμ\u001b[0m\u001b[0;34m,\u001b[0m \u001b[0mσ\u001b[0m\u001b[0;34m,\u001b[0m \u001b[0msize\u001b[0m \u001b[0;34m=\u001b[0m \u001b[0;36m10_000\u001b[0m\u001b[0;34m)\u001b[0m\u001b[0;34m\u001b[0m\u001b[0;34m\u001b[0m\u001b[0m\n\u001b[0;32m----> 2\u001b[0;31m \u001b[0mgpa_sample_new\u001b[0m \u001b[0;34m=\u001b[0m \u001b[0mround\u001b[0m\u001b[0;34m(\u001b[0m\u001b[0mgpa_sample\u001b[0m\u001b[0;34m,\u001b[0m \u001b[0;36m2\u001b[0m\u001b[0;34m)\u001b[0m\u001b[0;34m\u001b[0m\u001b[0;34m\u001b[0m\u001b[0m\n\u001b[0m",
      "\u001b[0;31mTypeError\u001b[0m: type numpy.ndarray doesn't define __round__ method"
     ]
    }
   ],
   "source": [
    "gpa_sample = random.normal(μ, σ, size = 10_000)"
   ]
  },
  {
   "cell_type": "code",
   "execution_count": 89,
   "id": "0104447b",
   "metadata": {},
   "outputs": [
    {
     "data": {
      "text/html": [
       "<div>\n",
       "<style scoped>\n",
       "    .dataframe tbody tr th:only-of-type {\n",
       "        vertical-align: middle;\n",
       "    }\n",
       "\n",
       "    .dataframe tbody tr th {\n",
       "        vertical-align: top;\n",
       "    }\n",
       "\n",
       "    .dataframe thead th {\n",
       "        text-align: right;\n",
       "    }\n",
       "</style>\n",
       "<table border=\"1\" class=\"dataframe\">\n",
       "  <thead>\n",
       "    <tr style=\"text-align: right;\">\n",
       "      <th></th>\n",
       "      <th>0</th>\n",
       "    </tr>\n",
       "  </thead>\n",
       "  <tbody>\n",
       "    <tr>\n",
       "      <th>0</th>\n",
       "      <td>2.627709</td>\n",
       "    </tr>\n",
       "    <tr>\n",
       "      <th>1</th>\n",
       "      <td>2.906116</td>\n",
       "    </tr>\n",
       "    <tr>\n",
       "      <th>2</th>\n",
       "      <td>2.745316</td>\n",
       "    </tr>\n",
       "    <tr>\n",
       "      <th>3</th>\n",
       "      <td>3.713386</td>\n",
       "    </tr>\n",
       "    <tr>\n",
       "      <th>4</th>\n",
       "      <td>3.197250</td>\n",
       "    </tr>\n",
       "    <tr>\n",
       "      <th>...</th>\n",
       "      <td>...</td>\n",
       "    </tr>\n",
       "    <tr>\n",
       "      <th>9995</th>\n",
       "      <td>2.715824</td>\n",
       "    </tr>\n",
       "    <tr>\n",
       "      <th>9996</th>\n",
       "      <td>2.922417</td>\n",
       "    </tr>\n",
       "    <tr>\n",
       "      <th>9997</th>\n",
       "      <td>2.579148</td>\n",
       "    </tr>\n",
       "    <tr>\n",
       "      <th>9998</th>\n",
       "      <td>3.313362</td>\n",
       "    </tr>\n",
       "    <tr>\n",
       "      <th>9999</th>\n",
       "      <td>3.110784</td>\n",
       "    </tr>\n",
       "  </tbody>\n",
       "</table>\n",
       "<p>10000 rows × 1 columns</p>\n",
       "</div>"
      ],
      "text/plain": [
       "             0\n",
       "0     2.627709\n",
       "1     2.906116\n",
       "2     2.745316\n",
       "3     3.713386\n",
       "4     3.197250\n",
       "...        ...\n",
       "9995  2.715824\n",
       "9996  2.922417\n",
       "9997  2.579148\n",
       "9998  3.313362\n",
       "9999  3.110784\n",
       "\n",
       "[10000 rows x 1 columns]"
      ]
     },
     "execution_count": 89,
     "metadata": {},
     "output_type": "execute_result"
    }
   ],
   "source": [
    "gpa_df = pd.DataFrame(gpa_sample)\n",
    "gpa_df"
   ]
  },
  {
   "cell_type": "code",
   "execution_count": 81,
   "id": "88dcf168",
   "metadata": {},
   "outputs": [
    {
     "data": {
      "text/plain": [
       "3.496594388783535"
      ]
     },
     "execution_count": 81,
     "metadata": {},
     "output_type": "execute_result"
    }
   ],
   "source": [
    "gpa_df[0].quantile(0.95)"
   ]
  },
  {
   "cell_type": "code",
   "execution_count": 82,
   "id": "d5032625",
   "metadata": {},
   "outputs": [
    {
     "data": {
      "text/plain": [
       "2.692302745255947"
      ]
     },
     "execution_count": 82,
     "metadata": {},
     "output_type": "execute_result"
    }
   ],
   "source": [
    "gpa_df[0].quantile(0.15)"
   ]
  },
  {
   "cell_type": "code",
   "execution_count": 83,
   "id": "b43580c7",
   "metadata": {},
   "outputs": [
    {
     "data": {
      "text/plain": [
       "2.7490893009628503"
      ]
     },
     "execution_count": 83,
     "metadata": {},
     "output_type": "execute_result"
    }
   ],
   "source": [
    "gpa_df[0].quantile(0.2)"
   ]
  },
  {
   "cell_type": "code",
   "execution_count": 84,
   "id": "791f3b77",
   "metadata": {},
   "outputs": [
    {
     "data": {
      "text/plain": [
       "2.8429445488108454"
      ]
     },
     "execution_count": 84,
     "metadata": {},
     "output_type": "execute_result"
    }
   ],
   "source": [
    "gpa_df[0].quantile(0.3)"
   ]
  },
  {
   "cell_type": "code",
   "execution_count": 90,
   "id": "90d5751f",
   "metadata": {},
   "outputs": [
    {
     "data": {
      "text/html": [
       "<div>\n",
       "<style scoped>\n",
       "    .dataframe tbody tr th:only-of-type {\n",
       "        vertical-align: middle;\n",
       "    }\n",
       "\n",
       "    .dataframe tbody tr th {\n",
       "        vertical-align: top;\n",
       "    }\n",
       "\n",
       "    .dataframe thead th {\n",
       "        text-align: right;\n",
       "    }\n",
       "</style>\n",
       "<table border=\"1\" class=\"dataframe\">\n",
       "  <thead>\n",
       "    <tr style=\"text-align: right;\">\n",
       "      <th></th>\n",
       "      <th>0</th>\n",
       "      <th>Percentile Rank</th>\n",
       "    </tr>\n",
       "  </thead>\n",
       "  <tbody>\n",
       "    <tr>\n",
       "      <th>0</th>\n",
       "      <td>2.627709</td>\n",
       "      <td>0.1051</td>\n",
       "    </tr>\n",
       "    <tr>\n",
       "      <th>1</th>\n",
       "      <td>2.906116</td>\n",
       "      <td>0.3764</td>\n",
       "    </tr>\n",
       "    <tr>\n",
       "      <th>2</th>\n",
       "      <td>2.745316</td>\n",
       "      <td>0.1998</td>\n",
       "    </tr>\n",
       "    <tr>\n",
       "      <th>3</th>\n",
       "      <td>3.713386</td>\n",
       "      <td>0.9903</td>\n",
       "    </tr>\n",
       "    <tr>\n",
       "      <th>4</th>\n",
       "      <td>3.197250</td>\n",
       "      <td>0.7419</td>\n",
       "    </tr>\n",
       "    <tr>\n",
       "      <th>...</th>\n",
       "      <td>...</td>\n",
       "      <td>...</td>\n",
       "    </tr>\n",
       "    <tr>\n",
       "      <th>9995</th>\n",
       "      <td>2.715824</td>\n",
       "      <td>0.1727</td>\n",
       "    </tr>\n",
       "    <tr>\n",
       "      <th>9996</th>\n",
       "      <td>2.922417</td>\n",
       "      <td>0.3951</td>\n",
       "    </tr>\n",
       "    <tr>\n",
       "      <th>9997</th>\n",
       "      <td>2.579148</td>\n",
       "      <td>0.0769</td>\n",
       "    </tr>\n",
       "    <tr>\n",
       "      <th>9998</th>\n",
       "      <td>3.313362</td>\n",
       "      <td>0.8479</td>\n",
       "    </tr>\n",
       "    <tr>\n",
       "      <th>9999</th>\n",
       "      <td>3.110784</td>\n",
       "      <td>0.6393</td>\n",
       "    </tr>\n",
       "  </tbody>\n",
       "</table>\n",
       "<p>10000 rows × 2 columns</p>\n",
       "</div>"
      ],
      "text/plain": [
       "             0  Percentile Rank\n",
       "0     2.627709           0.1051\n",
       "1     2.906116           0.3764\n",
       "2     2.745316           0.1998\n",
       "3     3.713386           0.9903\n",
       "4     3.197250           0.7419\n",
       "...        ...              ...\n",
       "9995  2.715824           0.1727\n",
       "9996  2.922417           0.3951\n",
       "9997  2.579148           0.0769\n",
       "9998  3.313362           0.8479\n",
       "9999  3.110784           0.6393\n",
       "\n",
       "[10000 rows x 2 columns]"
      ]
     },
     "execution_count": 90,
     "metadata": {},
     "output_type": "execute_result"
    }
   ],
   "source": [
    "gpa_df['Percentile Rank'] = gpa_df[0].rank(pct = True)\n",
    "gpa_df"
   ]
  },
  {
   "cell_type": "code",
   "execution_count": 95,
   "id": "d740ece9",
   "metadata": {},
   "outputs": [],
   "source": [
    "gpa_three_five = round(gpa_df[0], 2) == 3.50"
   ]
  },
  {
   "cell_type": "code",
   "execution_count": 98,
   "id": "09a688bd",
   "metadata": {},
   "outputs": [
    {
     "data": {
      "text/plain": [
       "0.9509499999999999"
      ]
     },
     "execution_count": 98,
     "metadata": {},
     "output_type": "execute_result"
    }
   ],
   "source": [
    "gpa_df['Percentile Rank'][gpa_three_five].mean()"
   ]
  },
  {
   "cell_type": "code",
   "execution_count": 106,
   "id": "6d366958",
   "metadata": {},
   "outputs": [
    {
     "data": {
      "text/plain": [
       "0.139266219610741"
      ]
     },
     "execution_count": 106,
     "metadata": {},
     "output_type": "execute_result"
    }
   ],
   "source": [
    "clicks = stats.binom(4325, .02)\n",
    "clicks.sf(96)"
   ]
  },
  {
   "cell_type": "code",
   "execution_count": 107,
   "id": "77f51d35",
   "metadata": {},
   "outputs": [],
   "source": [
    "click_sample = random.binomial(4325, 0.02, size = 100_000)"
   ]
  },
  {
   "cell_type": "code",
   "execution_count": 108,
   "id": "460c20e0",
   "metadata": {},
   "outputs": [
    {
     "data": {
      "text/html": [
       "<div>\n",
       "<style scoped>\n",
       "    .dataframe tbody tr th:only-of-type {\n",
       "        vertical-align: middle;\n",
       "    }\n",
       "\n",
       "    .dataframe tbody tr th {\n",
       "        vertical-align: top;\n",
       "    }\n",
       "\n",
       "    .dataframe thead th {\n",
       "        text-align: right;\n",
       "    }\n",
       "</style>\n",
       "<table border=\"1\" class=\"dataframe\">\n",
       "  <thead>\n",
       "    <tr style=\"text-align: right;\">\n",
       "      <th></th>\n",
       "      <th>0</th>\n",
       "    </tr>\n",
       "  </thead>\n",
       "  <tbody>\n",
       "    <tr>\n",
       "      <th>0</th>\n",
       "      <td>91</td>\n",
       "    </tr>\n",
       "    <tr>\n",
       "      <th>1</th>\n",
       "      <td>91</td>\n",
       "    </tr>\n",
       "    <tr>\n",
       "      <th>2</th>\n",
       "      <td>92</td>\n",
       "    </tr>\n",
       "    <tr>\n",
       "      <th>3</th>\n",
       "      <td>73</td>\n",
       "    </tr>\n",
       "    <tr>\n",
       "      <th>4</th>\n",
       "      <td>91</td>\n",
       "    </tr>\n",
       "    <tr>\n",
       "      <th>...</th>\n",
       "      <td>...</td>\n",
       "    </tr>\n",
       "    <tr>\n",
       "      <th>99995</th>\n",
       "      <td>90</td>\n",
       "    </tr>\n",
       "    <tr>\n",
       "      <th>99996</th>\n",
       "      <td>90</td>\n",
       "    </tr>\n",
       "    <tr>\n",
       "      <th>99997</th>\n",
       "      <td>83</td>\n",
       "    </tr>\n",
       "    <tr>\n",
       "      <th>99998</th>\n",
       "      <td>100</td>\n",
       "    </tr>\n",
       "    <tr>\n",
       "      <th>99999</th>\n",
       "      <td>98</td>\n",
       "    </tr>\n",
       "  </tbody>\n",
       "</table>\n",
       "<p>100000 rows × 1 columns</p>\n",
       "</div>"
      ],
      "text/plain": [
       "         0\n",
       "0       91\n",
       "1       91\n",
       "2       92\n",
       "3       73\n",
       "4       91\n",
       "...    ...\n",
       "99995   90\n",
       "99996   90\n",
       "99997   83\n",
       "99998  100\n",
       "99999   98\n",
       "\n",
       "[100000 rows x 1 columns]"
      ]
     },
     "execution_count": 108,
     "metadata": {},
     "output_type": "execute_result"
    }
   ],
   "source": [
    "click_pd = pd.DataFrame(click_sample)\n",
    "click_pd"
   ]
  },
  {
   "cell_type": "code",
   "execution_count": 109,
   "id": "8b4cc7cb",
   "metadata": {},
   "outputs": [
    {
     "data": {
      "text/plain": [
       "0.13862"
      ]
     },
     "execution_count": 109,
     "metadata": {},
     "output_type": "execute_result"
    }
   ],
   "source": [
    "ninety_seven_or_more = click_pd[0] >= 97\n",
    "ninety_seven_or_more.mean()"
   ]
  },
  {
   "cell_type": "code",
   "execution_count": 54,
   "id": "7de1ab1c",
   "metadata": {},
   "outputs": [],
   "source": [
    "homework = stats.binom(60, 0.99)"
   ]
  },
  {
   "cell_type": "code",
   "execution_count": 55,
   "id": "f8cca8e1",
   "metadata": {},
   "outputs": [
    {
     "data": {
      "text/plain": [
       "0.4528433576092388"
      ]
     },
     "execution_count": 55,
     "metadata": {},
     "output_type": "execute_result"
    }
   ],
   "source": [
    "homework.cdf(59)"
   ]
  },
  {
   "cell_type": "code",
   "execution_count": 113,
   "id": "f5e925c4",
   "metadata": {},
   "outputs": [],
   "source": [
    "homework_sample = random.binomial(60, 0.01, 100_000)"
   ]
  },
  {
   "cell_type": "code",
   "execution_count": 114,
   "id": "95a47c88",
   "metadata": {},
   "outputs": [],
   "source": [
    "homework_pd = pd.DataFrame(homework_sample)"
   ]
  },
  {
   "cell_type": "code",
   "execution_count": 115,
   "id": "a5aea8bc",
   "metadata": {},
   "outputs": [
    {
     "data": {
      "text/html": [
       "<div>\n",
       "<style scoped>\n",
       "    .dataframe tbody tr th:only-of-type {\n",
       "        vertical-align: middle;\n",
       "    }\n",
       "\n",
       "    .dataframe tbody tr th {\n",
       "        vertical-align: top;\n",
       "    }\n",
       "\n",
       "    .dataframe thead th {\n",
       "        text-align: right;\n",
       "    }\n",
       "</style>\n",
       "<table border=\"1\" class=\"dataframe\">\n",
       "  <thead>\n",
       "    <tr style=\"text-align: right;\">\n",
       "      <th></th>\n",
       "      <th>0</th>\n",
       "    </tr>\n",
       "  </thead>\n",
       "  <tbody>\n",
       "    <tr>\n",
       "      <th>0</th>\n",
       "      <td>1</td>\n",
       "    </tr>\n",
       "    <tr>\n",
       "      <th>1</th>\n",
       "      <td>0</td>\n",
       "    </tr>\n",
       "    <tr>\n",
       "      <th>2</th>\n",
       "      <td>2</td>\n",
       "    </tr>\n",
       "    <tr>\n",
       "      <th>3</th>\n",
       "      <td>0</td>\n",
       "    </tr>\n",
       "    <tr>\n",
       "      <th>4</th>\n",
       "      <td>1</td>\n",
       "    </tr>\n",
       "    <tr>\n",
       "      <th>...</th>\n",
       "      <td>...</td>\n",
       "    </tr>\n",
       "    <tr>\n",
       "      <th>99995</th>\n",
       "      <td>1</td>\n",
       "    </tr>\n",
       "    <tr>\n",
       "      <th>99996</th>\n",
       "      <td>1</td>\n",
       "    </tr>\n",
       "    <tr>\n",
       "      <th>99997</th>\n",
       "      <td>0</td>\n",
       "    </tr>\n",
       "    <tr>\n",
       "      <th>99998</th>\n",
       "      <td>1</td>\n",
       "    </tr>\n",
       "    <tr>\n",
       "      <th>99999</th>\n",
       "      <td>0</td>\n",
       "    </tr>\n",
       "  </tbody>\n",
       "</table>\n",
       "<p>100000 rows × 1 columns</p>\n",
       "</div>"
      ],
      "text/plain": [
       "       0\n",
       "0      1\n",
       "1      0\n",
       "2      2\n",
       "3      0\n",
       "4      1\n",
       "...   ..\n",
       "99995  1\n",
       "99996  1\n",
       "99997  0\n",
       "99998  1\n",
       "99999  0\n",
       "\n",
       "[100000 rows x 1 columns]"
      ]
     },
     "execution_count": 115,
     "metadata": {},
     "output_type": "execute_result"
    }
   ],
   "source": [
    "homework_pd"
   ]
  },
  {
   "cell_type": "code",
   "execution_count": 116,
   "id": "249d6b3e",
   "metadata": {},
   "outputs": [
    {
     "data": {
      "text/plain": [
       "0.45105"
      ]
     },
     "execution_count": 116,
     "metadata": {},
     "output_type": "execute_result"
    }
   ],
   "source": [
    "at_least_one = homework_pd[0] > 0\n",
    "at_least_one.mean()"
   ]
  },
  {
   "cell_type": "code",
   "execution_count": 5,
   "id": "c8e76da1",
   "metadata": {},
   "outputs": [],
   "source": [
    "breakroom_one_day = stats.binom(66, .03)"
   ]
  },
  {
   "cell_type": "code",
   "execution_count": 80,
   "id": "fa92178f",
   "metadata": {},
   "outputs": [
    {
     "data": {
      "text/plain": [
       "0.8660525464991433"
      ]
     },
     "execution_count": 80,
     "metadata": {},
     "output_type": "execute_result"
    }
   ],
   "source": [
    "#The probability that at least one student cleans up the breakroom on one day. \n",
    "breakroom_one_day.sf(0)"
   ]
  },
  {
   "cell_type": "code",
   "execution_count": 15,
   "id": "419eb6b1",
   "metadata": {},
   "outputs": [],
   "source": [
    "breakroom_two_day = stats.binom(66*2, 0.03)"
   ]
  },
  {
   "cell_type": "code",
   "execution_count": 16,
   "id": "8bc60fbc",
   "metadata": {},
   "outputs": [
    {
     "data": {
      "text/plain": [
       "0.017941920299364183"
      ]
     },
     "execution_count": 16,
     "metadata": {},
     "output_type": "execute_result"
    }
   ],
   "source": [
    "#Chances the breakroom goes two days without being cleaned up. \n",
    "breakroom_two_day.cdf(0)"
   ]
  },
  {
   "cell_type": "code",
   "execution_count": 17,
   "id": "23558572",
   "metadata": {},
   "outputs": [],
   "source": [
    "breakroom_week = stats.binom(66*7, 0.03)"
   ]
  },
  {
   "cell_type": "code",
   "execution_count": 18,
   "id": "896a3093",
   "metadata": {},
   "outputs": [
    {
     "data": {
      "text/plain": [
       "7.736441234352279e-07"
      ]
     },
     "execution_count": 18,
     "metadata": {},
     "output_type": "execute_result"
    }
   ],
   "source": [
    "breakroom_week.cdf(0)"
   ]
  },
  {
   "cell_type": "code",
   "execution_count": 117,
   "id": "cd08ae55",
   "metadata": {},
   "outputs": [],
   "source": [
    "breakroom_sample = random.binomial(66, .03, 100_000)"
   ]
  },
  {
   "cell_type": "code",
   "execution_count": null,
   "id": "608de1c3",
   "metadata": {},
   "outputs": [],
   "source": []
  },
  {
   "cell_type": "code",
   "execution_count": null,
   "id": "fec2361b",
   "metadata": {},
   "outputs": [],
   "source": [
    "##There is a very small chance, 7.74*10^-7 that the breakroom will go a whole week without someone cleaning it up."
   ]
  },
  {
   "cell_type": "code",
   "execution_count": 19,
   "id": "5745516e",
   "metadata": {},
   "outputs": [
    {
     "ename": "SyntaxError",
     "evalue": "invalid syntax (<ipython-input-19-308c8f5d975b>, line 1)",
     "output_type": "error",
     "traceback": [
      "\u001b[0;36m  File \u001b[0;32m\"<ipython-input-19-308c8f5d975b>\"\u001b[0;36m, line \u001b[0;32m1\u001b[0m\n\u001b[0;31m    2x+10+15 = 60\u001b[0m\n\u001b[0m     ^\u001b[0m\n\u001b[0;31mSyntaxError\u001b[0m\u001b[0;31m:\u001b[0m invalid syntax\n"
     ]
    }
   ],
   "source": [
    "##2x + 10 + 15 = 60 \n",
    "# 2x + 25 = 60\n",
    "# 2x = 60 - 25 \n",
    "# 2x = 35\n",
    "# x = 35 / 2 \n",
    "# x = 17.5\n",
    "# There can be a maximum of 16 customers in line, because it also takes us two minutes to order. "
   ]
  },
  {
   "cell_type": "code",
   "execution_count": 22,
   "id": "8df25f5c",
   "metadata": {},
   "outputs": [],
   "source": [
    "μ = 15.0\n",
    "σ = 3.0\n",
    "\n",
    "customers_in_line = stats.norm(μ, σ)"
   ]
  },
  {
   "cell_type": "code",
   "execution_count": 68,
   "id": "2c6a1921",
   "metadata": {},
   "outputs": [
    {
     "data": {
      "text/plain": [
       "0.6305586598182363"
      ]
     },
     "execution_count": 68,
     "metadata": {},
     "output_type": "execute_result"
    }
   ],
   "source": [
    "customers_in_line.cdf(16)"
   ]
  },
  {
   "cell_type": "code",
   "execution_count": null,
   "id": "e2717df2",
   "metadata": {},
   "outputs": [],
   "source": [
    "##There is a 0.63 chance we will have enough time to eat our lunch. "
   ]
  },
  {
   "cell_type": "code",
   "execution_count": 27,
   "id": "0a62b067",
   "metadata": {},
   "outputs": [
    {
     "ename": "ModuleNotFoundError",
     "evalue": "No module named 'env'",
     "output_type": "error",
     "traceback": [
      "\u001b[0;31m---------------------------------------------------------------------------\u001b[0m",
      "\u001b[0;31mModuleNotFoundError\u001b[0m                       Traceback (most recent call last)",
      "\u001b[0;32m<ipython-input-27-5a7b839f288e>\u001b[0m in \u001b[0;36m<module>\u001b[0;34m\u001b[0m\n\u001b[0;32m----> 1\u001b[0;31m \u001b[0;32mfrom\u001b[0m \u001b[0menv\u001b[0m \u001b[0;32mimport\u001b[0m \u001b[0mhost\u001b[0m\u001b[0;34m,\u001b[0m \u001b[0muser\u001b[0m\u001b[0;34m,\u001b[0m \u001b[0mpassword\u001b[0m\u001b[0;34m\u001b[0m\u001b[0;34m\u001b[0m\u001b[0m\n\u001b[0m\u001b[1;32m      2\u001b[0m \u001b[0;32mdef\u001b[0m \u001b[0mget_db_url\u001b[0m\u001b[0;34m(\u001b[0m\u001b[0mhost\u001b[0m\u001b[0;34m,\u001b[0m \u001b[0muser\u001b[0m\u001b[0;34m,\u001b[0m \u001b[0mpassword\u001b[0m\u001b[0;34m,\u001b[0m \u001b[0mdatabase\u001b[0m\u001b[0;34m)\u001b[0m\u001b[0;34m:\u001b[0m\u001b[0;34m\u001b[0m\u001b[0;34m\u001b[0m\u001b[0m\n\u001b[1;32m      3\u001b[0m     \u001b[0murl\u001b[0m \u001b[0;34m=\u001b[0m \u001b[0;34mf'mysql+pymysql://{user}:{password}@{host}/{database}'\u001b[0m\u001b[0;34m\u001b[0m\u001b[0;34m\u001b[0m\u001b[0m\n\u001b[1;32m      4\u001b[0m     \u001b[0;32mreturn\u001b[0m \u001b[0murl\u001b[0m\u001b[0;34m\u001b[0m\u001b[0;34m\u001b[0m\u001b[0m\n",
      "\u001b[0;31mModuleNotFoundError\u001b[0m: No module named 'env'"
     ]
    }
   ],
   "source": [
    "from env import host, user, password\n",
    "def get_db_url(host, user, password, database):\n",
    "    url = f'mysql+pymysql://{user}:{password}@{host}/{database}'\n",
    "    return url"
   ]
  },
  {
   "cell_type": "code",
   "execution_count": null,
   "id": "099c4a41",
   "metadata": {},
   "outputs": [],
   "source": []
  },
  {
   "cell_type": "code",
   "execution_count": null,
   "id": "61aa9391",
   "metadata": {},
   "outputs": [],
   "source": []
  }
 ],
 "metadata": {
  "kernelspec": {
   "display_name": "Python 3",
   "language": "python",
   "name": "python3"
  },
  "language_info": {
   "codemirror_mode": {
    "name": "ipython",
    "version": 3
   },
   "file_extension": ".py",
   "mimetype": "text/x-python",
   "name": "python",
   "nbconvert_exporter": "python",
   "pygments_lexer": "ipython3",
   "version": "3.8.8"
  }
 },
 "nbformat": 4,
 "nbformat_minor": 5
}
