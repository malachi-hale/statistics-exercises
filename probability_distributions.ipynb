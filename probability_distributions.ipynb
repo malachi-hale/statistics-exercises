{
 "cells": [
  {
   "cell_type": "code",
   "execution_count": 2,
   "id": "d95037dc",
   "metadata": {},
   "outputs": [],
   "source": [
    "import matplotlib.pyplot as plt\n",
    "import numpy as np\n",
    "from scipy import stats\n",
    "from pydataset import data\n",
    "from numpy import random\n",
    "import seaborn as sns\n",
    "import pandas as pd\n",
    "\n",
    "np.random.seed(123)"
   ]
  },
  {
   "cell_type": "markdown",
   "id": "c8601347",
   "metadata": {},
   "source": [
    "# 1.  A bank found that the average number of cars waiting during the noon hour at a drive-up window follows a Poisson distribution with a mean of 2 cars. Make a chart of this distribution and answer these questions concerning the probability of cars waiting at the drive-up window."
   ]
  },
  {
   "cell_type": "code",
   "execution_count": 26,
   "id": "2a762ffd",
   "metadata": {},
   "outputs": [
    {
     "data": {
      "text/plain": [
       "Text(0.5, 0, 'Cars in drive thru')"
      ]
     },
     "execution_count": 26,
     "metadata": {},
     "output_type": "execute_result"
    },
    {
     "data": {
      "image/png": "[encoded data removed]",
      "text/plain": [
       "<Figure size 648x432 with 1 Axes>"
      ]
     },
     "metadata": {
      "needs_background": "light"
     },
     "output_type": "display_data"
    }
   ],
   "source": [
    "#1\n",
    "x = range(16)\n",
    "y = stats.poisson(2).pmf(x)\n",
    "\n",
    "plt.figure(figsize=(9, 6))\n",
    "plt.bar(x, y, edgecolor='black', color='white', width=1)\n",
    "plt.xticks(x)\n",
    "plt.ylabel('P(X = x)')\n",
    "plt.xlabel('Cars in drive thru')"
   ]
  },
  {
   "cell_type": "markdown",
   "id": "0b058681",
   "metadata": {},
   "source": [
    "## What is the probability that no cars drive up in the noon hour?\n"
   ]
  },
  {
   "cell_type": "code",
   "execution_count": 22,
   "id": "71ee6fa3",
   "metadata": {},
   "outputs": [
    {
     "data": {
      "text/plain": [
       "0.1353352832366127"
      ]
     },
     "execution_count": 22,
     "metadata": {},
     "output_type": "execute_result"
    }
   ],
   "source": [
    "one_a = stats.poisson(2).pmf(0)\n",
    "one_a"
   ]
  },
  {
   "cell_type": "markdown",
   "id": "79aba279",
   "metadata": {},
   "source": [
    "## What is the probability that 3 or more cars come through the drive through?\n"
   ]
  },
  {
   "cell_type": "code",
   "execution_count": 60,
   "id": "92a0e08e",
   "metadata": {},
   "outputs": [
    {
     "data": {
      "text/plain": [
       "0.32332358381693654"
      ]
     },
     "execution_count": 60,
     "metadata": {},
     "output_type": "execute_result"
    }
   ],
   "source": [
    "one_b = stats.poisson(2).sf(2)\n",
    "one_b"
   ]
  },
  {
   "cell_type": "markdown",
   "id": "4c7ac68c",
   "metadata": {},
   "source": [
    "## How likely is it that the drive through gets at least 1 car?\n"
   ]
  },
  {
   "cell_type": "code",
   "execution_count": 62,
   "id": "e306bc00",
   "metadata": {},
   "outputs": [
    {
     "data": {
      "text/plain": [
       "0.8646647167633873"
      ]
     },
     "execution_count": 62,
     "metadata": {},
     "output_type": "execute_result"
    }
   ],
   "source": [
    "one_c = stats.poisson(2).sf(0)\n",
    "one_c"
   ]
  },
  {
   "cell_type": "markdown",
   "id": "a4dc253f",
   "metadata": {},
   "source": [
    "## Now let's redo this question using a simulation rather than a probability distribution. \n",
    "\n"
   ]
  },
  {
   "cell_type": "code",
   "execution_count": 42,
   "id": "80808350",
   "metadata": {},
   "outputs": [],
   "source": [
    "poisson_sample = random.poisson(lam = 2, size = 10_000)"
   ]
  },
  {
   "cell_type": "code",
   "execution_count": 48,
   "id": "e7f25c55",
   "metadata": {},
   "outputs": [
    {
     "data": {
      "text/plain": [
       "<AxesSubplot:>"
      ]
     },
     "execution_count": 48,
     "metadata": {},
     "output_type": "execute_result"
    },
    {
     "data": {
      "image/png": "[encoded data removed]",
      "text/plain": [
       "<Figure size 432x288 with 1 Axes>"
      ]
     },
     "metadata": {
      "needs_background": "light"
     },
     "output_type": "display_data"
    }
   ],
   "source": [
    "\n",
    "sns.distplot(poisson_sample, kde = False, bins = 25)"
   ]
  },
  {
   "cell_type": "code",
   "execution_count": 52,
   "id": "c6420532",
   "metadata": {},
   "outputs": [
    {
     "data": {
      "text/html": [
       "<div>\n",
       "<style scoped>\n",
       "    .dataframe tbody tr th:only-of-type {\n",
       "        vertical-align: middle;\n",
       "    }\n",
       "\n",
       "    .dataframe tbody tr th {\n",
       "        vertical-align: top;\n",
       "    }\n",
       "\n",
       "    .dataframe thead th {\n",
       "        text-align: right;\n",
       "    }\n",
       "</style>\n",
       "<table border=\"1\" class=\"dataframe\">\n",
       "  <thead>\n",
       "    <tr style=\"text-align: right;\">\n",
       "      <th></th>\n",
       "      <th>0</th>\n",
       "    </tr>\n",
       "  </thead>\n",
       "  <tbody>\n",
       "    <tr>\n",
       "      <th>0</th>\n",
       "      <td>2</td>\n",
       "    </tr>\n",
       "    <tr>\n",
       "      <th>1</th>\n",
       "      <td>4</td>\n",
       "    </tr>\n",
       "    <tr>\n",
       "      <th>2</th>\n",
       "      <td>2</td>\n",
       "    </tr>\n",
       "    <tr>\n",
       "      <th>3</th>\n",
       "      <td>2</td>\n",
       "    </tr>\n",
       "    <tr>\n",
       "      <th>4</th>\n",
       "      <td>2</td>\n",
       "    </tr>\n",
       "    <tr>\n",
       "      <th>...</th>\n",
       "      <td>...</td>\n",
       "    </tr>\n",
       "    <tr>\n",
       "      <th>9995</th>\n",
       "      <td>2</td>\n",
       "    </tr>\n",
       "    <tr>\n",
       "      <th>9996</th>\n",
       "      <td>5</td>\n",
       "    </tr>\n",
       "    <tr>\n",
       "      <th>9997</th>\n",
       "      <td>1</td>\n",
       "    </tr>\n",
       "    <tr>\n",
       "      <th>9998</th>\n",
       "      <td>2</td>\n",
       "    </tr>\n",
       "    <tr>\n",
       "      <th>9999</th>\n",
       "      <td>5</td>\n",
       "    </tr>\n",
       "  </tbody>\n",
       "</table>\n",
       "<p>10000 rows × 1 columns</p>\n",
       "</div>"
      ],
      "text/plain": [
       "      0\n",
       "0     2\n",
       "1     4\n",
       "2     2\n",
       "3     2\n",
       "4     2\n",
       "...  ..\n",
       "9995  2\n",
       "9996  5\n",
       "9997  1\n",
       "9998  2\n",
       "9999  5\n",
       "\n",
       "[10000 rows x 1 columns]"
      ]
     },
     "execution_count": 52,
     "metadata": {},
     "output_type": "execute_result"
    }
   ],
   "source": [
    "cars_at_noon = pd.DataFrame(poisson_sample)\n",
    "cars_at_noon"
   ]
  },
  {
   "cell_type": "code",
   "execution_count": 55,
   "id": "b08688f9",
   "metadata": {},
   "outputs": [],
   "source": [
    "no_cars = cars_at_noon[0] == 0"
   ]
  },
  {
   "cell_type": "code",
   "execution_count": 56,
   "id": "5997f9ff",
   "metadata": {},
   "outputs": [
    {
     "data": {
      "text/plain": [
       "0.1353"
      ]
     },
     "execution_count": 56,
     "metadata": {},
     "output_type": "execute_result"
    }
   ],
   "source": [
    "no_cars.mean()"
   ]
  },
  {
   "cell_type": "markdown",
   "id": "5a0cb33e",
   "metadata": {},
   "source": [
    "### There is a 0.1353 chance that no cars drive up at noon. "
   ]
  },
  {
   "cell_type": "code",
   "execution_count": 57,
   "id": "4d69ddb0",
   "metadata": {},
   "outputs": [],
   "source": [
    "three_or_more_cars = cars_at_noon[0] >= 3"
   ]
  },
  {
   "cell_type": "code",
   "execution_count": 58,
   "id": "2cc0bac0",
   "metadata": {},
   "outputs": [
    {
     "data": {
      "text/plain": [
       "0.322"
      ]
     },
     "execution_count": 58,
     "metadata": {},
     "output_type": "execute_result"
    }
   ],
   "source": [
    "three_or_more_cars.mean()"
   ]
  },
  {
   "cell_type": "markdown",
   "id": "b7affb6e",
   "metadata": {},
   "source": [
    "### There is a 0.322 chance that three or more cars drive up at noon. "
   ]
  },
  {
   "cell_type": "code",
   "execution_count": 63,
   "id": "6d8593c0",
   "metadata": {},
   "outputs": [],
   "source": [
    "at_least_one_car = cars_at_noon[0] > 0"
   ]
  },
  {
   "cell_type": "code",
   "execution_count": 64,
   "id": "96428633",
   "metadata": {},
   "outputs": [
    {
     "data": {
      "text/plain": [
       "0.8647"
      ]
     },
     "execution_count": 64,
     "metadata": {},
     "output_type": "execute_result"
    }
   ],
   "source": [
    "at_least_one_car.mean()"
   ]
  },
  {
   "cell_type": "markdown",
   "id": "f6d6b253",
   "metadata": {},
   "source": [
    "### There is a 0.8647 chance that at least one car will show up at noon. "
   ]
  },
  {
   "cell_type": "markdown",
   "id": "821aa223",
   "metadata": {},
   "source": [
    "# 2"
   ]
  },
  {
   "cell_type": "markdown",
   "id": "381fc6bb",
   "metadata": {},
   "source": [
    "# Grades of State University graduates are normally distributed with a mean of 3.0 and a standard deviation of .3. What grade point average is required to be in the top 5% of the graduating class?"
   ]
  },
  {
   "cell_type": "code",
   "execution_count": 4,
   "id": "2c1e0a16",
   "metadata": {},
   "outputs": [
    {
     "data": {
      "text/plain": [
       "3.49"
      ]
     },
     "execution_count": 4,
     "metadata": {},
     "output_type": "execute_result"
    }
   ],
   "source": [
    "μ = 3.0\n",
    "σ = .3\n",
    "\n",
    "gpa = stats.norm(μ, σ)\n",
    "top_5_percent_cutoff = gpa.ppf(.95)\n",
    "round(top_5_percent_cutoff, 2)"
   ]
  },
  {
   "cell_type": "markdown",
   "id": "130ced86",
   "metadata": {},
   "source": [
    "## What GPA constitutes the bottom 15% of the class?\n"
   ]
  },
  {
   "cell_type": "code",
   "execution_count": 32,
   "id": "35ca4c97",
   "metadata": {},
   "outputs": [
    {
     "data": {
      "text/plain": [
       "2.69"
      ]
     },
     "execution_count": 32,
     "metadata": {},
     "output_type": "execute_result"
    }
   ],
   "source": [
    "bottom_15_percent_cutoff = gpa.ppf(.15)\n",
    "round(bottom_15_percent_cutoff, 2)"
   ]
  },
  {
   "cell_type": "markdown",
   "id": "3443e926",
   "metadata": {},
   "source": [
    "## An eccentric alumnus left scholarship money for students in the third decile from the bottom of their class. Determine the range of the third decile. Would a student with a 2.8 grade point average qualify for this scholarship?"
   ]
  },
  {
   "cell_type": "code",
   "execution_count": 35,
   "id": "77c52463",
   "metadata": {},
   "outputs": [],
   "source": [
    "third_decile_upper = gpa.isf(0.7)\n",
    "third_decile_lower = gpa.isf(0.8)"
   ]
  },
  {
   "cell_type": "code",
   "execution_count": 39,
   "id": "4ec36baa",
   "metadata": {},
   "outputs": [
    {
     "data": {
      "text/plain": [
       "2.75"
      ]
     },
     "execution_count": 39,
     "metadata": {},
     "output_type": "execute_result"
    }
   ],
   "source": [
    "round(third_decile_lower, 2)"
   ]
  },
  {
   "cell_type": "code",
   "execution_count": 40,
   "id": "3dcce6c6",
   "metadata": {},
   "outputs": [
    {
     "data": {
      "text/plain": [
       "2.84"
      ]
     },
     "execution_count": 40,
     "metadata": {},
     "output_type": "execute_result"
    }
   ],
   "source": [
    "round(third_decile_upper, 2)"
   ]
  },
  {
   "cell_type": "markdown",
   "id": "704dc9bd",
   "metadata": {},
   "source": [
    "### A 2.8 GPA would qualify for this scholarship."
   ]
  },
  {
   "cell_type": "markdown",
   "id": "4b6bcfa3",
   "metadata": {},
   "source": [
    "## If I have a GPA of 3.5, what percentile am I in?"
   ]
  },
  {
   "cell_type": "code",
   "execution_count": 51,
   "id": "df7df029",
   "metadata": {},
   "outputs": [],
   "source": [
    "percentile_gpa = round(gpa.cdf(3.5)*100, 2)"
   ]
  },
  {
   "cell_type": "code",
   "execution_count": 52,
   "id": "1121d666",
   "metadata": {},
   "outputs": [
    {
     "data": {
      "text/plain": [
       "95.22"
      ]
     },
     "execution_count": 52,
     "metadata": {},
     "output_type": "execute_result"
    }
   ],
   "source": [
    "percentile_gpa"
   ]
  },
  {
   "cell_type": "markdown",
   "id": "ad69501e",
   "metadata": {},
   "source": [
    "### Now lets solve exercise 2 again using simulations. "
   ]
  },
  {
   "cell_type": "code",
   "execution_count": 5,
   "id": "dff35041",
   "metadata": {},
   "outputs": [],
   "source": [
    "gpa_sample = random.normal(μ, σ, size = 10_000)"
   ]
  },
  {
   "cell_type": "code",
   "execution_count": 89,
   "id": "0104447b",
   "metadata": {},
   "outputs": [
    {
     "data": {
      "text/html": [
       "<div>\n",
       "<style scoped>\n",
       "    .dataframe tbody tr th:only-of-type {\n",
       "        vertical-align: middle;\n",
       "    }\n",
       "\n",
       "    .dataframe tbody tr th {\n",
       "        vertical-align: top;\n",
       "    }\n",
       "\n",
       "    .dataframe thead th {\n",
       "        text-align: right;\n",
       "    }\n",
       "</style>\n",
       "<table border=\"1\" class=\"dataframe\">\n",
       "  <thead>\n",
       "    <tr style=\"text-align: right;\">\n",
       "      <th></th>\n",
       "      <th>0</th>\n",
       "    </tr>\n",
       "  </thead>\n",
       "  <tbody>\n",
       "    <tr>\n",
       "      <th>0</th>\n",
       "      <td>2.627709</td>\n",
       "    </tr>\n",
       "    <tr>\n",
       "      <th>1</th>\n",
       "      <td>2.906116</td>\n",
       "    </tr>\n",
       "    <tr>\n",
       "      <th>2</th>\n",
       "      <td>2.745316</td>\n",
       "    </tr>\n",
       "    <tr>\n",
       "      <th>3</th>\n",
       "      <td>3.713386</td>\n",
       "    </tr>\n",
       "    <tr>\n",
       "      <th>4</th>\n",
       "      <td>3.197250</td>\n",
       "    </tr>\n",
       "    <tr>\n",
       "      <th>...</th>\n",
       "      <td>...</td>\n",
       "    </tr>\n",
       "    <tr>\n",
       "      <th>9995</th>\n",
       "      <td>2.715824</td>\n",
       "    </tr>\n",
       "    <tr>\n",
       "      <th>9996</th>\n",
       "      <td>2.922417</td>\n",
       "    </tr>\n",
       "    <tr>\n",
       "      <th>9997</th>\n",
       "      <td>2.579148</td>\n",
       "    </tr>\n",
       "    <tr>\n",
       "      <th>9998</th>\n",
       "      <td>3.313362</td>\n",
       "    </tr>\n",
       "    <tr>\n",
       "      <th>9999</th>\n",
       "      <td>3.110784</td>\n",
       "    </tr>\n",
       "  </tbody>\n",
       "</table>\n",
       "<p>10000 rows × 1 columns</p>\n",
       "</div>"
      ],
      "text/plain": [
       "             0\n",
       "0     2.627709\n",
       "1     2.906116\n",
       "2     2.745316\n",
       "3     3.713386\n",
       "4     3.197250\n",
       "...        ...\n",
       "9995  2.715824\n",
       "9996  2.922417\n",
       "9997  2.579148\n",
       "9998  3.313362\n",
       "9999  3.110784\n",
       "\n",
       "[10000 rows x 1 columns]"
      ]
     },
     "execution_count": 89,
     "metadata": {},
     "output_type": "execute_result"
    }
   ],
   "source": [
    "gpa_df = pd.DataFrame(gpa_sample)\n",
    "gpa_df"
   ]
  },
  {
   "cell_type": "code",
   "execution_count": 81,
   "id": "88dcf168",
   "metadata": {},
   "outputs": [
    {
     "data": {
      "text/plain": [
       "3.496594388783535"
      ]
     },
     "execution_count": 81,
     "metadata": {},
     "output_type": "execute_result"
    }
   ],
   "source": [
    "gpa_df[0].quantile(0.95)"
   ]
  },
  {
   "cell_type": "code",
   "execution_count": 82,
   "id": "d5032625",
   "metadata": {},
   "outputs": [
    {
     "data": {
      "text/plain": [
       "2.692302745255947"
      ]
     },
     "execution_count": 82,
     "metadata": {},
     "output_type": "execute_result"
    }
   ],
   "source": [
    "gpa_df[0].quantile(0.15)"
   ]
  },
  {
   "cell_type": "code",
   "execution_count": 83,
   "id": "b43580c7",
   "metadata": {},
   "outputs": [
    {
     "data": {
      "text/plain": [
       "2.7490893009628503"
      ]
     },
     "execution_count": 83,
     "metadata": {},
     "output_type": "execute_result"
    }
   ],
   "source": [
    "gpa_df[0].quantile(0.2)"
   ]
  },
  {
   "cell_type": "code",
   "execution_count": 84,
   "id": "791f3b77",
   "metadata": {},
   "outputs": [
    {
     "data": {
      "text/plain": [
       "2.8429445488108454"
      ]
     },
     "execution_count": 84,
     "metadata": {},
     "output_type": "execute_result"
    }
   ],
   "source": [
    "gpa_df[0].quantile(0.3)"
   ]
  },
  {
   "cell_type": "code",
   "execution_count": 90,
   "id": "90d5751f",
   "metadata": {},
   "outputs": [
    {
     "data": {
      "text/html": [
       "<div>\n",
       "<style scoped>\n",
       "    .dataframe tbody tr th:only-of-type {\n",
       "        vertical-align: middle;\n",
       "    }\n",
       "\n",
       "    .dataframe tbody tr th {\n",
       "        vertical-align: top;\n",
       "    }\n",
       "\n",
       "    .dataframe thead th {\n",
       "        text-align: right;\n",
       "    }\n",
       "</style>\n",
       "<table border=\"1\" class=\"dataframe\">\n",
       "  <thead>\n",
       "    <tr style=\"text-align: right;\">\n",
       "      <th></th>\n",
       "      <th>0</th>\n",
       "      <th>Percentile Rank</th>\n",
       "    </tr>\n",
       "  </thead>\n",
       "  <tbody>\n",
       "    <tr>\n",
       "      <th>0</th>\n",
       "      <td>2.627709</td>\n",
       "      <td>0.1051</td>\n",
       "    </tr>\n",
       "    <tr>\n",
       "      <th>1</th>\n",
       "      <td>2.906116</td>\n",
       "      <td>0.3764</td>\n",
       "    </tr>\n",
       "    <tr>\n",
       "      <th>2</th>\n",
       "      <td>2.745316</td>\n",
       "      <td>0.1998</td>\n",
       "    </tr>\n",
       "    <tr>\n",
       "      <th>3</th>\n",
       "      <td>3.713386</td>\n",
       "      <td>0.9903</td>\n",
       "    </tr>\n",
       "    <tr>\n",
       "      <th>4</th>\n",
       "      <td>3.197250</td>\n",
       "      <td>0.7419</td>\n",
       "    </tr>\n",
       "    <tr>\n",
       "      <th>...</th>\n",
       "      <td>...</td>\n",
       "      <td>...</td>\n",
       "    </tr>\n",
       "    <tr>\n",
       "      <th>9995</th>\n",
       "      <td>2.715824</td>\n",
       "      <td>0.1727</td>\n",
       "    </tr>\n",
       "    <tr>\n",
       "      <th>9996</th>\n",
       "      <td>2.922417</td>\n",
       "      <td>0.3951</td>\n",
       "    </tr>\n",
       "    <tr>\n",
       "      <th>9997</th>\n",
       "      <td>2.579148</td>\n",
       "      <td>0.0769</td>\n",
       "    </tr>\n",
       "    <tr>\n",
       "      <th>9998</th>\n",
       "      <td>3.313362</td>\n",
       "      <td>0.8479</td>\n",
       "    </tr>\n",
       "    <tr>\n",
       "      <th>9999</th>\n",
       "      <td>3.110784</td>\n",
       "      <td>0.6393</td>\n",
       "    </tr>\n",
       "  </tbody>\n",
       "</table>\n",
       "<p>10000 rows × 2 columns</p>\n",
       "</div>"
      ],
      "text/plain": [
       "             0  Percentile Rank\n",
       "0     2.627709           0.1051\n",
       "1     2.906116           0.3764\n",
       "2     2.745316           0.1998\n",
       "3     3.713386           0.9903\n",
       "4     3.197250           0.7419\n",
       "...        ...              ...\n",
       "9995  2.715824           0.1727\n",
       "9996  2.922417           0.3951\n",
       "9997  2.579148           0.0769\n",
       "9998  3.313362           0.8479\n",
       "9999  3.110784           0.6393\n",
       "\n",
       "[10000 rows x 2 columns]"
      ]
     },
     "execution_count": 90,
     "metadata": {},
     "output_type": "execute_result"
    }
   ],
   "source": [
    "gpa_df['Percentile Rank'] = gpa_df[0].rank(pct = True)\n",
    "gpa_df"
   ]
  },
  {
   "cell_type": "code",
   "execution_count": 95,
   "id": "d740ece9",
   "metadata": {},
   "outputs": [],
   "source": [
    "gpa_three_five = round(gpa_df[0], 2) == 3.50"
   ]
  },
  {
   "cell_type": "code",
   "execution_count": 98,
   "id": "09a688bd",
   "metadata": {},
   "outputs": [
    {
     "data": {
      "text/plain": [
       "0.9509499999999999"
      ]
     },
     "execution_count": 98,
     "metadata": {},
     "output_type": "execute_result"
    }
   ],
   "source": [
    "gpa_df['Percentile Rank'][gpa_three_five].mean()"
   ]
  },
  {
   "cell_type": "markdown",
   "id": "47287ccc",
   "metadata": {},
   "source": [
    "# 3. A marketing website has an average click-through rate of 2%. One day they observe 4326 visitors and 97 click-throughs. How likely is it that this many people or more click through?"
   ]
  },
  {
   "cell_type": "code",
   "execution_count": 106,
   "id": "6d366958",
   "metadata": {},
   "outputs": [
    {
     "data": {
      "text/plain": [
       "0.139266219610741"
      ]
     },
     "execution_count": 106,
     "metadata": {},
     "output_type": "execute_result"
    }
   ],
   "source": [
    "clicks = stats.binom(4325, .02)\n",
    "clicks.sf(96)"
   ]
  },
  {
   "cell_type": "markdown",
   "id": "4cd03166",
   "metadata": {},
   "source": [
    "### Now let's solve number 3 using a simulation. "
   ]
  },
  {
   "cell_type": "code",
   "execution_count": 107,
   "id": "77f51d35",
   "metadata": {},
   "outputs": [],
   "source": [
    "click_sample = random.binomial(4325, 0.02, size = 100_000)"
   ]
  },
  {
   "cell_type": "code",
   "execution_count": 108,
   "id": "460c20e0",
   "metadata": {},
   "outputs": [
    {
     "data": {
      "text/html": [
       "<div>\n",
       "<style scoped>\n",
       "    .dataframe tbody tr th:only-of-type {\n",
       "        vertical-align: middle;\n",
       "    }\n",
       "\n",
       "    .dataframe tbody tr th {\n",
       "        vertical-align: top;\n",
       "    }\n",
       "\n",
       "    .dataframe thead th {\n",
       "        text-align: right;\n",
       "    }\n",
       "</style>\n",
       "<table border=\"1\" class=\"dataframe\">\n",
       "  <thead>\n",
       "    <tr style=\"text-align: right;\">\n",
       "      <th></th>\n",
       "      <th>0</th>\n",
       "    </tr>\n",
       "  </thead>\n",
       "  <tbody>\n",
       "    <tr>\n",
       "      <th>0</th>\n",
       "      <td>91</td>\n",
       "    </tr>\n",
       "    <tr>\n",
       "      <th>1</th>\n",
       "      <td>91</td>\n",
       "    </tr>\n",
       "    <tr>\n",
       "      <th>2</th>\n",
       "      <td>92</td>\n",
       "    </tr>\n",
       "    <tr>\n",
       "      <th>3</th>\n",
       "      <td>73</td>\n",
       "    </tr>\n",
       "    <tr>\n",
       "      <th>4</th>\n",
       "      <td>91</td>\n",
       "    </tr>\n",
       "    <tr>\n",
       "      <th>...</th>\n",
       "      <td>...</td>\n",
       "    </tr>\n",
       "    <tr>\n",
       "      <th>99995</th>\n",
       "      <td>90</td>\n",
       "    </tr>\n",
       "    <tr>\n",
       "      <th>99996</th>\n",
       "      <td>90</td>\n",
       "    </tr>\n",
       "    <tr>\n",
       "      <th>99997</th>\n",
       "      <td>83</td>\n",
       "    </tr>\n",
       "    <tr>\n",
       "      <th>99998</th>\n",
       "      <td>100</td>\n",
       "    </tr>\n",
       "    <tr>\n",
       "      <th>99999</th>\n",
       "      <td>98</td>\n",
       "    </tr>\n",
       "  </tbody>\n",
       "</table>\n",
       "<p>100000 rows × 1 columns</p>\n",
       "</div>"
      ],
      "text/plain": [
       "         0\n",
       "0       91\n",
       "1       91\n",
       "2       92\n",
       "3       73\n",
       "4       91\n",
       "...    ...\n",
       "99995   90\n",
       "99996   90\n",
       "99997   83\n",
       "99998  100\n",
       "99999   98\n",
       "\n",
       "[100000 rows x 1 columns]"
      ]
     },
     "execution_count": 108,
     "metadata": {},
     "output_type": "execute_result"
    }
   ],
   "source": [
    "click_pd = pd.DataFrame(click_sample)\n",
    "click_pd"
   ]
  },
  {
   "cell_type": "code",
   "execution_count": 109,
   "id": "8b4cc7cb",
   "metadata": {},
   "outputs": [
    {
     "data": {
      "text/plain": [
       "0.13862"
      ]
     },
     "execution_count": 109,
     "metadata": {},
     "output_type": "execute_result"
    }
   ],
   "source": [
    "ninety_seven_or_more = click_pd[0] >= 97\n",
    "ninety_seven_or_more.mean()"
   ]
  },
  {
   "cell_type": "code",
   "execution_count": 54,
   "id": "7de1ab1c",
   "metadata": {},
   "outputs": [],
   "source": [
    "homework = stats.binom(60, 0.99)"
   ]
  },
  {
   "cell_type": "code",
   "execution_count": 55,
   "id": "f8cca8e1",
   "metadata": {},
   "outputs": [
    {
     "data": {
      "text/plain": [
       "0.4528433576092388"
      ]
     },
     "execution_count": 55,
     "metadata": {},
     "output_type": "execute_result"
    }
   ],
   "source": [
    "homework.cdf(59)"
   ]
  },
  {
   "cell_type": "code",
   "execution_count": 113,
   "id": "f5e925c4",
   "metadata": {},
   "outputs": [],
   "source": [
    "homework_sample = random.binomial(60, 0.01, 100_000)"
   ]
  },
  {
   "cell_type": "code",
   "execution_count": 114,
   "id": "95a47c88",
   "metadata": {},
   "outputs": [],
   "source": [
    "homework_pd = pd.DataFrame(homework_sample)"
   ]
  },
  {
   "cell_type": "code",
   "execution_count": 115,
   "id": "a5aea8bc",
   "metadata": {},
   "outputs": [
    {
     "data": {
      "text/html": [
       "<div>\n",
       "<style scoped>\n",
       "    .dataframe tbody tr th:only-of-type {\n",
       "        vertical-align: middle;\n",
       "    }\n",
       "\n",
       "    .dataframe tbody tr th {\n",
       "        vertical-align: top;\n",
       "    }\n",
       "\n",
       "    .dataframe thead th {\n",
       "        text-align: right;\n",
       "    }\n",
       "</style>\n",
       "<table border=\"1\" class=\"dataframe\">\n",
       "  <thead>\n",
       "    <tr style=\"text-align: right;\">\n",
       "      <th></th>\n",
       "      <th>0</th>\n",
       "    </tr>\n",
       "  </thead>\n",
       "  <tbody>\n",
       "    <tr>\n",
       "      <th>0</th>\n",
       "      <td>1</td>\n",
       "    </tr>\n",
       "    <tr>\n",
       "      <th>1</th>\n",
       "      <td>0</td>\n",
       "    </tr>\n",
       "    <tr>\n",
       "      <th>2</th>\n",
       "      <td>2</td>\n",
       "    </tr>\n",
       "    <tr>\n",
       "      <th>3</th>\n",
       "      <td>0</td>\n",
       "    </tr>\n",
       "    <tr>\n",
       "      <th>4</th>\n",
       "      <td>1</td>\n",
       "    </tr>\n",
       "    <tr>\n",
       "      <th>...</th>\n",
       "      <td>...</td>\n",
       "    </tr>\n",
       "    <tr>\n",
       "      <th>99995</th>\n",
       "      <td>1</td>\n",
       "    </tr>\n",
       "    <tr>\n",
       "      <th>99996</th>\n",
       "      <td>1</td>\n",
       "    </tr>\n",
       "    <tr>\n",
       "      <th>99997</th>\n",
       "      <td>0</td>\n",
       "    </tr>\n",
       "    <tr>\n",
       "      <th>99998</th>\n",
       "      <td>1</td>\n",
       "    </tr>\n",
       "    <tr>\n",
       "      <th>99999</th>\n",
       "      <td>0</td>\n",
       "    </tr>\n",
       "  </tbody>\n",
       "</table>\n",
       "<p>100000 rows × 1 columns</p>\n",
       "</div>"
      ],
      "text/plain": [
       "       0\n",
       "0      1\n",
       "1      0\n",
       "2      2\n",
       "3      0\n",
       "4      1\n",
       "...   ..\n",
       "99995  1\n",
       "99996  1\n",
       "99997  0\n",
       "99998  1\n",
       "99999  0\n",
       "\n",
       "[100000 rows x 1 columns]"
      ]
     },
     "execution_count": 115,
     "metadata": {},
     "output_type": "execute_result"
    }
   ],
   "source": [
    "homework_pd"
   ]
  },
  {
   "cell_type": "code",
   "execution_count": 116,
   "id": "249d6b3e",
   "metadata": {},
   "outputs": [
    {
     "data": {
      "text/plain": [
       "0.45105"
      ]
     },
     "execution_count": 116,
     "metadata": {},
     "output_type": "execute_result"
    }
   ],
   "source": [
    "at_least_one = homework_pd[0] > 0\n",
    "at_least_one.mean()"
   ]
  },
  {
   "cell_type": "code",
   "execution_count": 3,
   "id": "c8e76da1",
   "metadata": {},
   "outputs": [],
   "source": [
    "breakroom_one_day = stats.binom(66*0.9, .03)"
   ]
  },
  {
   "cell_type": "markdown",
   "id": "1c898abb",
   "metadata": {},
   "source": [
    "### The probability that at least one student cleans up the breakroom on one day. "
   ]
  },
  {
   "cell_type": "code",
   "execution_count": 4,
   "id": "fa92178f",
   "metadata": {},
   "outputs": [
    {
     "data": {
      "text/plain": [
       "0.8342199288437355"
      ]
     },
     "execution_count": 4,
     "metadata": {},
     "output_type": "execute_result"
    }
   ],
   "source": [
    "breakroom_one_day.sf(0)"
   ]
  },
  {
   "cell_type": "code",
   "execution_count": 5,
   "id": "419eb6b1",
   "metadata": {},
   "outputs": [],
   "source": [
    "breakroom_two_day = stats.binom((66*2)*0.9, 0.03)"
   ]
  },
  {
   "cell_type": "markdown",
   "id": "ab4676df",
   "metadata": {},
   "source": [
    "### Chances the breakroom goes two days without being cleaned up. "
   ]
  },
  {
   "cell_type": "code",
   "execution_count": 6,
   "id": "8bc60fbc",
   "metadata": {},
   "outputs": [
    {
     "data": {
      "text/plain": [
       "0.027483031992576134"
      ]
     },
     "execution_count": 6,
     "metadata": {},
     "output_type": "execute_result"
    }
   ],
   "source": [
    "breakroom_two_day.cdf(0)"
   ]
  },
  {
   "cell_type": "code",
   "execution_count": 8,
   "id": "23558572",
   "metadata": {},
   "outputs": [],
   "source": [
    "breakroom_week = stats.binom((66*7)*0.9, 0.03)"
   ]
  },
  {
   "cell_type": "markdown",
   "id": "66250c80",
   "metadata": {},
   "source": [
    "### Chances the room goes one week without being cleaned up."
   ]
  },
  {
   "cell_type": "code",
   "execution_count": 9,
   "id": "896a3093",
   "metadata": {},
   "outputs": [
    {
     "data": {
      "text/plain": [
       "3.237946886079981e-06"
      ]
     },
     "execution_count": 9,
     "metadata": {},
     "output_type": "execute_result"
    }
   ],
   "source": [
    "breakroom_week.cdf(0)"
   ]
  },
  {
   "cell_type": "markdown",
   "id": "1dcff58e",
   "metadata": {},
   "source": [
    "## Now let's solve the same problem using simulations instead of distributions."
   ]
  },
  {
   "cell_type": "code",
   "execution_count": 10,
   "id": "cd08ae55",
   "metadata": {},
   "outputs": [],
   "source": [
    "breakroom_sample_one_day = random.binomial(66*0.9, .03, 100_000)"
   ]
  },
  {
   "cell_type": "code",
   "execution_count": 11,
   "id": "608de1c3",
   "metadata": {},
   "outputs": [
    {
     "data": {
      "text/html": [
       "<div>\n",
       "<style scoped>\n",
       "    .dataframe tbody tr th:only-of-type {\n",
       "        vertical-align: middle;\n",
       "    }\n",
       "\n",
       "    .dataframe tbody tr th {\n",
       "        vertical-align: top;\n",
       "    }\n",
       "\n",
       "    .dataframe thead th {\n",
       "        text-align: right;\n",
       "    }\n",
       "</style>\n",
       "<table border=\"1\" class=\"dataframe\">\n",
       "  <thead>\n",
       "    <tr style=\"text-align: right;\">\n",
       "      <th></th>\n",
       "      <th>0</th>\n",
       "    </tr>\n",
       "  </thead>\n",
       "  <tbody>\n",
       "    <tr>\n",
       "      <th>0</th>\n",
       "      <td>2</td>\n",
       "    </tr>\n",
       "    <tr>\n",
       "      <th>1</th>\n",
       "      <td>1</td>\n",
       "    </tr>\n",
       "    <tr>\n",
       "      <th>2</th>\n",
       "      <td>1</td>\n",
       "    </tr>\n",
       "    <tr>\n",
       "      <th>3</th>\n",
       "      <td>2</td>\n",
       "    </tr>\n",
       "    <tr>\n",
       "      <th>4</th>\n",
       "      <td>2</td>\n",
       "    </tr>\n",
       "    <tr>\n",
       "      <th>...</th>\n",
       "      <td>...</td>\n",
       "    </tr>\n",
       "    <tr>\n",
       "      <th>99995</th>\n",
       "      <td>1</td>\n",
       "    </tr>\n",
       "    <tr>\n",
       "      <th>99996</th>\n",
       "      <td>2</td>\n",
       "    </tr>\n",
       "    <tr>\n",
       "      <th>99997</th>\n",
       "      <td>3</td>\n",
       "    </tr>\n",
       "    <tr>\n",
       "      <th>99998</th>\n",
       "      <td>2</td>\n",
       "    </tr>\n",
       "    <tr>\n",
       "      <th>99999</th>\n",
       "      <td>2</td>\n",
       "    </tr>\n",
       "  </tbody>\n",
       "</table>\n",
       "<p>100000 rows × 1 columns</p>\n",
       "</div>"
      ],
      "text/plain": [
       "       0\n",
       "0      2\n",
       "1      1\n",
       "2      1\n",
       "3      2\n",
       "4      2\n",
       "...   ..\n",
       "99995  1\n",
       "99996  2\n",
       "99997  3\n",
       "99998  2\n",
       "99999  2\n",
       "\n",
       "[100000 rows x 1 columns]"
      ]
     },
     "execution_count": 11,
     "metadata": {},
     "output_type": "execute_result"
    }
   ],
   "source": [
    "breakroom_one_df = pd.DataFrame(breakroom_sample_one_day)\n",
    "breakroom_one_df"
   ]
  },
  {
   "cell_type": "code",
   "execution_count": 12,
   "id": "c8c67446",
   "metadata": {},
   "outputs": [
    {
     "data": {
      "text/plain": [
       "0.83435"
      ]
     },
     "execution_count": 12,
     "metadata": {},
     "output_type": "execute_result"
    }
   ],
   "source": [
    "at_least_one_cleans = breakroom_one_df[0] > 0\n",
    "at_least_one_cleans.mean()"
   ]
  },
  {
   "cell_type": "code",
   "execution_count": 13,
   "id": "239e1032",
   "metadata": {},
   "outputs": [],
   "source": [
    "breakroom_sample_two_day = random.binomial((66*2)*0.9, 0.03, 100_000)"
   ]
  },
  {
   "cell_type": "code",
   "execution_count": 14,
   "id": "507fe5a2",
   "metadata": {},
   "outputs": [
    {
     "data": {
      "text/html": [
       "<div>\n",
       "<style scoped>\n",
       "    .dataframe tbody tr th:only-of-type {\n",
       "        vertical-align: middle;\n",
       "    }\n",
       "\n",
       "    .dataframe tbody tr th {\n",
       "        vertical-align: top;\n",
       "    }\n",
       "\n",
       "    .dataframe thead th {\n",
       "        text-align: right;\n",
       "    }\n",
       "</style>\n",
       "<table border=\"1\" class=\"dataframe\">\n",
       "  <thead>\n",
       "    <tr style=\"text-align: right;\">\n",
       "      <th></th>\n",
       "      <th>0</th>\n",
       "    </tr>\n",
       "  </thead>\n",
       "  <tbody>\n",
       "    <tr>\n",
       "      <th>0</th>\n",
       "      <td>2</td>\n",
       "    </tr>\n",
       "    <tr>\n",
       "      <th>1</th>\n",
       "      <td>2</td>\n",
       "    </tr>\n",
       "    <tr>\n",
       "      <th>2</th>\n",
       "      <td>1</td>\n",
       "    </tr>\n",
       "    <tr>\n",
       "      <th>3</th>\n",
       "      <td>4</td>\n",
       "    </tr>\n",
       "    <tr>\n",
       "      <th>4</th>\n",
       "      <td>2</td>\n",
       "    </tr>\n",
       "    <tr>\n",
       "      <th>...</th>\n",
       "      <td>...</td>\n",
       "    </tr>\n",
       "    <tr>\n",
       "      <th>99995</th>\n",
       "      <td>4</td>\n",
       "    </tr>\n",
       "    <tr>\n",
       "      <th>99996</th>\n",
       "      <td>1</td>\n",
       "    </tr>\n",
       "    <tr>\n",
       "      <th>99997</th>\n",
       "      <td>1</td>\n",
       "    </tr>\n",
       "    <tr>\n",
       "      <th>99998</th>\n",
       "      <td>3</td>\n",
       "    </tr>\n",
       "    <tr>\n",
       "      <th>99999</th>\n",
       "      <td>2</td>\n",
       "    </tr>\n",
       "  </tbody>\n",
       "</table>\n",
       "<p>100000 rows × 1 columns</p>\n",
       "</div>"
      ],
      "text/plain": [
       "       0\n",
       "0      2\n",
       "1      2\n",
       "2      1\n",
       "3      4\n",
       "4      2\n",
       "...   ..\n",
       "99995  4\n",
       "99996  1\n",
       "99997  1\n",
       "99998  3\n",
       "99999  2\n",
       "\n",
       "[100000 rows x 1 columns]"
      ]
     },
     "execution_count": 14,
     "metadata": {},
     "output_type": "execute_result"
    }
   ],
   "source": [
    "breakroom_two_df = pd.DataFrame(breakroom_sample_two_day)\n",
    "breakroom_two_df"
   ]
  },
  {
   "cell_type": "code",
   "execution_count": 15,
   "id": "1844b090",
   "metadata": {},
   "outputs": [
    {
     "data": {
      "text/plain": [
       "0.02746"
      ]
     },
     "execution_count": 15,
     "metadata": {},
     "output_type": "execute_result"
    }
   ],
   "source": [
    "two_days_nobody_cleans = breakroom_two_df[0] == 0\n",
    "two_days_nobody_cleans.mean()"
   ]
  },
  {
   "cell_type": "code",
   "execution_count": 16,
   "id": "85ff0f11",
   "metadata": {},
   "outputs": [],
   "source": [
    "breakroom_sample_one_week = random.binomial((66*7)*0.9, 0.03, 1_000_000)"
   ]
  },
  {
   "cell_type": "code",
   "execution_count": 17,
   "id": "6730284c",
   "metadata": {},
   "outputs": [
    {
     "data": {
      "text/html": [
       "<div>\n",
       "<style scoped>\n",
       "    .dataframe tbody tr th:only-of-type {\n",
       "        vertical-align: middle;\n",
       "    }\n",
       "\n",
       "    .dataframe tbody tr th {\n",
       "        vertical-align: top;\n",
       "    }\n",
       "\n",
       "    .dataframe thead th {\n",
       "        text-align: right;\n",
       "    }\n",
       "</style>\n",
       "<table border=\"1\" class=\"dataframe\">\n",
       "  <thead>\n",
       "    <tr style=\"text-align: right;\">\n",
       "      <th></th>\n",
       "      <th>0</th>\n",
       "    </tr>\n",
       "  </thead>\n",
       "  <tbody>\n",
       "    <tr>\n",
       "      <th>0</th>\n",
       "      <td>8</td>\n",
       "    </tr>\n",
       "    <tr>\n",
       "      <th>1</th>\n",
       "      <td>10</td>\n",
       "    </tr>\n",
       "    <tr>\n",
       "      <th>2</th>\n",
       "      <td>20</td>\n",
       "    </tr>\n",
       "    <tr>\n",
       "      <th>3</th>\n",
       "      <td>15</td>\n",
       "    </tr>\n",
       "    <tr>\n",
       "      <th>4</th>\n",
       "      <td>12</td>\n",
       "    </tr>\n",
       "    <tr>\n",
       "      <th>...</th>\n",
       "      <td>...</td>\n",
       "    </tr>\n",
       "    <tr>\n",
       "      <th>999995</th>\n",
       "      <td>12</td>\n",
       "    </tr>\n",
       "    <tr>\n",
       "      <th>999996</th>\n",
       "      <td>15</td>\n",
       "    </tr>\n",
       "    <tr>\n",
       "      <th>999997</th>\n",
       "      <td>15</td>\n",
       "    </tr>\n",
       "    <tr>\n",
       "      <th>999998</th>\n",
       "      <td>10</td>\n",
       "    </tr>\n",
       "    <tr>\n",
       "      <th>999999</th>\n",
       "      <td>17</td>\n",
       "    </tr>\n",
       "  </tbody>\n",
       "</table>\n",
       "<p>1000000 rows × 1 columns</p>\n",
       "</div>"
      ],
      "text/plain": [
       "         0\n",
       "0        8\n",
       "1       10\n",
       "2       20\n",
       "3       15\n",
       "4       12\n",
       "...     ..\n",
       "999995  12\n",
       "999996  15\n",
       "999997  15\n",
       "999998  10\n",
       "999999  17\n",
       "\n",
       "[1000000 rows x 1 columns]"
      ]
     },
     "execution_count": 17,
     "metadata": {},
     "output_type": "execute_result"
    }
   ],
   "source": [
    "breakroom_one_week_df = pd.DataFrame(breakroom_sample_one_week)\n",
    "breakroom_one_week_df"
   ]
  },
  {
   "cell_type": "code",
   "execution_count": 19,
   "id": "5a642c60",
   "metadata": {},
   "outputs": [
    {
     "data": {
      "text/plain": [
       "1e-06"
      ]
     },
     "execution_count": 19,
     "metadata": {},
     "output_type": "execute_result"
    }
   ],
   "source": [
    "one_week_nobody_cleans = breakroom_one_week_df[0] == 0\n",
    "one_week_nobody_cleans.mean()"
   ]
  },
  {
   "cell_type": "markdown",
   "id": "838e3e8b",
   "metadata": {},
   "source": [
    "# 6. \n",
    "### You want to get lunch at La Panaderia, but notice that the line is usually very long at lunchtime. After several weeks of careful observation, you notice that the average number of people in line when your lunch break starts is normally distributed with a mean of 15 and standard deviation of 3. If it takes 2 minutes for each person to order, and 10 minutes from ordering to getting your food, what is the likelihood that you have at least 15 minutes left to eat your food before you have to go back to class? Assume you have one hour for lunch, and ignore travel time to and from La Panaderia."
   ]
  },
  {
   "cell_type": "markdown",
   "id": "51d3ddd9",
   "metadata": {},
   "source": [
    "### 2x + 10 + 15 = 60 \n",
    "### 2x + 25 = 60\n",
    "### 2x = 60 - 25 \n",
    "### 2x = 35\n",
    "### x = 35 / 2 \n",
    "### x = 17.5\n",
    "### There can be a maximum of 16 customers in line, because it also takes us two minutes to order. "
   ]
  },
  {
   "cell_type": "code",
   "execution_count": 27,
   "id": "8df25f5c",
   "metadata": {},
   "outputs": [],
   "source": [
    "μ = 15.0\n",
    "σ = 3.0\n",
    "time_per_customer = 2\n",
    "wait_time_for_food = 10\n",
    "\n",
    "customers_in_line = stats.norm(μ, σ)"
   ]
  },
  {
   "cell_type": "code",
   "execution_count": 20,
   "id": "2c6a1921",
   "metadata": {},
   "outputs": [
    {
     "data": {
      "text/plain": [
       "0.6914624612740131"
      ]
     },
     "execution_count": 20,
     "metadata": {},
     "output_type": "execute_result"
    }
   ],
   "source": [
    "customers_in_line.cdf(16.5)"
   ]
  },
  {
   "cell_type": "markdown",
   "id": "d3652ed9",
   "metadata": {},
   "source": [
    "## There is a 0.63 chance we will have enough time to eat our lunch. "
   ]
  },
  {
   "cell_type": "markdown",
   "id": "1ae3071f",
   "metadata": {},
   "source": [
    "### We can also solve the problem this way:"
   ]
  },
  {
   "cell_type": "code",
   "execution_count": 28,
   "id": "595db077",
   "metadata": {},
   "outputs": [],
   "source": [
    "new_μ = (μ * time_per_customer) + wait_time_for_food + time_per_customer"
   ]
  },
  {
   "cell_type": "code",
   "execution_count": 29,
   "id": "c00355e6",
   "metadata": {},
   "outputs": [],
   "source": [
    "time_wait = stats.norm(new_μ, (σ*2))"
   ]
  },
  {
   "cell_type": "code",
   "execution_count": 30,
   "id": "1b16949c",
   "metadata": {},
   "outputs": [
    {
     "data": {
      "text/plain": [
       "0.6914624612740131"
      ]
     },
     "execution_count": 30,
     "metadata": {},
     "output_type": "execute_result"
    }
   ],
   "source": [
    "time_wait.cdf(45)"
   ]
  },
  {
   "cell_type": "markdown",
   "id": "5b85917b",
   "metadata": {},
   "source": [
    "### Let's solve the same problem using sampling. "
   ]
  },
  {
   "cell_type": "code",
   "execution_count": 23,
   "id": "0d508135",
   "metadata": {},
   "outputs": [],
   "source": [
    "customer_sample = random.normal(μ, σ, 100_000)"
   ]
  },
  {
   "cell_type": "code",
   "execution_count": 24,
   "id": "4995082e",
   "metadata": {},
   "outputs": [
    {
     "data": {
      "text/html": [
       "<div>\n",
       "<style scoped>\n",
       "    .dataframe tbody tr th:only-of-type {\n",
       "        vertical-align: middle;\n",
       "    }\n",
       "\n",
       "    .dataframe tbody tr th {\n",
       "        vertical-align: top;\n",
       "    }\n",
       "\n",
       "    .dataframe thead th {\n",
       "        text-align: right;\n",
       "    }\n",
       "</style>\n",
       "<table border=\"1\" class=\"dataframe\">\n",
       "  <thead>\n",
       "    <tr style=\"text-align: right;\">\n",
       "      <th></th>\n",
       "      <th>0</th>\n",
       "    </tr>\n",
       "  </thead>\n",
       "  <tbody>\n",
       "    <tr>\n",
       "      <th>0</th>\n",
       "      <td>11.277091</td>\n",
       "    </tr>\n",
       "    <tr>\n",
       "      <th>1</th>\n",
       "      <td>14.061160</td>\n",
       "    </tr>\n",
       "    <tr>\n",
       "      <th>2</th>\n",
       "      <td>12.453160</td>\n",
       "    </tr>\n",
       "    <tr>\n",
       "      <th>3</th>\n",
       "      <td>22.133858</td>\n",
       "    </tr>\n",
       "    <tr>\n",
       "      <th>4</th>\n",
       "      <td>16.972502</td>\n",
       "    </tr>\n",
       "    <tr>\n",
       "      <th>...</th>\n",
       "      <td>...</td>\n",
       "    </tr>\n",
       "    <tr>\n",
       "      <th>99995</th>\n",
       "      <td>19.890750</td>\n",
       "    </tr>\n",
       "    <tr>\n",
       "      <th>99996</th>\n",
       "      <td>17.183311</td>\n",
       "    </tr>\n",
       "    <tr>\n",
       "      <th>99997</th>\n",
       "      <td>17.955182</td>\n",
       "    </tr>\n",
       "    <tr>\n",
       "      <th>99998</th>\n",
       "      <td>12.150128</td>\n",
       "    </tr>\n",
       "    <tr>\n",
       "      <th>99999</th>\n",
       "      <td>15.057100</td>\n",
       "    </tr>\n",
       "  </tbody>\n",
       "</table>\n",
       "<p>100000 rows × 1 columns</p>\n",
       "</div>"
      ],
      "text/plain": [
       "               0\n",
       "0      11.277091\n",
       "1      14.061160\n",
       "2      12.453160\n",
       "3      22.133858\n",
       "4      16.972502\n",
       "...          ...\n",
       "99995  19.890750\n",
       "99996  17.183311\n",
       "99997  17.955182\n",
       "99998  12.150128\n",
       "99999  15.057100\n",
       "\n",
       "[100000 rows x 1 columns]"
      ]
     },
     "execution_count": 24,
     "metadata": {},
     "output_type": "execute_result"
    }
   ],
   "source": [
    "customers_df = pd.DataFrame(customer_sample)\n",
    "customers_df"
   ]
  },
  {
   "cell_type": "code",
   "execution_count": 25,
   "id": "ef8b3200",
   "metadata": {},
   "outputs": [
    {
     "data": {
      "text/plain": [
       "0.69147"
      ]
     },
     "execution_count": 25,
     "metadata": {},
     "output_type": "execute_result"
    }
   ],
   "source": [
    "sixteen_or_less = customers_df[0] <= 16.5\n",
    "sixteen_or_less.mean()"
   ]
  },
  {
   "cell_type": "markdown",
   "id": "55ed4440",
   "metadata": {},
   "source": [
    "# 7. Connect to the employees database and find the average salary of current employees, along with the standard deviation. "
   ]
  },
  {
   "cell_type": "code",
   "execution_count": 4,
   "id": "0a62b067",
   "metadata": {},
   "outputs": [],
   "source": [
    "from env import host, user, password\n",
    "def get_db_url(host, user, password, database):\n",
    "    url = f'mysql+pymysql://{user}:{password}@{host}/{database}'\n",
    "    return url"
   ]
  },
  {
   "cell_type": "code",
   "execution_count": 5,
   "id": "099c4a41",
   "metadata": {},
   "outputs": [],
   "source": [
    "employees_url = get_db_url(host, user, password, \"employees\")\n"
   ]
  },
  {
   "cell_type": "code",
   "execution_count": 6,
   "id": "61aa9391",
   "metadata": {},
   "outputs": [],
   "source": [
    "sql = '''\n",
    "SELECT *\n",
    "FROM salaries\n",
    "WHERE to_date >= NOW()\n",
    "'''"
   ]
  },
  {
   "cell_type": "code",
   "execution_count": 7,
   "id": "d23d5791",
   "metadata": {},
   "outputs": [],
   "source": [
    "employees = pd.read_sql(sql, employees_url)"
   ]
  },
  {
   "cell_type": "code",
   "execution_count": 8,
   "id": "2c7d9d67",
   "metadata": {},
   "outputs": [
    {
     "data": {
      "text/html": [
       "<div>\n",
       "<style scoped>\n",
       "    .dataframe tbody tr th:only-of-type {\n",
       "        vertical-align: middle;\n",
       "    }\n",
       "\n",
       "    .dataframe tbody tr th {\n",
       "        vertical-align: top;\n",
       "    }\n",
       "\n",
       "    .dataframe thead th {\n",
       "        text-align: right;\n",
       "    }\n",
       "</style>\n",
       "<table border=\"1\" class=\"dataframe\">\n",
       "  <thead>\n",
       "    <tr style=\"text-align: right;\">\n",
       "      <th></th>\n",
       "      <th>emp_no</th>\n",
       "      <th>salary</th>\n",
       "      <th>from_date</th>\n",
       "      <th>to_date</th>\n",
       "    </tr>\n",
       "  </thead>\n",
       "  <tbody>\n",
       "    <tr>\n",
       "      <th>0</th>\n",
       "      <td>10001</td>\n",
       "      <td>88958</td>\n",
       "      <td>2002-06-22</td>\n",
       "      <td>9999-01-01</td>\n",
       "    </tr>\n",
       "    <tr>\n",
       "      <th>1</th>\n",
       "      <td>10002</td>\n",
       "      <td>72527</td>\n",
       "      <td>2001-08-02</td>\n",
       "      <td>9999-01-01</td>\n",
       "    </tr>\n",
       "    <tr>\n",
       "      <th>2</th>\n",
       "      <td>10003</td>\n",
       "      <td>43311</td>\n",
       "      <td>2001-12-01</td>\n",
       "      <td>9999-01-01</td>\n",
       "    </tr>\n",
       "    <tr>\n",
       "      <th>3</th>\n",
       "      <td>10004</td>\n",
       "      <td>74057</td>\n",
       "      <td>2001-11-27</td>\n",
       "      <td>9999-01-01</td>\n",
       "    </tr>\n",
       "    <tr>\n",
       "      <th>4</th>\n",
       "      <td>10005</td>\n",
       "      <td>94692</td>\n",
       "      <td>2001-09-09</td>\n",
       "      <td>9999-01-01</td>\n",
       "    </tr>\n",
       "    <tr>\n",
       "      <th>...</th>\n",
       "      <td>...</td>\n",
       "      <td>...</td>\n",
       "      <td>...</td>\n",
       "      <td>...</td>\n",
       "    </tr>\n",
       "    <tr>\n",
       "      <th>240119</th>\n",
       "      <td>499995</td>\n",
       "      <td>52868</td>\n",
       "      <td>2002-06-01</td>\n",
       "      <td>9999-01-01</td>\n",
       "    </tr>\n",
       "    <tr>\n",
       "      <th>240120</th>\n",
       "      <td>499996</td>\n",
       "      <td>69501</td>\n",
       "      <td>2002-05-12</td>\n",
       "      <td>9999-01-01</td>\n",
       "    </tr>\n",
       "    <tr>\n",
       "      <th>240121</th>\n",
       "      <td>499997</td>\n",
       "      <td>83441</td>\n",
       "      <td>2001-08-26</td>\n",
       "      <td>9999-01-01</td>\n",
       "    </tr>\n",
       "    <tr>\n",
       "      <th>240122</th>\n",
       "      <td>499998</td>\n",
       "      <td>55003</td>\n",
       "      <td>2001-12-25</td>\n",
       "      <td>9999-01-01</td>\n",
       "    </tr>\n",
       "    <tr>\n",
       "      <th>240123</th>\n",
       "      <td>499999</td>\n",
       "      <td>77303</td>\n",
       "      <td>2001-11-29</td>\n",
       "      <td>9999-01-01</td>\n",
       "    </tr>\n",
       "  </tbody>\n",
       "</table>\n",
       "<p>240124 rows × 4 columns</p>\n",
       "</div>"
      ],
      "text/plain": [
       "        emp_no  salary   from_date     to_date\n",
       "0        10001   88958  2002-06-22  9999-01-01\n",
       "1        10002   72527  2001-08-02  9999-01-01\n",
       "2        10003   43311  2001-12-01  9999-01-01\n",
       "3        10004   74057  2001-11-27  9999-01-01\n",
       "4        10005   94692  2001-09-09  9999-01-01\n",
       "...        ...     ...         ...         ...\n",
       "240119  499995   52868  2002-06-01  9999-01-01\n",
       "240120  499996   69501  2002-05-12  9999-01-01\n",
       "240121  499997   83441  2001-08-26  9999-01-01\n",
       "240122  499998   55003  2001-12-25  9999-01-01\n",
       "240123  499999   77303  2001-11-29  9999-01-01\n",
       "\n",
       "[240124 rows x 4 columns]"
      ]
     },
     "execution_count": 8,
     "metadata": {},
     "output_type": "execute_result"
    }
   ],
   "source": [
    "employees"
   ]
  },
  {
   "cell_type": "code",
   "execution_count": 9,
   "id": "24db6f97",
   "metadata": {},
   "outputs": [],
   "source": [
    "mean_salary = employees['salary'].mean()"
   ]
  },
  {
   "cell_type": "code",
   "execution_count": 10,
   "id": "a76eab74",
   "metadata": {},
   "outputs": [],
   "source": [
    "std_salary = employees['salary'].std()"
   ]
  },
  {
   "cell_type": "code",
   "execution_count": 11,
   "id": "a10ebc5c",
   "metadata": {},
   "outputs": [],
   "source": [
    "salaries_normal = stats.norm(mean_salary, std_salary)"
   ]
  },
  {
   "cell_type": "markdown",
   "id": "b9fb8b7f",
   "metadata": {},
   "source": [
    "### What percent of employees earn less than 60,000?"
   ]
  },
  {
   "cell_type": "code",
   "execution_count": 50,
   "id": "658644ad",
   "metadata": {},
   "outputs": [
    {
     "data": {
      "text/plain": [
       "0.24383930961304945"
      ]
     },
     "execution_count": 50,
     "metadata": {},
     "output_type": "execute_result"
    }
   ],
   "source": [
    "salaries_normal.cdf(60_000) - salaries_normal.pdf(60_000)"
   ]
  },
  {
   "cell_type": "markdown",
   "id": "754453cc",
   "metadata": {},
   "source": [
    "### What percent of employees earn more than 95,000?"
   ]
  },
  {
   "cell_type": "code",
   "execution_count": 51,
   "id": "70ccb143",
   "metadata": {},
   "outputs": [
    {
     "data": {
      "text/plain": [
       "0.09208819199804053"
      ]
     },
     "execution_count": 51,
     "metadata": {},
     "output_type": "execute_result"
    }
   ],
   "source": [
    "salaries_normal.sf(95_000)"
   ]
  },
  {
   "cell_type": "markdown",
   "id": "47acda0f",
   "metadata": {},
   "source": [
    "### What percent of employees earn between 65,000 and 80,000?"
   ]
  },
  {
   "cell_type": "code",
   "execution_count": 14,
   "id": "04971fc2",
   "metadata": {},
   "outputs": [
    {
     "data": {
      "text/plain": [
       "0.3350398493031135"
      ]
     },
     "execution_count": 14,
     "metadata": {},
     "output_type": "execute_result"
    }
   ],
   "source": [
    "salaries_normal.sf(65_000) - salaries_normal.sf(80_000) - salaries_normal.pdf(80_000)"
   ]
  },
  {
   "cell_type": "code",
   "execution_count": null,
   "id": "ea1f180e",
   "metadata": {},
   "outputs": [],
   "source": []
  },
  {
   "cell_type": "markdown",
   "id": "48f5acd8",
   "metadata": {},
   "source": [
    "### What do the top 5% of employees make?"
   ]
  },
  {
   "cell_type": "code",
   "execution_count": 12,
   "id": "41095c7a",
   "metadata": {},
   "outputs": [
    {
     "data": {
      "text/plain": [
       "100484.64"
      ]
     },
     "execution_count": 12,
     "metadata": {},
     "output_type": "execute_result"
    }
   ],
   "source": [
    "round(salaries_normal.isf(0.05),2)"
   ]
  },
  {
   "cell_type": "markdown",
   "id": "29dedd00",
   "metadata": {},
   "source": [
    "### Now we will solve the same problem using the actual data, rather than distributions."
   ]
  },
  {
   "cell_type": "markdown",
   "id": "a9fd152f",
   "metadata": {},
   "source": [
    "### What percent of employees earn less than 60,000?"
   ]
  },
  {
   "cell_type": "code",
   "execution_count": 54,
   "id": "473809b3",
   "metadata": {},
   "outputs": [],
   "source": [
    "less_than_sixty = employees['salary'] < 60_000"
   ]
  },
  {
   "cell_type": "code",
   "execution_count": 55,
   "id": "ea79d59a",
   "metadata": {},
   "outputs": [
    {
     "data": {
      "text/plain": [
       "0.2705727041028802"
      ]
     },
     "execution_count": 55,
     "metadata": {},
     "output_type": "execute_result"
    }
   ],
   "source": [
    "less_than_sixty.mean()"
   ]
  },
  {
   "cell_type": "markdown",
   "id": "a79ddd0b",
   "metadata": {},
   "source": [
    "### What percent of employees earn more than 95,000?"
   ]
  },
  {
   "cell_type": "code",
   "execution_count": 56,
   "id": "683a9ea2",
   "metadata": {},
   "outputs": [],
   "source": [
    "more_than_ninetyfive = employees['salary'] > 95_000"
   ]
  },
  {
   "cell_type": "code",
   "execution_count": 57,
   "id": "e5b860d0",
   "metadata": {},
   "outputs": [
    {
     "data": {
      "text/plain": [
       "0.1086272092752078"
      ]
     },
     "execution_count": 57,
     "metadata": {},
     "output_type": "execute_result"
    }
   ],
   "source": [
    "more_than_ninetyfive.mean()"
   ]
  },
  {
   "cell_type": "markdown",
   "id": "037f1fdb",
   "metadata": {},
   "source": [
    "### What percent of employees earn between 65,000 and 80,000?"
   ]
  },
  {
   "cell_type": "code",
   "execution_count": 64,
   "id": "f446203a",
   "metadata": {},
   "outputs": [],
   "source": [
    "between_eighty_and_sixtyfive = (employees['salary'] < 80_000) & (employees['salary'] > 65_000)"
   ]
  },
  {
   "cell_type": "code",
   "execution_count": 65,
   "id": "0cae6f26",
   "metadata": {},
   "outputs": [
    {
     "data": {
      "text/plain": [
       "0.325107028035515"
      ]
     },
     "execution_count": 65,
     "metadata": {},
     "output_type": "execute_result"
    }
   ],
   "source": [
    "between_eighty_and_sixtyfive.mean()"
   ]
  },
  {
   "cell_type": "markdown",
   "id": "ca6ab0ab",
   "metadata": {},
   "source": [
    "### What do the top 5% of employees make?"
   ]
  },
  {
   "cell_type": "code",
   "execution_count": 13,
   "id": "15515d90",
   "metadata": {},
   "outputs": [
    {
     "data": {
      "text/plain": [
       "104225.85"
      ]
     },
     "execution_count": 13,
     "metadata": {},
     "output_type": "execute_result"
    }
   ],
   "source": [
    "round(employees['salary'].quantile(.95), 2)"
   ]
  }
 ],
 "metadata": {
  "kernelspec": {
   "display_name": "Python 3",
   "language": "python",
   "name": "python3"
  },
  "language_info": {
   "codemirror_mode": {
    "name": "ipython",
    "version": 3
   },
   "file_extension": ".py",
   "mimetype": "text/x-python",
   "name": "python",
   "nbconvert_exporter": "python",
   "pygments_lexer": "ipython3",
   "version": "3.8.8"
  }
 },
 "nbformat": 4,
 "nbformat_minor": 5
}
