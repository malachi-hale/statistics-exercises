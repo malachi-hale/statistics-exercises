{
 "cells": [
  {
   "cell_type": "code",
   "execution_count": 10,
   "id": "96f7e394",
   "metadata": {},
   "outputs": [],
   "source": [
    "%matplotlib inline\n",
    "import numpy as np\n",
    "import pandas as pd\n",
    "\n"
   ]
  },
  {
   "cell_type": "code",
   "execution_count": 74,
   "id": "ff2fa535",
   "metadata": {},
   "outputs": [
    {
     "data": {
      "text/html": [
       "<div>\n",
       "<style scoped>\n",
       "    .dataframe tbody tr th:only-of-type {\n",
       "        vertical-align: middle;\n",
       "    }\n",
       "\n",
       "    .dataframe tbody tr th {\n",
       "        vertical-align: top;\n",
       "    }\n",
       "\n",
       "    .dataframe thead th {\n",
       "        text-align: right;\n",
       "    }\n",
       "</style>\n",
       "<table border=\"1\" class=\"dataframe\">\n",
       "  <thead>\n",
       "    <tr style=\"text-align: right;\">\n",
       "      <th></th>\n",
       "      <th>0</th>\n",
       "      <th>1</th>\n",
       "      <th>2</th>\n",
       "    </tr>\n",
       "  </thead>\n",
       "  <tbody>\n",
       "    <tr>\n",
       "      <th>0</th>\n",
       "      <td>0</td>\n",
       "      <td>0</td>\n",
       "      <td>1</td>\n",
       "    </tr>\n",
       "    <tr>\n",
       "      <th>1</th>\n",
       "      <td>1</td>\n",
       "      <td>0</td>\n",
       "      <td>0</td>\n",
       "    </tr>\n",
       "    <tr>\n",
       "      <th>2</th>\n",
       "      <td>0</td>\n",
       "      <td>0</td>\n",
       "      <td>0</td>\n",
       "    </tr>\n",
       "    <tr>\n",
       "      <th>3</th>\n",
       "      <td>0</td>\n",
       "      <td>0</td>\n",
       "      <td>0</td>\n",
       "    </tr>\n",
       "    <tr>\n",
       "      <th>4</th>\n",
       "      <td>0</td>\n",
       "      <td>0</td>\n",
       "      <td>0</td>\n",
       "    </tr>\n",
       "    <tr>\n",
       "      <th>...</th>\n",
       "      <td>...</td>\n",
       "      <td>...</td>\n",
       "      <td>...</td>\n",
       "    </tr>\n",
       "    <tr>\n",
       "      <th>999995</th>\n",
       "      <td>0</td>\n",
       "      <td>1</td>\n",
       "      <td>0</td>\n",
       "    </tr>\n",
       "    <tr>\n",
       "      <th>999996</th>\n",
       "      <td>0</td>\n",
       "      <td>0</td>\n",
       "      <td>0</td>\n",
       "    </tr>\n",
       "    <tr>\n",
       "      <th>999997</th>\n",
       "      <td>0</td>\n",
       "      <td>0</td>\n",
       "      <td>0</td>\n",
       "    </tr>\n",
       "    <tr>\n",
       "      <th>999998</th>\n",
       "      <td>1</td>\n",
       "      <td>1</td>\n",
       "      <td>0</td>\n",
       "    </tr>\n",
       "    <tr>\n",
       "      <th>999999</th>\n",
       "      <td>0</td>\n",
       "      <td>0</td>\n",
       "      <td>0</td>\n",
       "    </tr>\n",
       "  </tbody>\n",
       "</table>\n",
       "<p>1000000 rows × 3 columns</p>\n",
       "</div>"
      ],
      "text/plain": [
       "        0  1  2\n",
       "0       0  0  1\n",
       "1       1  0  0\n",
       "2       0  0  0\n",
       "3       0  0  0\n",
       "4       0  0  0\n",
       "...    .. .. ..\n",
       "999995  0  1  0\n",
       "999996  0  0  0\n",
       "999997  0  0  0\n",
       "999998  1  1  0\n",
       "999999  0  0  0\n",
       "\n",
       "[1000000 rows x 3 columns]"
      ]
     },
     "execution_count": 74,
     "metadata": {},
     "output_type": "execute_result"
    }
   ],
   "source": [
    "outcomes = [0, 1]\n",
    "sample = 1_000_000\n",
    "dice = np.random.choice(outcomes, size=(sample, 3), p=[5/6, 1/6])\n",
    "dice_df = pd.DataFrame(dice)\n",
    "dice_df"
   ]
  },
  {
   "cell_type": "code",
   "execution_count": 75,
   "id": "d58787e4",
   "metadata": {},
   "outputs": [
    {
     "data": {
      "text/html": [
       "<div>\n",
       "<style scoped>\n",
       "    .dataframe tbody tr th:only-of-type {\n",
       "        vertical-align: middle;\n",
       "    }\n",
       "\n",
       "    .dataframe tbody tr th {\n",
       "        vertical-align: top;\n",
       "    }\n",
       "\n",
       "    .dataframe thead th {\n",
       "        text-align: right;\n",
       "    }\n",
       "</style>\n",
       "<table border=\"1\" class=\"dataframe\">\n",
       "  <thead>\n",
       "    <tr style=\"text-align: right;\">\n",
       "      <th></th>\n",
       "      <th>0</th>\n",
       "      <th>1</th>\n",
       "      <th>2</th>\n",
       "      <th>sum</th>\n",
       "    </tr>\n",
       "  </thead>\n",
       "  <tbody>\n",
       "    <tr>\n",
       "      <th>0</th>\n",
       "      <td>0</td>\n",
       "      <td>0</td>\n",
       "      <td>1</td>\n",
       "      <td>1</td>\n",
       "    </tr>\n",
       "    <tr>\n",
       "      <th>1</th>\n",
       "      <td>1</td>\n",
       "      <td>0</td>\n",
       "      <td>0</td>\n",
       "      <td>1</td>\n",
       "    </tr>\n",
       "    <tr>\n",
       "      <th>2</th>\n",
       "      <td>0</td>\n",
       "      <td>0</td>\n",
       "      <td>0</td>\n",
       "      <td>0</td>\n",
       "    </tr>\n",
       "    <tr>\n",
       "      <th>3</th>\n",
       "      <td>0</td>\n",
       "      <td>0</td>\n",
       "      <td>0</td>\n",
       "      <td>0</td>\n",
       "    </tr>\n",
       "    <tr>\n",
       "      <th>4</th>\n",
       "      <td>0</td>\n",
       "      <td>0</td>\n",
       "      <td>0</td>\n",
       "      <td>0</td>\n",
       "    </tr>\n",
       "    <tr>\n",
       "      <th>...</th>\n",
       "      <td>...</td>\n",
       "      <td>...</td>\n",
       "      <td>...</td>\n",
       "      <td>...</td>\n",
       "    </tr>\n",
       "    <tr>\n",
       "      <th>999995</th>\n",
       "      <td>0</td>\n",
       "      <td>1</td>\n",
       "      <td>0</td>\n",
       "      <td>1</td>\n",
       "    </tr>\n",
       "    <tr>\n",
       "      <th>999996</th>\n",
       "      <td>0</td>\n",
       "      <td>0</td>\n",
       "      <td>0</td>\n",
       "      <td>0</td>\n",
       "    </tr>\n",
       "    <tr>\n",
       "      <th>999997</th>\n",
       "      <td>0</td>\n",
       "      <td>0</td>\n",
       "      <td>0</td>\n",
       "      <td>0</td>\n",
       "    </tr>\n",
       "    <tr>\n",
       "      <th>999998</th>\n",
       "      <td>1</td>\n",
       "      <td>1</td>\n",
       "      <td>0</td>\n",
       "      <td>2</td>\n",
       "    </tr>\n",
       "    <tr>\n",
       "      <th>999999</th>\n",
       "      <td>0</td>\n",
       "      <td>0</td>\n",
       "      <td>0</td>\n",
       "      <td>0</td>\n",
       "    </tr>\n",
       "  </tbody>\n",
       "</table>\n",
       "<p>1000000 rows × 4 columns</p>\n",
       "</div>"
      ],
      "text/plain": [
       "        0  1  2  sum\n",
       "0       0  0  1    1\n",
       "1       1  0  0    1\n",
       "2       0  0  0    0\n",
       "3       0  0  0    0\n",
       "4       0  0  0    0\n",
       "...    .. .. ..  ...\n",
       "999995  0  1  0    1\n",
       "999996  0  0  0    0\n",
       "999997  0  0  0    0\n",
       "999998  1  1  0    2\n",
       "999999  0  0  0    0\n",
       "\n",
       "[1000000 rows x 4 columns]"
      ]
     },
     "execution_count": 75,
     "metadata": {},
     "output_type": "execute_result"
    }
   ],
   "source": [
    "dice_df[\"sum\"]=dice_df.sum(axis=1)\n",
    "dice_df"
   ]
  },
  {
   "cell_type": "code",
   "execution_count": 76,
   "id": "9c41c25d",
   "metadata": {},
   "outputs": [],
   "source": [
    "two_dollar_payout = dice_df[\"sum\"] == 3"
   ]
  },
  {
   "cell_type": "code",
   "execution_count": 77,
   "id": "d185977e",
   "metadata": {},
   "outputs": [
    {
     "data": {
      "text/plain": [
       "0.004646"
      ]
     },
     "execution_count": 77,
     "metadata": {},
     "output_type": "execute_result"
    }
   ],
   "source": [
    "two_dollar_payout.mean()"
   ]
  },
  {
   "cell_type": "code",
   "execution_count": 78,
   "id": "72984812",
   "metadata": {},
   "outputs": [
    {
     "data": {
      "text/plain": [
       "0.004646"
      ]
     },
     "execution_count": 78,
     "metadata": {},
     "output_type": "execute_result"
    }
   ],
   "source": [
    "len(dice_df[two_dollar_payout])/sample"
   ]
  },
  {
   "cell_type": "code",
   "execution_count": null,
   "id": "44c0d8fd",
   "metadata": {},
   "outputs": [],
   "source": [
    "##A 0.0044 chance, 0.44% chance of netting $2."
   ]
  },
  {
   "cell_type": "code",
   "execution_count": 79,
   "id": "3322a002",
   "metadata": {},
   "outputs": [],
   "source": [
    "one_dollar_payout = dice_df[\"sum\"] == 2"
   ]
  },
  {
   "cell_type": "code",
   "execution_count": 80,
   "id": "40d86268",
   "metadata": {},
   "outputs": [
    {
     "data": {
      "text/plain": [
       "0.069484"
      ]
     },
     "execution_count": 80,
     "metadata": {},
     "output_type": "execute_result"
    }
   ],
   "source": [
    "one_dollar_payout.mean()"
   ]
  },
  {
   "cell_type": "code",
   "execution_count": null,
   "id": "4c750f41",
   "metadata": {},
   "outputs": [],
   "source": [
    "#There is a 6.945% chance you will net $1."
   ]
  },
  {
   "cell_type": "code",
   "execution_count": 81,
   "id": "ae877615",
   "metadata": {},
   "outputs": [],
   "source": [
    "zero_dollar_payout = dice_df[\"sum\"] == 1"
   ]
  },
  {
   "cell_type": "code",
   "execution_count": 82,
   "id": "a388bbf5",
   "metadata": {},
   "outputs": [
    {
     "data": {
      "text/plain": [
       "0.347641"
      ]
     },
     "execution_count": 82,
     "metadata": {},
     "output_type": "execute_result"
    }
   ],
   "source": [
    "zero_dollar_payout.mean()"
   ]
  },
  {
   "cell_type": "code",
   "execution_count": null,
   "id": "9934c33c",
   "metadata": {},
   "outputs": [],
   "source": [
    "#There is a 34.792% you will net $0."
   ]
  },
  {
   "cell_type": "code",
   "execution_count": 83,
   "id": "9fdb2cc0",
   "metadata": {},
   "outputs": [],
   "source": [
    "negative_one_dollar = dice_df[\"sum\"] == 0"
   ]
  },
  {
   "cell_type": "code",
   "execution_count": 84,
   "id": "ac9d974a",
   "metadata": {},
   "outputs": [
    {
     "data": {
      "text/plain": [
       "0.578229"
      ]
     },
     "execution_count": 84,
     "metadata": {},
     "output_type": "execute_result"
    }
   ],
   "source": [
    "negative_one_dollar.mean()"
   ]
  },
  {
   "cell_type": "code",
   "execution_count": null,
   "id": "02f47ce7",
   "metadata": {},
   "outputs": [],
   "source": [
    "#There is a 57.823% chance you will lose $1 dollars. "
   ]
  },
  {
   "cell_type": "code",
   "execution_count": 85,
   "id": "44363dab",
   "metadata": {},
   "outputs": [
    {
     "data": {
      "text/plain": [
       "-499453"
      ]
     },
     "execution_count": 85,
     "metadata": {},
     "output_type": "execute_result"
    }
   ],
   "source": [
    "sum_of_money_earned = ((len(dice_df[two_dollar_payout])*2) + (len(dice_df[one_dollar_payout])*1) + (len(dice_df[zero_dollar_payout])*0)+len(dice_df[negative_one_dollar])*-1)\n",
    "sum_of_money_earned"
   ]
  },
  {
   "cell_type": "code",
   "execution_count": 86,
   "id": "f8db4cc8",
   "metadata": {},
   "outputs": [
    {
     "data": {
      "text/plain": [
       "-0.5"
      ]
     },
     "execution_count": 86,
     "metadata": {},
     "output_type": "execute_result"
    }
   ],
   "source": [
    "round((sum_of_money_earned/sample),2)"
   ]
  },
  {
   "cell_type": "code",
   "execution_count": 87,
   "id": "b94c477f",
   "metadata": {},
   "outputs": [],
   "source": [
    "##The average net money is  a loss of $0.50."
   ]
  },
  {
   "cell_type": "code",
   "execution_count": 88,
   "id": "aea4fb33",
   "metadata": {},
   "outputs": [
    {
     "data": {
      "image/png": "[encoded data removed]",
      "text/plain": [
       "<Figure size 432x288 with 1 Axes>"
      ]
     },
     "metadata": {
      "needs_background": "light"
     },
     "output_type": "display_data"
    }
   ],
   "source": [
    "histogram = dice_df[\"sum\"].hist()"
   ]
  },
  {
   "cell_type": "code",
   "execution_count": null,
   "id": "58d8f952",
   "metadata": {},
   "outputs": [],
   "source": [
    "##This is not a game of fair odds. \n",
    "##You have less than a fifty percent chance of coming out even. "
   ]
  },
  {
   "cell_type": "code",
   "execution_count": null,
   "id": "c574d046",
   "metadata": {},
   "outputs": [],
   "source": [
    "##If you played a million games in a row, you would likely lose $499,453 dollars. "
   ]
  }
 ],
 "metadata": {
  "kernelspec": {
   "display_name": "Python 3",
   "language": "python",
   "name": "python3"
  },
  "language_info": {
   "codemirror_mode": {
    "name": "ipython",
    "version": 3
   },
   "file_extension": ".py",
   "mimetype": "text/x-python",
   "name": "python",
   "nbconvert_exporter": "python",
   "pygments_lexer": "ipython3",
   "version": "3.8.8"
  }
 },
 "nbformat": 4,
 "nbformat_minor": 5
}
