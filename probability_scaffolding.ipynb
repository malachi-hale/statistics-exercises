{
 "cells": [
  {
   "cell_type": "markdown",
   "id": "ad8ea06d",
   "metadata": {},
   "source": [
    "# Probability scaffolding"
   ]
  },
  {
   "cell_type": "markdown",
   "id": "b8b5dc07",
   "metadata": {},
   "source": [
    "### Imports:"
   ]
  },
  {
   "cell_type": "code",
   "execution_count": null,
   "id": "df0f6f4d",
   "metadata": {},
   "outputs": [],
   "source": [
    "import numpy as np\n",
    "import pandas as pd\n",
    "import matplotlib.pyplot as plt\n",
    "from scipy import stats"
   ]
  },
  {
   "cell_type": "markdown",
   "id": "realistic-square",
   "metadata": {},
   "source": [
    "## Walk it out w/ Poisson distribution \n",
    "\n",
    "- On any given day, let's say you walk an average of 2 miles per day. \n",
    "- Create a Poisson distribution. \n",
    "- Use `.pmf` to answer the following questions in different notebook cells.\n",
    "    - What are the chances of walking exactly 0 miles? \n",
    "    - What is the probability of walking exactly 1 mile? \n",
    "    - What are the chances of walking exactly 2 miles?\n",
    "- In a separate cell, sum up all of those 3 different probabilities together.\n",
    "- Now use `.cdf` to answer the following question: What's the chance we walk 2 miles or less?\n",
    "- Compare the number from your `.cdf` with the sum of those three separate `.pmf` results? What do you see?\n",
    "- Now we'll ask the chances of walking more than 2 miles. Use `.sf`\n",
    "- Consider the relationship between the 2 numbers from the `.sf` and the `.pmf` result? What do you see?"
   ]
  },
  {
   "cell_type": "code",
   "execution_count": 2,
   "id": "de7f3246",
   "metadata": {},
   "outputs": [],
   "source": [
    "walking = stats.poisson(2)"
   ]
  },
  {
   "cell_type": "code",
   "execution_count": 63,
   "id": "3829b6d7",
   "metadata": {},
   "outputs": [
    {
     "data": {
      "image/png": "[encoded data removed]",
      "text/plain": [
       "<Figure size 864x576 with 1 Axes>"
      ]
     },
     "metadata": {
      "needs_background": "light"
     },
     "output_type": "display_data"
    }
   ],
   "source": [
    "plt.figure(figsize=(12, 8))\n",
    "hist1 = plt.hist(walking.rvs(10_000), bins=3, fc='green', ec='black')"
   ]
  },
  {
   "cell_type": "code",
   "execution_count": 7,
   "id": "dfe08419",
   "metadata": {},
   "outputs": [
    {
     "data": {
      "text/plain": [
       "0.1353352832366127"
      ]
     },
     "execution_count": 7,
     "metadata": {},
     "output_type": "execute_result"
    }
   ],
   "source": [
    "prob_0_miles = walking.pmf(0)\n",
    "prob_0_miles"
   ]
  },
  {
   "cell_type": "code",
   "execution_count": 9,
   "id": "1f5438dd",
   "metadata": {},
   "outputs": [
    {
     "data": {
      "text/plain": [
       "0.2706705664732254"
      ]
     },
     "execution_count": 9,
     "metadata": {},
     "output_type": "execute_result"
    }
   ],
   "source": [
    "prob_1_mile = walking.pmf(1)\n",
    "prob_1_mile"
   ]
  },
  {
   "cell_type": "code",
   "execution_count": 10,
   "id": "9179f150",
   "metadata": {},
   "outputs": [
    {
     "data": {
      "text/plain": [
       "0.2706705664732254"
      ]
     },
     "execution_count": 10,
     "metadata": {},
     "output_type": "execute_result"
    }
   ],
   "source": [
    "prob_2_miles = walking.pmf(2)\n",
    "prob_2_miles"
   ]
  },
  {
   "cell_type": "code",
   "execution_count": 12,
   "id": "8759f9b3",
   "metadata": {},
   "outputs": [
    {
     "data": {
      "text/plain": [
       "0.6766764161830635"
      ]
     },
     "execution_count": 12,
     "metadata": {},
     "output_type": "execute_result"
    }
   ],
   "source": [
    "sum_0_1_2 = prob_0_miles + prob_1_mile + prob_2_miles\n",
    "sum_0_1_2"
   ]
  },
  {
   "cell_type": "code",
   "execution_count": 13,
   "id": "060b3b0a",
   "metadata": {},
   "outputs": [
    {
     "data": {
      "text/plain": [
       "0.6766764161830634"
      ]
     },
     "execution_count": 13,
     "metadata": {},
     "output_type": "execute_result"
    }
   ],
   "source": [
    "walking.cdf(2)"
   ]
  },
  {
   "cell_type": "markdown",
   "id": "72620025",
   "metadata": {},
   "source": [
    "The .cdf value and the sum of the three separted .pmf results are equivalent. "
   ]
  },
  {
   "cell_type": "code",
   "execution_count": 17,
   "id": "7dcc6f9c",
   "metadata": {},
   "outputs": [
    {
     "data": {
      "text/plain": [
       "0.32332358381693654"
      ]
     },
     "execution_count": 17,
     "metadata": {},
     "output_type": "execute_result"
    }
   ],
   "source": [
    "prob_more_than_2 = walking.sf(2)\n",
    "prob_more_than_2"
   ]
  },
  {
   "cell_type": "code",
   "execution_count": 18,
   "id": "e1c9c103",
   "metadata": {},
   "outputs": [
    {
     "data": {
      "text/plain": [
       "0.6766764161830634"
      ]
     },
     "execution_count": 18,
     "metadata": {},
     "output_type": "execute_result"
    }
   ],
   "source": [
    "1- prob_more_than_2"
   ]
  },
  {
   "cell_type": "code",
   "execution_count": 19,
   "id": "6f07ae64",
   "metadata": {},
   "outputs": [
    {
     "data": {
      "text/plain": [
       "0.3233235838169365"
      ]
     },
     "execution_count": 19,
     "metadata": {},
     "output_type": "execute_result"
    }
   ],
   "source": [
    "1 - sum_0_1_2"
   ]
  },
  {
   "cell_type": "code",
   "execution_count": 20,
   "id": "e908992f",
   "metadata": {},
   "outputs": [
    {
     "data": {
      "text/plain": [
       "1.0"
      ]
     },
     "execution_count": 20,
     "metadata": {},
     "output_type": "execute_result"
    }
   ],
   "source": [
    "prob_more_than_2 + sum_0_1_2"
   ]
  },
  {
   "cell_type": "markdown",
   "id": "8a7a1a47",
   "metadata": {},
   "source": [
    "The probability of walking more than 2 miles plus the probability of walking two miles or less is 1. "
   ]
  },
  {
   "cell_type": "markdown",
   "id": "amazing-think",
   "metadata": {},
   "source": [
    "## Flipping Out with Binomials part 0\n",
    "\n",
    "Let's model flipping a fair coin w/ a binomial. The first step is to create the `stats.binom` distribution with a trial size of 1, because we're only flipping _one_ coin at a time in this setup. Our probability of \"success\" is 0.5 since we have a fair coin. For our purposes, we'll define \"heads\" as the success case.\n",
    "\n",
    "- Using `.pmf`, determine the chance of flipping exactly 0 heads. What's the result. Why is that?\n",
    "- Using `.pmf`, determine the chance of flipping exactly 1 head. What's the result. Why is that?\n",
    "- Using that same distribution, determine the chance of flipping exactly 2 heads. Why might this be the case?"
   ]
  },
  {
   "cell_type": "code",
   "execution_count": 21,
   "id": "00f4eee5",
   "metadata": {},
   "outputs": [],
   "source": [
    "coin_flip = stats.binom(1, 0.5)"
   ]
  },
  {
   "cell_type": "code",
   "execution_count": 62,
   "id": "8f83a73f",
   "metadata": {},
   "outputs": [
    {
     "data": {
      "image/png": "[encoded data removed]",
      "text/plain": [
       "<Figure size 864x576 with 1 Axes>"
      ]
     },
     "metadata": {
      "needs_background": "light"
     },
     "output_type": "display_data"
    }
   ],
   "source": [
    "plt.figure(figsize=(12, 8))\n",
    "hist2 = plt.hist(coin_flip.rvs(10_000), bins=3, fc='orange', ec='black')"
   ]
  },
  {
   "cell_type": "code",
   "execution_count": 22,
   "id": "76a5cbbe",
   "metadata": {},
   "outputs": [
    {
     "data": {
      "text/plain": [
       "0.5"
      ]
     },
     "execution_count": 22,
     "metadata": {},
     "output_type": "execute_result"
    }
   ],
   "source": [
    "coin_flip.pmf(0)"
   ]
  },
  {
   "cell_type": "markdown",
   "id": "7e3a8ddb",
   "metadata": {},
   "source": [
    "The probability if 50% because there is a 50% chance of getting tails."
   ]
  },
  {
   "cell_type": "code",
   "execution_count": 25,
   "id": "5916e0dc",
   "metadata": {},
   "outputs": [
    {
     "data": {
      "text/plain": [
       "0.5"
      ]
     },
     "execution_count": 25,
     "metadata": {},
     "output_type": "execute_result"
    }
   ],
   "source": [
    "coin_flip.pmf(1)"
   ]
  },
  {
   "cell_type": "markdown",
   "id": "7b7cde2d",
   "metadata": {},
   "source": [
    "The probability is 50% because there is a 50% chance of getting heads. "
   ]
  },
  {
   "cell_type": "code",
   "execution_count": 26,
   "id": "a690a29a",
   "metadata": {},
   "outputs": [
    {
     "data": {
      "text/plain": [
       "0.0"
      ]
     },
     "execution_count": 26,
     "metadata": {},
     "output_type": "execute_result"
    }
   ],
   "source": [
    "coin_flip.pmf(2)"
   ]
  },
  {
   "cell_type": "markdown",
   "id": "db0022c2",
   "metadata": {},
   "source": [
    "The probability is 0 because if we only flip the coin once, it's not possible to get heads twice."
   ]
  },
  {
   "cell_type": "markdown",
   "id": "critical-lease",
   "metadata": {},
   "source": [
    "## Flipping Out with Binomials part 1\n",
    "\n",
    "Let's model flipping 2 fair coins w/ a binomial. The first step is to create the `stats.binom` distribution with a trial size of 2, because this new distribution has a trial size of 2. Our probability of a \"success\" for _each individual_ coin is 0.5 since we have a fair coin. For our purposes, we'll define \"heads\" as the success case.\n",
    "\n",
    "With this new, 2 coin distribution, work through the following:\n",
    "- Use `.pmf` to determine the probability of flipping exactly 0 heads.\n",
    "- Use `.pmf` to determine the probability of flipping exactly 1 head.\n",
    "- Use `.pmf` to determine the probability of flipping exactly 2 heads.\n",
    "- Now use `.pmf` to determine the probability of probability of flipping exactly 3 heads. Why is this number what it is?\n",
    "\n",
    "- Now use `.cdf` to determine the probability of flipping 1 head or less\n",
    "- What's the relationship between that number and the sum of the probability of exaclty 0 plus the probability of exaclty 1?\n",
    "- Now use the `.sf` to determine the probability of flipping more than 0 heads? What is the relationship of that number to the probability of flipping exactly 0 heads?"
   ]
  },
  {
   "cell_type": "code",
   "execution_count": 27,
   "id": "340e47f5",
   "metadata": {},
   "outputs": [],
   "source": [
    "coin_flip2 = stats.binom(2, 0.5)"
   ]
  },
  {
   "cell_type": "code",
   "execution_count": 61,
   "id": "4ca27a6e",
   "metadata": {},
   "outputs": [
    {
     "data": {
      "image/png": "[encoded data removed]",
      "text/plain": [
       "<Figure size 864x576 with 1 Axes>"
      ]
     },
     "metadata": {
      "needs_background": "light"
     },
     "output_type": "display_data"
    }
   ],
   "source": [
    "plt.figure(figsize=(12, 8))\n",
    "hist3 = plt.hist(coin_flip2.rvs(10_000), bins=3, fc='yellow', ec='black')"
   ]
  },
  {
   "cell_type": "code",
   "execution_count": 34,
   "id": "9da3db8a",
   "metadata": {},
   "outputs": [
    {
     "data": {
      "text/plain": [
       "0.25"
      ]
     },
     "execution_count": 34,
     "metadata": {},
     "output_type": "execute_result"
    }
   ],
   "source": [
    "zero_heads = coin_flip2.pmf(0)\n",
    "zero_heads"
   ]
  },
  {
   "cell_type": "markdown",
   "id": "28f72de3",
   "metadata": {},
   "source": [
    "There is a 25% chance of flipping 0 heads. "
   ]
  },
  {
   "cell_type": "code",
   "execution_count": 35,
   "id": "94de75c9",
   "metadata": {},
   "outputs": [
    {
     "data": {
      "text/plain": [
       "0.5"
      ]
     },
     "execution_count": 35,
     "metadata": {},
     "output_type": "execute_result"
    }
   ],
   "source": [
    "one_head = coin_flip2.pmf(1)\n",
    "one_head"
   ]
  },
  {
   "cell_type": "markdown",
   "id": "331d2377",
   "metadata": {},
   "source": [
    "There is a 50% chance of flipping 1 head. "
   ]
  },
  {
   "cell_type": "code",
   "execution_count": 37,
   "id": "eeb9ffb0",
   "metadata": {},
   "outputs": [
    {
     "data": {
      "text/plain": [
       "0.25"
      ]
     },
     "execution_count": 37,
     "metadata": {},
     "output_type": "execute_result"
    }
   ],
   "source": [
    "two_heads = coin_flip2.pmf(2)\n",
    "two_heads"
   ]
  },
  {
   "cell_type": "markdown",
   "id": "b83acef7",
   "metadata": {},
   "source": [
    "There is a 25% chanhce of flipping 2 heads. "
   ]
  },
  {
   "cell_type": "code",
   "execution_count": 38,
   "id": "37a4a681",
   "metadata": {},
   "outputs": [
    {
     "data": {
      "text/plain": [
       "0.0"
      ]
     },
     "execution_count": 38,
     "metadata": {},
     "output_type": "execute_result"
    }
   ],
   "source": [
    "three_heads = coin_flip2.pmf(3)\n",
    "three_heads"
   ]
  },
  {
   "cell_type": "markdown",
   "id": "15cb531b",
   "metadata": {},
   "source": [
    "There is a 0% chance of flipping three heads because we are only flipping the coin twice."
   ]
  },
  {
   "cell_type": "code",
   "execution_count": 39,
   "id": "1fdd92a1",
   "metadata": {},
   "outputs": [
    {
     "data": {
      "text/plain": [
       "0.75"
      ]
     },
     "execution_count": 39,
     "metadata": {},
     "output_type": "execute_result"
    }
   ],
   "source": [
    "one_head_or_less = coin_flip2.cdf(1)\n",
    "one_head_or_less"
   ]
  },
  {
   "cell_type": "markdown",
   "id": "931e75ec",
   "metadata": {},
   "source": [
    "There is a 75% chance of flipping 1 head or less."
   ]
  },
  {
   "cell_type": "code",
   "execution_count": 52,
   "id": "6358c1cf",
   "metadata": {},
   "outputs": [
    {
     "data": {
      "text/plain": [
       "0.75"
      ]
     },
     "execution_count": 52,
     "metadata": {},
     "output_type": "execute_result"
    }
   ],
   "source": [
    "exactly_0_or_1 = zero_heads + one_head\n",
    "exactly_0_or_1"
   ]
  },
  {
   "cell_type": "markdown",
   "id": "119ab57f",
   "metadata": {},
   "source": [
    "The probability of getting zero heads plus the probability of getting one head is the same as the probability of flipping one head or less. "
   ]
  },
  {
   "cell_type": "code",
   "execution_count": 54,
   "id": "a687b182",
   "metadata": {},
   "outputs": [
    {
     "data": {
      "text/plain": [
       "0.75"
      ]
     },
     "execution_count": 54,
     "metadata": {},
     "output_type": "execute_result"
    }
   ],
   "source": [
    "more_than_zero = coin_flip2.sf(0)\n",
    "more_than_zero"
   ]
  },
  {
   "cell_type": "markdown",
   "id": "dd4b3d28",
   "metadata": {},
   "source": [
    "The probability of getting more than 0 heads plus the probability of getting 0 heads is 1. "
   ]
  },
  {
   "cell_type": "markdown",
   "id": "reported-journalist",
   "metadata": {},
   "source": [
    "## Under Normal Pressure\n",
    "\n",
    "Average systolic blood pressure 120 and the standard deviation is 13. Create your normal distribution with this information.\n",
    "\n",
    "- What is the chance that someone's systolic blood pressure is _exactly_ 120?\n",
    "- What is the likelihood that someone's systolic blood pressure is 130 or lower?\n",
    "- What is the chance that someone's systolic blood pressure is above 130?\n",
    "- What is the relationship between these two probabilities?"
   ]
  },
  {
   "cell_type": "code",
   "execution_count": 55,
   "id": "configured-desperate",
   "metadata": {},
   "outputs": [],
   "source": [
    "blood_pressure = stats.norm(120, 13)"
   ]
  },
  {
   "cell_type": "code",
   "execution_count": 60,
   "id": "5e9b065b",
   "metadata": {},
   "outputs": [
    {
     "data": {
      "image/png": "[encoded data removed]",
      "text/plain": [
       "<Figure size 864x576 with 1 Axes>"
      ]
     },
     "metadata": {
      "needs_background": "light"
     },
     "output_type": "display_data"
    }
   ],
   "source": [
    "plt.figure(figsize=(12, 8))\n",
    "hist4 = plt.hist(blood_pressure.rvs(10_000), bins=30, fc='red', ec='black')"
   ]
  },
  {
   "cell_type": "code",
   "execution_count": 68,
   "id": "83b0308f",
   "metadata": {},
   "outputs": [
    {
     "data": {
      "text/plain": [
       "0.030687867723187132"
      ]
     },
     "execution_count": 68,
     "metadata": {},
     "output_type": "execute_result"
    }
   ],
   "source": [
    "exactly_120 = blood_pressure.pdf(120)\n",
    "exactly_120"
   ]
  },
  {
   "cell_type": "markdown",
   "id": "302521d9",
   "metadata": {},
   "source": [
    "There is a 0.03 chance someone's blood pressure is exactly 120."
   ]
  },
  {
   "cell_type": "code",
   "execution_count": 66,
   "id": "1ffd5f15",
   "metadata": {},
   "outputs": [
    {
     "data": {
      "text/plain": [
       "0.7791218362875403"
      ]
     },
     "execution_count": 66,
     "metadata": {},
     "output_type": "execute_result"
    }
   ],
   "source": [
    "onethirty_or_less = blood_pressure.cdf(130)\n",
    "onethirty_or_less"
   ]
  },
  {
   "cell_type": "markdown",
   "id": "8860ce8a",
   "metadata": {},
   "source": [
    "There is a 0.78 chance someone's blood pressure is 130 or less. "
   ]
  },
  {
   "cell_type": "code",
   "execution_count": 69,
   "id": "26102db5",
   "metadata": {},
   "outputs": [
    {
     "data": {
      "text/plain": [
       "0.22087816371245977"
      ]
     },
     "execution_count": 69,
     "metadata": {},
     "output_type": "execute_result"
    }
   ],
   "source": [
    "more_than_130 = blood_pressure.sf(130)\n",
    "more_than_130 "
   ]
  },
  {
   "cell_type": "markdown",
   "id": "04570c8d",
   "metadata": {},
   "source": [
    "There is a 0.22 chance that someone's blood pressure is above 130. "
   ]
  },
  {
   "cell_type": "markdown",
   "id": "907811c7",
   "metadata": {},
   "source": [
    "The sum of the probabilities of someone's blood pressure being 130 or less and someone's blood pressure being above 130 is 1. "
   ]
  }
 ],
 "metadata": {
  "kernelspec": {
   "display_name": "Python 3",
   "language": "python",
   "name": "python3"
  },
  "language_info": {
   "codemirror_mode": {
    "name": "ipython",
    "version": 3
   },
   "file_extension": ".py",
   "mimetype": "text/x-python",
   "name": "python",
   "nbconvert_exporter": "python",
   "pygments_lexer": "ipython3",
   "version": "3.8.8"
  }
 },
 "nbformat": 4,
 "nbformat_minor": 5
}
