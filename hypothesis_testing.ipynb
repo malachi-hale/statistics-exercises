{
 "cells": [
  {
   "cell_type": "markdown",
   "id": "6b9069a5",
   "metadata": {},
   "source": [
    "# Overview"
   ]
  },
  {
   "cell_type": "markdown",
   "id": "a157066d",
   "metadata": {},
   "source": [
    "### Has the network latency gone up since we switched internet service providers?"
   ]
  },
  {
   "cell_type": "markdown",
   "id": "7aa57baf",
   "metadata": {},
   "source": [
    "$H_0:$  Mean latency in the three months after switiching internet service providers is less than or equal to mean latency in the three months before internet service providers. "
   ]
  },
  {
   "cell_type": "markdown",
   "id": "bb739655",
   "metadata": {},
   "source": [
    "$H_a:$ Mean latency in the three months after switching internet service providers is greater than mean latency in the three months before switching internet service providers."
   ]
  },
  {
   "cell_type": "markdown",
   "id": "d3d2bc74",
   "metadata": {},
   "source": [
    "**Type I Error**: To test this hypothesis, we sampled a group of people. Within our sample group, average latency for three months after switching internet service providers is greater than latency for three months before switching internet service providers, but the overall population experienced a decrease or no change in latency after switching internet service providers."
   ]
  },
  {
   "cell_type": "markdown",
   "id": "1fe35cb1",
   "metadata": {},
   "source": [
    "**Type II Error**: To test our hypothesis, we sampled a group of people. Within our sample group, average latency for three months after switching internet service providers is less than the average latency for three months before switching internet service providers. The overall population, however, experienced an average increase in latency after switching internet service providers. "
   ]
  },
  {
   "cell_type": "markdown",
   "id": "813f9503",
   "metadata": {},
   "source": [
    "### Is the website redesign any good?"
   ]
  },
  {
   "cell_type": "markdown",
   "id": "fff25b52",
   "metadata": {},
   "source": [
    "$H_0:$ The mean click-through rate in the six months before the website redesign is equal to or greater than the mean click-through rate in the six months after the website redesign."
   ]
  },
  {
   "cell_type": "markdown",
   "id": "6f11e219",
   "metadata": {},
   "source": [
    "$H_a:$ The mean click-through rate in the six months before the website redesign is less than the mean click-through rate in the six months after the website redesign. "
   ]
  },
  {
   "cell_type": "markdown",
   "id": "8c765739",
   "metadata": {},
   "source": [
    "**Type I Error**: To sample our hypothesis, we sampled the website's mean click rates for users in a set number of areas. Of the areas we sampled, the mean click through rate for the six months before the website redesign was less than the mean click through rate for the six months after the website redesign. However, the mean click rate of users in all areas shows an increase in the click through rate since the website redesign. "
   ]
  },
  {
   "cell_type": "markdown",
   "id": "3ed23b0a",
   "metadata": {},
   "source": [
    "**Type II Error**: To sample our hypothesis, we sampled the website's mean click rate for a set number of areas. Of the areas we sampled, the mean click through rate for the six months before the website redesign was greater than the click through rate for the six months after the website redesign. However, the mean click rate of all days shows no change in the click through rate since website redesign. "
   ]
  },
  {
   "cell_type": "markdown",
   "id": "620f4ccf",
   "metadata": {},
   "source": [
    "### Is our television ad driving more sales?\n"
   ]
  },
  {
   "cell_type": "markdown",
   "id": "b28dbeb0",
   "metadata": {},
   "source": [
    "$H_0:$ The mean sales rate in the six months before the television advertisement campaign began is greater than or equal to the mean sales rate in the six months after the television campaign began. "
   ]
  },
  {
   "cell_type": "markdown",
   "id": "86aabcdf",
   "metadata": {},
   "source": [
    "$H_{a}:$ The mean sales rate in the six months before the television advertisement campaign began is less than the mean sales rate in the six months after the television campaign began. "
   ]
  },
  {
   "cell_type": "markdown",
   "id": "e14ed812",
   "metadata": {},
   "source": [
    "**Type I Error**: To test this hypothesis we sampled sales figures for a six month period in a set number of locations. In the sampled locations, the mean number of sales in the six months before the television advertising campaign began was less than the mean number of sales in the six months after the television advertising campaign began. \n",
    "\n",
    "However, in the whole market, sales rates remained the same after the television advertising campaign began. "
   ]
  },
  {
   "cell_type": "markdown",
   "id": "4322c2b2",
   "metadata": {},
   "source": [
    "**Type II Error**: To test this hypothesis, we sampled the sales figures in a set number of locations. In the sampled locations, the mean number of sales in the six months before the television advertising campaign began was greater than the mean number of sales in the six months after the television advertising campaign began. \n",
    "\n",
    "However, in the whole market, sales decreased after the television advertising campaign began."
   ]
  },
  {
   "cell_type": "markdown",
   "id": "f0a92884",
   "metadata": {},
   "source": [
    "# T-test"
   ]
  },
  {
   "cell_type": "markdown",
   "id": "531c361f",
   "metadata": {},
   "source": [
    "We will import the datasets that we may need."
   ]
  },
  {
   "cell_type": "code",
   "execution_count": 4,
   "id": "fdd25325",
   "metadata": {},
   "outputs": [],
   "source": [
    "import matplotlib.pyplot as plt\n",
    "import numpy as np\n",
    "from scipy import stats\n",
    "from pydataset import data\n",
    "from numpy import random\n",
    "import seaborn as sns\n",
    "import pandas as pd\n",
    "from math import sqrt"
   ]
  },
  {
   "cell_type": "markdown",
   "id": "0560e088",
   "metadata": {},
   "source": [
    "## Question #1 "
   ]
  },
  {
   "cell_type": "markdown",
   "id": "373a42a3",
   "metadata": {},
   "source": [
    "Ace Realty wants to determine whether the average time it takes to sell homes is different for its two offices."
   ]
  },
  {
   "cell_type": "markdown",
   "id": "6505f971",
   "metadata": {},
   "source": [
    "A sample of 40 sales from office #1 revealed a mean of 90 days and a standard deviation of 15 days."
   ]
  },
  {
   "cell_type": "code",
   "execution_count": 5,
   "id": "13ae8720",
   "metadata": {},
   "outputs": [],
   "source": [
    "sample_size1 = 40\n",
    "mean1 = 90\n",
    "std1 = 15"
   ]
  },
  {
   "cell_type": "markdown",
   "id": "86f61f9e",
   "metadata": {},
   "source": [
    "A sample of 50 sales from office #2 revealed a mean of 100 days and a standard deviation of 20 days."
   ]
  },
  {
   "cell_type": "code",
   "execution_count": 39,
   "id": "cc746720",
   "metadata": {},
   "outputs": [],
   "source": [
    "sample_size2 = 50\n",
    "mean2 = 100\n",
    "std2 = 20"
   ]
  },
  {
   "cell_type": "markdown",
   "id": "a71db222",
   "metadata": {},
   "source": [
    "Use a .05 level of significance."
   ]
  },
  {
   "cell_type": "code",
   "execution_count": 20,
   "id": "1f64e18e",
   "metadata": {},
   "outputs": [],
   "source": [
    "level_of_significance = 0.05"
   ]
  },
  {
   "cell_type": "markdown",
   "id": "11f24f80",
   "metadata": {},
   "source": [
    "**Formulate Hypotheses**"
   ]
  },
  {
   "cell_type": "markdown",
   "id": "0a0a8780",
   "metadata": {},
   "source": [
    "$H_0$: Average home sale time for Office #1 = average home sale time for Office #2."
   ]
  },
  {
   "cell_type": "markdown",
   "id": "78668510",
   "metadata": {},
   "source": [
    "$H_a$: Average home sale time for Office #1 $\\ne$ average home sale time for Office #2."
   ]
  },
  {
   "cell_type": "markdown",
   "id": "293b1547",
   "metadata": {},
   "source": [
    "**Generate a sample for Office #1**"
   ]
  },
  {
   "cell_type": "code",
   "execution_count": 42,
   "id": "cd408f53",
   "metadata": {},
   "outputs": [
    {
     "data": {
      "text/html": [
       "<div>\n",
       "<style scoped>\n",
       "    .dataframe tbody tr th:only-of-type {\n",
       "        vertical-align: middle;\n",
       "    }\n",
       "\n",
       "    .dataframe tbody tr th {\n",
       "        vertical-align: top;\n",
       "    }\n",
       "\n",
       "    .dataframe thead th {\n",
       "        text-align: right;\n",
       "    }\n",
       "</style>\n",
       "<table border=\"1\" class=\"dataframe\">\n",
       "  <thead>\n",
       "    <tr style=\"text-align: right;\">\n",
       "      <th></th>\n",
       "      <th>time</th>\n",
       "    </tr>\n",
       "  </thead>\n",
       "  <tbody>\n",
       "    <tr>\n",
       "      <th>0</th>\n",
       "      <td>86.123324</td>\n",
       "    </tr>\n",
       "    <tr>\n",
       "      <th>1</th>\n",
       "      <td>84.153832</td>\n",
       "    </tr>\n",
       "    <tr>\n",
       "      <th>2</th>\n",
       "      <td>96.903707</td>\n",
       "    </tr>\n",
       "    <tr>\n",
       "      <th>3</th>\n",
       "      <td>83.676943</td>\n",
       "    </tr>\n",
       "    <tr>\n",
       "      <th>4</th>\n",
       "      <td>83.120911</td>\n",
       "    </tr>\n",
       "    <tr>\n",
       "      <th>5</th>\n",
       "      <td>93.406062</td>\n",
       "    </tr>\n",
       "    <tr>\n",
       "      <th>6</th>\n",
       "      <td>79.651912</td>\n",
       "    </tr>\n",
       "    <tr>\n",
       "      <th>7</th>\n",
       "      <td>75.757755</td>\n",
       "    </tr>\n",
       "    <tr>\n",
       "      <th>8</th>\n",
       "      <td>79.192688</td>\n",
       "    </tr>\n",
       "    <tr>\n",
       "      <th>9</th>\n",
       "      <td>108.193117</td>\n",
       "    </tr>\n",
       "    <tr>\n",
       "      <th>10</th>\n",
       "      <td>92.690040</td>\n",
       "    </tr>\n",
       "    <tr>\n",
       "      <th>11</th>\n",
       "      <td>98.996525</td>\n",
       "    </tr>\n",
       "    <tr>\n",
       "      <th>12</th>\n",
       "      <td>109.891140</td>\n",
       "    </tr>\n",
       "    <tr>\n",
       "      <th>13</th>\n",
       "      <td>103.898012</td>\n",
       "    </tr>\n",
       "    <tr>\n",
       "      <th>14</th>\n",
       "      <td>87.974259</td>\n",
       "    </tr>\n",
       "    <tr>\n",
       "      <th>15</th>\n",
       "      <td>65.894138</td>\n",
       "    </tr>\n",
       "    <tr>\n",
       "      <th>16</th>\n",
       "      <td>87.045067</td>\n",
       "    </tr>\n",
       "    <tr>\n",
       "      <th>17</th>\n",
       "      <td>87.988429</td>\n",
       "    </tr>\n",
       "    <tr>\n",
       "      <th>18</th>\n",
       "      <td>87.701070</td>\n",
       "    </tr>\n",
       "    <tr>\n",
       "      <th>19</th>\n",
       "      <td>80.586207</td>\n",
       "    </tr>\n",
       "    <tr>\n",
       "      <th>20</th>\n",
       "      <td>101.831518</td>\n",
       "    </tr>\n",
       "    <tr>\n",
       "      <th>21</th>\n",
       "      <td>77.364917</td>\n",
       "    </tr>\n",
       "    <tr>\n",
       "      <th>22</th>\n",
       "      <td>90.230018</td>\n",
       "    </tr>\n",
       "    <tr>\n",
       "      <th>23</th>\n",
       "      <td>66.656647</td>\n",
       "    </tr>\n",
       "    <tr>\n",
       "      <th>24</th>\n",
       "      <td>74.993735</td>\n",
       "    </tr>\n",
       "    <tr>\n",
       "      <th>25</th>\n",
       "      <td>67.053549</td>\n",
       "    </tr>\n",
       "    <tr>\n",
       "      <th>26</th>\n",
       "      <td>91.368339</td>\n",
       "    </tr>\n",
       "    <tr>\n",
       "      <th>27</th>\n",
       "      <td>82.891488</td>\n",
       "    </tr>\n",
       "    <tr>\n",
       "      <th>28</th>\n",
       "      <td>103.915796</td>\n",
       "    </tr>\n",
       "    <tr>\n",
       "      <th>29</th>\n",
       "      <td>122.605991</td>\n",
       "    </tr>\n",
       "    <tr>\n",
       "      <th>30</th>\n",
       "      <td>97.606380</td>\n",
       "    </tr>\n",
       "    <tr>\n",
       "      <th>31</th>\n",
       "      <td>87.841793</td>\n",
       "    </tr>\n",
       "    <tr>\n",
       "      <th>32</th>\n",
       "      <td>77.485232</td>\n",
       "    </tr>\n",
       "    <tr>\n",
       "      <th>33</th>\n",
       "      <td>90.981889</td>\n",
       "    </tr>\n",
       "    <tr>\n",
       "      <th>34</th>\n",
       "      <td>77.322103</td>\n",
       "    </tr>\n",
       "    <tr>\n",
       "      <th>35</th>\n",
       "      <td>72.610521</td>\n",
       "    </tr>\n",
       "    <tr>\n",
       "      <th>36</th>\n",
       "      <td>74.052478</td>\n",
       "    </tr>\n",
       "    <tr>\n",
       "      <th>37</th>\n",
       "      <td>77.978858</td>\n",
       "    </tr>\n",
       "    <tr>\n",
       "      <th>38</th>\n",
       "      <td>98.838822</td>\n",
       "    </tr>\n",
       "    <tr>\n",
       "      <th>39</th>\n",
       "      <td>101.604818</td>\n",
       "    </tr>\n",
       "  </tbody>\n",
       "</table>\n",
       "</div>"
      ],
      "text/plain": [
       "          time\n",
       "0    86.123324\n",
       "1    84.153832\n",
       "2    96.903707\n",
       "3    83.676943\n",
       "4    83.120911\n",
       "5    93.406062\n",
       "6    79.651912\n",
       "7    75.757755\n",
       "8    79.192688\n",
       "9   108.193117\n",
       "10   92.690040\n",
       "11   98.996525\n",
       "12  109.891140\n",
       "13  103.898012\n",
       "14   87.974259\n",
       "15   65.894138\n",
       "16   87.045067\n",
       "17   87.988429\n",
       "18   87.701070\n",
       "19   80.586207\n",
       "20  101.831518\n",
       "21   77.364917\n",
       "22   90.230018\n",
       "23   66.656647\n",
       "24   74.993735\n",
       "25   67.053549\n",
       "26   91.368339\n",
       "27   82.891488\n",
       "28  103.915796\n",
       "29  122.605991\n",
       "30   97.606380\n",
       "31   87.841793\n",
       "32   77.485232\n",
       "33   90.981889\n",
       "34   77.322103\n",
       "35   72.610521\n",
       "36   74.052478\n",
       "37   77.978858\n",
       "38   98.838822\n",
       "39  101.604818"
      ]
     },
     "execution_count": 42,
     "metadata": {},
     "output_type": "execute_result"
    }
   ],
   "source": [
    "office_1 = random.normal(mean1, std1, size= sample_size1)\n",
    "office_1_pd = pd.DataFrame({'time': office_1})\n",
    "office_1_pd"
   ]
  },
  {
   "cell_type": "markdown",
   "id": "45e64024",
   "metadata": {},
   "source": [
    "**Generate a sample for Office #2**"
   ]
  },
  {
   "cell_type": "code",
   "execution_count": 41,
   "id": "bd66f3df",
   "metadata": {},
   "outputs": [
    {
     "data": {
      "text/html": [
       "<div>\n",
       "<style scoped>\n",
       "    .dataframe tbody tr th:only-of-type {\n",
       "        vertical-align: middle;\n",
       "    }\n",
       "\n",
       "    .dataframe tbody tr th {\n",
       "        vertical-align: top;\n",
       "    }\n",
       "\n",
       "    .dataframe thead th {\n",
       "        text-align: right;\n",
       "    }\n",
       "</style>\n",
       "<table border=\"1\" class=\"dataframe\">\n",
       "  <thead>\n",
       "    <tr style=\"text-align: right;\">\n",
       "      <th></th>\n",
       "      <th>time</th>\n",
       "    </tr>\n",
       "  </thead>\n",
       "  <tbody>\n",
       "    <tr>\n",
       "      <th>0</th>\n",
       "      <td>99.758484</td>\n",
       "    </tr>\n",
       "    <tr>\n",
       "      <th>1</th>\n",
       "      <td>110.716631</td>\n",
       "    </tr>\n",
       "    <tr>\n",
       "      <th>2</th>\n",
       "      <td>107.092205</td>\n",
       "    </tr>\n",
       "    <tr>\n",
       "      <th>3</th>\n",
       "      <td>116.619462</td>\n",
       "    </tr>\n",
       "    <tr>\n",
       "      <th>4</th>\n",
       "      <td>97.405179</td>\n",
       "    </tr>\n",
       "    <tr>\n",
       "      <th>5</th>\n",
       "      <td>85.225475</td>\n",
       "    </tr>\n",
       "    <tr>\n",
       "      <th>6</th>\n",
       "      <td>52.216517</td>\n",
       "    </tr>\n",
       "    <tr>\n",
       "      <th>7</th>\n",
       "      <td>104.386959</td>\n",
       "    </tr>\n",
       "    <tr>\n",
       "      <th>8</th>\n",
       "      <td>88.912733</td>\n",
       "    </tr>\n",
       "    <tr>\n",
       "      <th>9</th>\n",
       "      <td>102.381490</td>\n",
       "    </tr>\n",
       "    <tr>\n",
       "      <th>10</th>\n",
       "      <td>103.207851</td>\n",
       "    </tr>\n",
       "    <tr>\n",
       "      <th>11</th>\n",
       "      <td>83.232505</td>\n",
       "    </tr>\n",
       "    <tr>\n",
       "      <th>12</th>\n",
       "      <td>86.357718</td>\n",
       "    </tr>\n",
       "    <tr>\n",
       "      <th>13</th>\n",
       "      <td>87.900786</td>\n",
       "    </tr>\n",
       "    <tr>\n",
       "      <th>14</th>\n",
       "      <td>102.347189</td>\n",
       "    </tr>\n",
       "    <tr>\n",
       "      <th>15</th>\n",
       "      <td>102.517561</td>\n",
       "    </tr>\n",
       "    <tr>\n",
       "      <th>16</th>\n",
       "      <td>99.602834</td>\n",
       "    </tr>\n",
       "    <tr>\n",
       "      <th>17</th>\n",
       "      <td>85.710787</td>\n",
       "    </tr>\n",
       "    <tr>\n",
       "      <th>18</th>\n",
       "      <td>115.409265</td>\n",
       "    </tr>\n",
       "    <tr>\n",
       "      <th>19</th>\n",
       "      <td>128.845114</td>\n",
       "    </tr>\n",
       "    <tr>\n",
       "      <th>20</th>\n",
       "      <td>103.735463</td>\n",
       "    </tr>\n",
       "    <tr>\n",
       "      <th>21</th>\n",
       "      <td>126.988386</td>\n",
       "    </tr>\n",
       "    <tr>\n",
       "      <th>22</th>\n",
       "      <td>70.926024</td>\n",
       "    </tr>\n",
       "    <tr>\n",
       "      <th>23</th>\n",
       "      <td>98.089746</td>\n",
       "    </tr>\n",
       "    <tr>\n",
       "      <th>24</th>\n",
       "      <td>62.742342</td>\n",
       "    </tr>\n",
       "    <tr>\n",
       "      <th>25</th>\n",
       "      <td>147.402421</td>\n",
       "    </tr>\n",
       "    <tr>\n",
       "      <th>26</th>\n",
       "      <td>107.401194</td>\n",
       "    </tr>\n",
       "    <tr>\n",
       "      <th>27</th>\n",
       "      <td>133.463783</td>\n",
       "    </tr>\n",
       "    <tr>\n",
       "      <th>28</th>\n",
       "      <td>112.046210</td>\n",
       "    </tr>\n",
       "    <tr>\n",
       "      <th>29</th>\n",
       "      <td>107.468475</td>\n",
       "    </tr>\n",
       "    <tr>\n",
       "      <th>30</th>\n",
       "      <td>95.513505</td>\n",
       "    </tr>\n",
       "    <tr>\n",
       "      <th>31</th>\n",
       "      <td>91.233159</td>\n",
       "    </tr>\n",
       "    <tr>\n",
       "      <th>32</th>\n",
       "      <td>93.888490</td>\n",
       "    </tr>\n",
       "    <tr>\n",
       "      <th>33</th>\n",
       "      <td>132.717543</td>\n",
       "    </tr>\n",
       "    <tr>\n",
       "      <th>34</th>\n",
       "      <td>89.734063</td>\n",
       "    </tr>\n",
       "    <tr>\n",
       "      <th>35</th>\n",
       "      <td>95.044789</td>\n",
       "    </tr>\n",
       "    <tr>\n",
       "      <th>36</th>\n",
       "      <td>118.674402</td>\n",
       "    </tr>\n",
       "    <tr>\n",
       "      <th>37</th>\n",
       "      <td>94.944811</td>\n",
       "    </tr>\n",
       "    <tr>\n",
       "      <th>38</th>\n",
       "      <td>140.334004</td>\n",
       "    </tr>\n",
       "    <tr>\n",
       "      <th>39</th>\n",
       "      <td>90.318999</td>\n",
       "    </tr>\n",
       "    <tr>\n",
       "      <th>40</th>\n",
       "      <td>95.792746</td>\n",
       "    </tr>\n",
       "    <tr>\n",
       "      <th>41</th>\n",
       "      <td>91.856614</td>\n",
       "    </tr>\n",
       "    <tr>\n",
       "      <th>42</th>\n",
       "      <td>96.254623</td>\n",
       "    </tr>\n",
       "    <tr>\n",
       "      <th>43</th>\n",
       "      <td>124.985968</td>\n",
       "    </tr>\n",
       "    <tr>\n",
       "      <th>44</th>\n",
       "      <td>106.387166</td>\n",
       "    </tr>\n",
       "    <tr>\n",
       "      <th>45</th>\n",
       "      <td>109.622461</td>\n",
       "    </tr>\n",
       "    <tr>\n",
       "      <th>46</th>\n",
       "      <td>56.724701</td>\n",
       "    </tr>\n",
       "    <tr>\n",
       "      <th>47</th>\n",
       "      <td>77.359259</td>\n",
       "    </tr>\n",
       "    <tr>\n",
       "      <th>48</th>\n",
       "      <td>107.222261</td>\n",
       "    </tr>\n",
       "    <tr>\n",
       "      <th>49</th>\n",
       "      <td>127.544395</td>\n",
       "    </tr>\n",
       "  </tbody>\n",
       "</table>\n",
       "</div>"
      ],
      "text/plain": [
       "          time\n",
       "0    99.758484\n",
       "1   110.716631\n",
       "2   107.092205\n",
       "3   116.619462\n",
       "4    97.405179\n",
       "5    85.225475\n",
       "6    52.216517\n",
       "7   104.386959\n",
       "8    88.912733\n",
       "9   102.381490\n",
       "10  103.207851\n",
       "11   83.232505\n",
       "12   86.357718\n",
       "13   87.900786\n",
       "14  102.347189\n",
       "15  102.517561\n",
       "16   99.602834\n",
       "17   85.710787\n",
       "18  115.409265\n",
       "19  128.845114\n",
       "20  103.735463\n",
       "21  126.988386\n",
       "22   70.926024\n",
       "23   98.089746\n",
       "24   62.742342\n",
       "25  147.402421\n",
       "26  107.401194\n",
       "27  133.463783\n",
       "28  112.046210\n",
       "29  107.468475\n",
       "30   95.513505\n",
       "31   91.233159\n",
       "32   93.888490\n",
       "33  132.717543\n",
       "34   89.734063\n",
       "35   95.044789\n",
       "36  118.674402\n",
       "37   94.944811\n",
       "38  140.334004\n",
       "39   90.318999\n",
       "40   95.792746\n",
       "41   91.856614\n",
       "42   96.254623\n",
       "43  124.985968\n",
       "44  106.387166\n",
       "45  109.622461\n",
       "46   56.724701\n",
       "47   77.359259\n",
       "48  107.222261\n",
       "49  127.544395"
      ]
     },
     "execution_count": 41,
     "metadata": {},
     "output_type": "execute_result"
    }
   ],
   "source": [
    "office_2 = random.normal(mean2, std2, size = sample_size2)\n",
    "office_2_pd = pd.DataFrame({'time': office_2})\n",
    "office_2_pd"
   ]
  },
  {
   "cell_type": "markdown",
   "id": "e6f3f38b",
   "metadata": {},
   "source": [
    "**Graph of Office #1 sale times**"
   ]
  },
  {
   "cell_type": "code",
   "execution_count": 43,
   "id": "280d7442",
   "metadata": {},
   "outputs": [
    {
     "data": {
      "image/png": "[encoded data removed]",
      "text/plain": [
       "<Figure size 432x288 with 1 Axes>"
      ]
     },
     "metadata": {
      "needs_background": "light"
     },
     "output_type": "display_data"
    }
   ],
   "source": [
    "office_1_plot = office_1_pd['time'].hist()"
   ]
  },
  {
   "cell_type": "markdown",
   "id": "49fe7872",
   "metadata": {},
   "source": [
    "**Graph of Office #2 sale times**"
   ]
  },
  {
   "cell_type": "code",
   "execution_count": 44,
   "id": "3cc6eff8",
   "metadata": {},
   "outputs": [
    {
     "data": {
      "image/png": "[encoded data removed]",
      "text/plain": [
       "<Figure size 432x288 with 1 Axes>"
      ]
     },
     "metadata": {
      "needs_background": "light"
     },
     "output_type": "display_data"
    }
   ],
   "source": [
    "office_2_plot = office_2_pd['time'].hist()"
   ]
  },
  {
   "cell_type": "markdown",
   "id": "d4e69fb4",
   "metadata": {},
   "source": [
    "These graphs look different to the eye, but we will still do a calculation to determine if there is a statistical difference."
   ]
  },
  {
   "cell_type": "markdown",
   "id": "40cf4b88",
   "metadata": {},
   "source": [
    "**Check the variance**"
   ]
  },
  {
   "cell_type": "code",
   "execution_count": 45,
   "id": "201e6ac7",
   "metadata": {},
   "outputs": [
    {
     "name": "stdout",
     "output_type": "stream",
     "text": [
      "Variance for Office 1: 161.83312208325577\n",
      "Variance for Office 2: 387.8105155825484\n"
     ]
    }
   ],
   "source": [
    "print(\"Variance for Office 1:\", office_1_pd['time'].var())\n",
    "print(\"Variance for Office 2:\", office_2_pd['time'].var())"
   ]
  },
  {
   "cell_type": "markdown",
   "id": "fdae266a",
   "metadata": {},
   "source": [
    "These two variances are not equal, so we will set the argument of equal_var to False."
   ]
  },
  {
   "cell_type": "markdown",
   "id": "ea1ef01e",
   "metadata": {},
   "source": [
    "**Compute test statistic**"
   ]
  },
  {
   "cell_type": "code",
   "execution_count": 49,
   "id": "755afe26",
   "metadata": {},
   "outputs": [
    {
     "name": "stdout",
     "output_type": "stream",
     "text": [
      "T-statistic: -3.9655517975022336\n",
      "P-value: 0.00015269901123267235\n"
     ]
    }
   ],
   "source": [
    "t, p = stats.ttest_ind(office_1_pd['time'], office_2_pd['time'], equal_var = False)\n",
    "print(\"T-statistic:\", t)\n",
    "print(\"P-value:\", p)"
   ]
  },
  {
   "cell_type": "markdown",
   "id": "c56df326",
   "metadata": {},
   "source": [
    "We will now check whether $\\frac{1}{2}p < 0.05$ and $t>0$."
   ]
  },
  {
   "cell_type": "code",
   "execution_count": 55,
   "id": "066191f9",
   "metadata": {},
   "outputs": [
    {
     "name": "stdout",
     "output_type": "stream",
     "text": [
      "Is p-value significant? True\n",
      "Is t-statistic greater than 0? False\n"
     ]
    }
   ],
   "source": [
    "print(\"Is p-value significant?\", p < level_of_significance)\n",
    "print(\"Is t-statistic greater than 0?\", t > 0)"
   ]
  },
  {
   "cell_type": "markdown",
   "id": "4e16ea49",
   "metadata": {},
   "source": [
    "**We will use the p-value and t-statistic to reach a conclusion.**"
   ]
  },
  {
   "cell_type": "code",
   "execution_count": 56,
   "id": "71f1ac76",
   "metadata": {},
   "outputs": [
    {
     "name": "stdout",
     "output_type": "stream",
     "text": [
      "We reject the null hypothesis.\n",
      "The average sale time for Office #1 is not equal to the average sale time for Office #2.\n"
     ]
    }
   ],
   "source": [
    "if p > level_of_significance:\n",
    "    print(\"We fail to reject the null hypothesis\")\n",
    "else:\n",
    "    print(\"We reject the null hypothesis.\")\n",
    "    print(\"The average sale time for Office #1 is not equal to the average sale time for Office #2.\")"
   ]
  },
  {
   "cell_type": "markdown",
   "id": "64cc237c",
   "metadata": {},
   "source": [
    "## Question 2"
   ]
  },
  {
   "cell_type": "markdown",
   "id": "b4b4b1b7",
   "metadata": {},
   "source": [
    "Load the mpg dataset."
   ]
  },
  {
   "cell_type": "code",
   "execution_count": 62,
   "id": "bc07b9c1",
   "metadata": {},
   "outputs": [],
   "source": [
    "mpg_df = data(\"mpg\")"
   ]
  },
  {
   "cell_type": "code",
   "execution_count": 63,
   "id": "3f923239",
   "metadata": {
    "scrolled": true
   },
   "outputs": [
    {
     "data": {
      "text/html": [
       "<div>\n",
       "<style scoped>\n",
       "    .dataframe tbody tr th:only-of-type {\n",
       "        vertical-align: middle;\n",
       "    }\n",
       "\n",
       "    .dataframe tbody tr th {\n",
       "        vertical-align: top;\n",
       "    }\n",
       "\n",
       "    .dataframe thead th {\n",
       "        text-align: right;\n",
       "    }\n",
       "</style>\n",
       "<table border=\"1\" class=\"dataframe\">\n",
       "  <thead>\n",
       "    <tr style=\"text-align: right;\">\n",
       "      <th></th>\n",
       "      <th>manufacturer</th>\n",
       "      <th>model</th>\n",
       "      <th>displ</th>\n",
       "      <th>year</th>\n",
       "      <th>cyl</th>\n",
       "      <th>trans</th>\n",
       "      <th>drv</th>\n",
       "      <th>cty</th>\n",
       "      <th>hwy</th>\n",
       "      <th>fl</th>\n",
       "      <th>class</th>\n",
       "    </tr>\n",
       "  </thead>\n",
       "  <tbody>\n",
       "    <tr>\n",
       "      <th>1</th>\n",
       "      <td>audi</td>\n",
       "      <td>a4</td>\n",
       "      <td>1.8</td>\n",
       "      <td>1999</td>\n",
       "      <td>4</td>\n",
       "      <td>auto(l5)</td>\n",
       "      <td>f</td>\n",
       "      <td>18</td>\n",
       "      <td>29</td>\n",
       "      <td>p</td>\n",
       "      <td>compact</td>\n",
       "    </tr>\n",
       "    <tr>\n",
       "      <th>2</th>\n",
       "      <td>audi</td>\n",
       "      <td>a4</td>\n",
       "      <td>1.8</td>\n",
       "      <td>1999</td>\n",
       "      <td>4</td>\n",
       "      <td>manual(m5)</td>\n",
       "      <td>f</td>\n",
       "      <td>21</td>\n",
       "      <td>29</td>\n",
       "      <td>p</td>\n",
       "      <td>compact</td>\n",
       "    </tr>\n",
       "    <tr>\n",
       "      <th>3</th>\n",
       "      <td>audi</td>\n",
       "      <td>a4</td>\n",
       "      <td>2.0</td>\n",
       "      <td>2008</td>\n",
       "      <td>4</td>\n",
       "      <td>manual(m6)</td>\n",
       "      <td>f</td>\n",
       "      <td>20</td>\n",
       "      <td>31</td>\n",
       "      <td>p</td>\n",
       "      <td>compact</td>\n",
       "    </tr>\n",
       "    <tr>\n",
       "      <th>4</th>\n",
       "      <td>audi</td>\n",
       "      <td>a4</td>\n",
       "      <td>2.0</td>\n",
       "      <td>2008</td>\n",
       "      <td>4</td>\n",
       "      <td>auto(av)</td>\n",
       "      <td>f</td>\n",
       "      <td>21</td>\n",
       "      <td>30</td>\n",
       "      <td>p</td>\n",
       "      <td>compact</td>\n",
       "    </tr>\n",
       "    <tr>\n",
       "      <th>5</th>\n",
       "      <td>audi</td>\n",
       "      <td>a4</td>\n",
       "      <td>2.8</td>\n",
       "      <td>1999</td>\n",
       "      <td>6</td>\n",
       "      <td>auto(l5)</td>\n",
       "      <td>f</td>\n",
       "      <td>16</td>\n",
       "      <td>26</td>\n",
       "      <td>p</td>\n",
       "      <td>compact</td>\n",
       "    </tr>\n",
       "    <tr>\n",
       "      <th>...</th>\n",
       "      <td>...</td>\n",
       "      <td>...</td>\n",
       "      <td>...</td>\n",
       "      <td>...</td>\n",
       "      <td>...</td>\n",
       "      <td>...</td>\n",
       "      <td>...</td>\n",
       "      <td>...</td>\n",
       "      <td>...</td>\n",
       "      <td>...</td>\n",
       "      <td>...</td>\n",
       "    </tr>\n",
       "    <tr>\n",
       "      <th>230</th>\n",
       "      <td>volkswagen</td>\n",
       "      <td>passat</td>\n",
       "      <td>2.0</td>\n",
       "      <td>2008</td>\n",
       "      <td>4</td>\n",
       "      <td>auto(s6)</td>\n",
       "      <td>f</td>\n",
       "      <td>19</td>\n",
       "      <td>28</td>\n",
       "      <td>p</td>\n",
       "      <td>midsize</td>\n",
       "    </tr>\n",
       "    <tr>\n",
       "      <th>231</th>\n",
       "      <td>volkswagen</td>\n",
       "      <td>passat</td>\n",
       "      <td>2.0</td>\n",
       "      <td>2008</td>\n",
       "      <td>4</td>\n",
       "      <td>manual(m6)</td>\n",
       "      <td>f</td>\n",
       "      <td>21</td>\n",
       "      <td>29</td>\n",
       "      <td>p</td>\n",
       "      <td>midsize</td>\n",
       "    </tr>\n",
       "    <tr>\n",
       "      <th>232</th>\n",
       "      <td>volkswagen</td>\n",
       "      <td>passat</td>\n",
       "      <td>2.8</td>\n",
       "      <td>1999</td>\n",
       "      <td>6</td>\n",
       "      <td>auto(l5)</td>\n",
       "      <td>f</td>\n",
       "      <td>16</td>\n",
       "      <td>26</td>\n",
       "      <td>p</td>\n",
       "      <td>midsize</td>\n",
       "    </tr>\n",
       "    <tr>\n",
       "      <th>233</th>\n",
       "      <td>volkswagen</td>\n",
       "      <td>passat</td>\n",
       "      <td>2.8</td>\n",
       "      <td>1999</td>\n",
       "      <td>6</td>\n",
       "      <td>manual(m5)</td>\n",
       "      <td>f</td>\n",
       "      <td>18</td>\n",
       "      <td>26</td>\n",
       "      <td>p</td>\n",
       "      <td>midsize</td>\n",
       "    </tr>\n",
       "    <tr>\n",
       "      <th>234</th>\n",
       "      <td>volkswagen</td>\n",
       "      <td>passat</td>\n",
       "      <td>3.6</td>\n",
       "      <td>2008</td>\n",
       "      <td>6</td>\n",
       "      <td>auto(s6)</td>\n",
       "      <td>f</td>\n",
       "      <td>17</td>\n",
       "      <td>26</td>\n",
       "      <td>p</td>\n",
       "      <td>midsize</td>\n",
       "    </tr>\n",
       "  </tbody>\n",
       "</table>\n",
       "<p>234 rows × 11 columns</p>\n",
       "</div>"
      ],
      "text/plain": [
       "    manufacturer   model  displ  year  cyl       trans drv  cty  hwy fl  \\\n",
       "1           audi      a4    1.8  1999    4    auto(l5)   f   18   29  p   \n",
       "2           audi      a4    1.8  1999    4  manual(m5)   f   21   29  p   \n",
       "3           audi      a4    2.0  2008    4  manual(m6)   f   20   31  p   \n",
       "4           audi      a4    2.0  2008    4    auto(av)   f   21   30  p   \n",
       "5           audi      a4    2.8  1999    6    auto(l5)   f   16   26  p   \n",
       "..           ...     ...    ...   ...  ...         ...  ..  ...  ... ..   \n",
       "230   volkswagen  passat    2.0  2008    4    auto(s6)   f   19   28  p   \n",
       "231   volkswagen  passat    2.0  2008    4  manual(m6)   f   21   29  p   \n",
       "232   volkswagen  passat    2.8  1999    6    auto(l5)   f   16   26  p   \n",
       "233   volkswagen  passat    2.8  1999    6  manual(m5)   f   18   26  p   \n",
       "234   volkswagen  passat    3.6  2008    6    auto(s6)   f   17   26  p   \n",
       "\n",
       "       class  \n",
       "1    compact  \n",
       "2    compact  \n",
       "3    compact  \n",
       "4    compact  \n",
       "5    compact  \n",
       "..       ...  \n",
       "230  midsize  \n",
       "231  midsize  \n",
       "232  midsize  \n",
       "233  midsize  \n",
       "234  midsize  \n",
       "\n",
       "[234 rows x 11 columns]"
      ]
     },
     "execution_count": 63,
     "metadata": {},
     "output_type": "execute_result"
    }
   ],
   "source": [
    "mpg_df"
   ]
  },
  {
   "cell_type": "markdown",
   "id": "9b083814",
   "metadata": {},
   "source": [
    "### Part 1"
   ]
  },
  {
   "cell_type": "markdown",
   "id": "ae520e28",
   "metadata": {},
   "source": [
    "Is there a difference in fuel-efficiency in cars from 2008 vs 1999?"
   ]
  },
  {
   "cell_type": "markdown",
   "id": "120f33a9",
   "metadata": {},
   "source": [
    "**Formulate fuel hypotheses**"
   ]
  },
  {
   "cell_type": "markdown",
   "id": "7a50bfc8",
   "metadata": {},
   "source": [
    "$H_{0}:$ Average fuel efficiency in cars from 2008 = average fuel efficiency in cars from 1999. "
   ]
  },
  {
   "cell_type": "markdown",
   "id": "23cb36de",
   "metadata": {},
   "source": [
    "$H_{a}:$ Average fuel efficiency in cars from 2008 $\\ne$ average fuel efficiency in cars from 1999. "
   ]
  },
  {
   "cell_type": "markdown",
   "id": "b8489c72",
   "metadata": {},
   "source": [
    "**Get data**"
   ]
  },
  {
   "cell_type": "markdown",
   "id": "1daa4c63",
   "metadata": {},
   "source": [
    "We will make a new column averaging the city mileage and highway mileage."
   ]
  },
  {
   "cell_type": "code",
   "execution_count": 68,
   "id": "7bbfee88",
   "metadata": {},
   "outputs": [
    {
     "data": {
      "text/html": [
       "<div>\n",
       "<style scoped>\n",
       "    .dataframe tbody tr th:only-of-type {\n",
       "        vertical-align: middle;\n",
       "    }\n",
       "\n",
       "    .dataframe tbody tr th {\n",
       "        vertical-align: top;\n",
       "    }\n",
       "\n",
       "    .dataframe thead th {\n",
       "        text-align: right;\n",
       "    }\n",
       "</style>\n",
       "<table border=\"1\" class=\"dataframe\">\n",
       "  <thead>\n",
       "    <tr style=\"text-align: right;\">\n",
       "      <th></th>\n",
       "      <th>manufacturer</th>\n",
       "      <th>model</th>\n",
       "      <th>displ</th>\n",
       "      <th>year</th>\n",
       "      <th>cyl</th>\n",
       "      <th>trans</th>\n",
       "      <th>drv</th>\n",
       "      <th>cty</th>\n",
       "      <th>hwy</th>\n",
       "      <th>fl</th>\n",
       "      <th>class</th>\n",
       "      <th>avg_mpg</th>\n",
       "    </tr>\n",
       "  </thead>\n",
       "  <tbody>\n",
       "    <tr>\n",
       "      <th>1</th>\n",
       "      <td>audi</td>\n",
       "      <td>a4</td>\n",
       "      <td>1.8</td>\n",
       "      <td>1999</td>\n",
       "      <td>4</td>\n",
       "      <td>auto(l5)</td>\n",
       "      <td>f</td>\n",
       "      <td>18</td>\n",
       "      <td>29</td>\n",
       "      <td>p</td>\n",
       "      <td>compact</td>\n",
       "      <td>23.5</td>\n",
       "    </tr>\n",
       "    <tr>\n",
       "      <th>2</th>\n",
       "      <td>audi</td>\n",
       "      <td>a4</td>\n",
       "      <td>1.8</td>\n",
       "      <td>1999</td>\n",
       "      <td>4</td>\n",
       "      <td>manual(m5)</td>\n",
       "      <td>f</td>\n",
       "      <td>21</td>\n",
       "      <td>29</td>\n",
       "      <td>p</td>\n",
       "      <td>compact</td>\n",
       "      <td>25.0</td>\n",
       "    </tr>\n",
       "    <tr>\n",
       "      <th>3</th>\n",
       "      <td>audi</td>\n",
       "      <td>a4</td>\n",
       "      <td>2.0</td>\n",
       "      <td>2008</td>\n",
       "      <td>4</td>\n",
       "      <td>manual(m6)</td>\n",
       "      <td>f</td>\n",
       "      <td>20</td>\n",
       "      <td>31</td>\n",
       "      <td>p</td>\n",
       "      <td>compact</td>\n",
       "      <td>25.5</td>\n",
       "    </tr>\n",
       "    <tr>\n",
       "      <th>4</th>\n",
       "      <td>audi</td>\n",
       "      <td>a4</td>\n",
       "      <td>2.0</td>\n",
       "      <td>2008</td>\n",
       "      <td>4</td>\n",
       "      <td>auto(av)</td>\n",
       "      <td>f</td>\n",
       "      <td>21</td>\n",
       "      <td>30</td>\n",
       "      <td>p</td>\n",
       "      <td>compact</td>\n",
       "      <td>25.5</td>\n",
       "    </tr>\n",
       "    <tr>\n",
       "      <th>5</th>\n",
       "      <td>audi</td>\n",
       "      <td>a4</td>\n",
       "      <td>2.8</td>\n",
       "      <td>1999</td>\n",
       "      <td>6</td>\n",
       "      <td>auto(l5)</td>\n",
       "      <td>f</td>\n",
       "      <td>16</td>\n",
       "      <td>26</td>\n",
       "      <td>p</td>\n",
       "      <td>compact</td>\n",
       "      <td>21.0</td>\n",
       "    </tr>\n",
       "    <tr>\n",
       "      <th>...</th>\n",
       "      <td>...</td>\n",
       "      <td>...</td>\n",
       "      <td>...</td>\n",
       "      <td>...</td>\n",
       "      <td>...</td>\n",
       "      <td>...</td>\n",
       "      <td>...</td>\n",
       "      <td>...</td>\n",
       "      <td>...</td>\n",
       "      <td>...</td>\n",
       "      <td>...</td>\n",
       "      <td>...</td>\n",
       "    </tr>\n",
       "    <tr>\n",
       "      <th>230</th>\n",
       "      <td>volkswagen</td>\n",
       "      <td>passat</td>\n",
       "      <td>2.0</td>\n",
       "      <td>2008</td>\n",
       "      <td>4</td>\n",
       "      <td>auto(s6)</td>\n",
       "      <td>f</td>\n",
       "      <td>19</td>\n",
       "      <td>28</td>\n",
       "      <td>p</td>\n",
       "      <td>midsize</td>\n",
       "      <td>23.5</td>\n",
       "    </tr>\n",
       "    <tr>\n",
       "      <th>231</th>\n",
       "      <td>volkswagen</td>\n",
       "      <td>passat</td>\n",
       "      <td>2.0</td>\n",
       "      <td>2008</td>\n",
       "      <td>4</td>\n",
       "      <td>manual(m6)</td>\n",
       "      <td>f</td>\n",
       "      <td>21</td>\n",
       "      <td>29</td>\n",
       "      <td>p</td>\n",
       "      <td>midsize</td>\n",
       "      <td>25.0</td>\n",
       "    </tr>\n",
       "    <tr>\n",
       "      <th>232</th>\n",
       "      <td>volkswagen</td>\n",
       "      <td>passat</td>\n",
       "      <td>2.8</td>\n",
       "      <td>1999</td>\n",
       "      <td>6</td>\n",
       "      <td>auto(l5)</td>\n",
       "      <td>f</td>\n",
       "      <td>16</td>\n",
       "      <td>26</td>\n",
       "      <td>p</td>\n",
       "      <td>midsize</td>\n",
       "      <td>21.0</td>\n",
       "    </tr>\n",
       "    <tr>\n",
       "      <th>233</th>\n",
       "      <td>volkswagen</td>\n",
       "      <td>passat</td>\n",
       "      <td>2.8</td>\n",
       "      <td>1999</td>\n",
       "      <td>6</td>\n",
       "      <td>manual(m5)</td>\n",
       "      <td>f</td>\n",
       "      <td>18</td>\n",
       "      <td>26</td>\n",
       "      <td>p</td>\n",
       "      <td>midsize</td>\n",
       "      <td>22.0</td>\n",
       "    </tr>\n",
       "    <tr>\n",
       "      <th>234</th>\n",
       "      <td>volkswagen</td>\n",
       "      <td>passat</td>\n",
       "      <td>3.6</td>\n",
       "      <td>2008</td>\n",
       "      <td>6</td>\n",
       "      <td>auto(s6)</td>\n",
       "      <td>f</td>\n",
       "      <td>17</td>\n",
       "      <td>26</td>\n",
       "      <td>p</td>\n",
       "      <td>midsize</td>\n",
       "      <td>21.5</td>\n",
       "    </tr>\n",
       "  </tbody>\n",
       "</table>\n",
       "<p>234 rows × 12 columns</p>\n",
       "</div>"
      ],
      "text/plain": [
       "    manufacturer   model  displ  year  cyl       trans drv  cty  hwy fl  \\\n",
       "1           audi      a4    1.8  1999    4    auto(l5)   f   18   29  p   \n",
       "2           audi      a4    1.8  1999    4  manual(m5)   f   21   29  p   \n",
       "3           audi      a4    2.0  2008    4  manual(m6)   f   20   31  p   \n",
       "4           audi      a4    2.0  2008    4    auto(av)   f   21   30  p   \n",
       "5           audi      a4    2.8  1999    6    auto(l5)   f   16   26  p   \n",
       "..           ...     ...    ...   ...  ...         ...  ..  ...  ... ..   \n",
       "230   volkswagen  passat    2.0  2008    4    auto(s6)   f   19   28  p   \n",
       "231   volkswagen  passat    2.0  2008    4  manual(m6)   f   21   29  p   \n",
       "232   volkswagen  passat    2.8  1999    6    auto(l5)   f   16   26  p   \n",
       "233   volkswagen  passat    2.8  1999    6  manual(m5)   f   18   26  p   \n",
       "234   volkswagen  passat    3.6  2008    6    auto(s6)   f   17   26  p   \n",
       "\n",
       "       class  avg_mpg  \n",
       "1    compact     23.5  \n",
       "2    compact     25.0  \n",
       "3    compact     25.5  \n",
       "4    compact     25.5  \n",
       "5    compact     21.0  \n",
       "..       ...      ...  \n",
       "230  midsize     23.5  \n",
       "231  midsize     25.0  \n",
       "232  midsize     21.0  \n",
       "233  midsize     22.0  \n",
       "234  midsize     21.5  \n",
       "\n",
       "[234 rows x 12 columns]"
      ]
     },
     "execution_count": 68,
     "metadata": {},
     "output_type": "execute_result"
    }
   ],
   "source": [
    "mpg_df[\"avg_mpg\"] = (mpg_df.cty + mpg_df.hwy)/2\n",
    "mpg_df"
   ]
  },
  {
   "cell_type": "markdown",
   "id": "5b789adf",
   "metadata": {},
   "source": [
    "Now we can use this new column to compare mileages for 2008 and 1999 cars."
   ]
  },
  {
   "cell_type": "code",
   "execution_count": 80,
   "id": "43499429",
   "metadata": {},
   "outputs": [],
   "source": [
    "cars_2008_sample = mpg_df[mpg_df.year==2008].avg_mpg"
   ]
  },
  {
   "cell_type": "code",
   "execution_count": 77,
   "id": "5f7800f2",
   "metadata": {},
   "outputs": [
    {
     "data": {
      "image/png": "[encoded data removed]",
      "text/plain": [
       "<Figure size 432x288 with 1 Axes>"
      ]
     },
     "metadata": {
      "needs_background": "light"
     },
     "output_type": "display_data"
    }
   ],
   "source": [
    "cars_2008_chart = cars_2008_sample.hist()"
   ]
  },
  {
   "cell_type": "code",
   "execution_count": 79,
   "id": "8700439f",
   "metadata": {},
   "outputs": [],
   "source": [
    "cars_1999_sample = mpg_df[mpg_df.year==1999].avg_mpg"
   ]
  },
  {
   "cell_type": "code",
   "execution_count": 81,
   "id": "a27a3de7",
   "metadata": {},
   "outputs": [
    {
     "data": {
      "image/png": "[encoded data removed]",
      "text/plain": [
       "<Figure size 432x288 with 1 Axes>"
      ]
     },
     "metadata": {
      "needs_background": "light"
     },
     "output_type": "display_data"
    }
   ],
   "source": [
    "cars_1999_chart = cars_1999_sample.hist()"
   ]
  },
  {
   "cell_type": "code",
   "execution_count": 82,
   "id": "527e7398",
   "metadata": {},
   "outputs": [
    {
     "data": {
      "text/plain": [
       "20.076923076923077"
      ]
     },
     "execution_count": 82,
     "metadata": {},
     "output_type": "execute_result"
    }
   ],
   "source": [
    "cars_2008_sample.mean()"
   ]
  },
  {
   "cell_type": "code",
   "execution_count": 83,
   "id": "4df756f1",
   "metadata": {},
   "outputs": [
    {
     "data": {
      "text/plain": [
       "20.22222222222222"
      ]
     },
     "execution_count": 83,
     "metadata": {},
     "output_type": "execute_result"
    }
   ],
   "source": [
    "cars_1999_sample.mean()"
   ]
  },
  {
   "cell_type": "code",
   "execution_count": 86,
   "id": "8aa88e89",
   "metadata": {},
   "outputs": [
    {
     "data": {
      "text/plain": [
       "117"
      ]
     },
     "execution_count": 86,
     "metadata": {},
     "output_type": "execute_result"
    }
   ],
   "source": [
    "cars_2008_sample.size"
   ]
  },
  {
   "cell_type": "code",
   "execution_count": 87,
   "id": "b30d5c72",
   "metadata": {},
   "outputs": [
    {
     "data": {
      "text/plain": [
       "117"
      ]
     },
     "execution_count": 87,
     "metadata": {},
     "output_type": "execute_result"
    }
   ],
   "source": [
    "cars_1999_sample.size"
   ]
  },
  {
   "cell_type": "markdown",
   "id": "080bbae6",
   "metadata": {},
   "source": [
    "**Set alpha**"
   ]
  },
  {
   "cell_type": "code",
   "execution_count": 84,
   "id": "5bde58c1",
   "metadata": {},
   "outputs": [],
   "source": [
    "alpha = 0.05"
   ]
  },
  {
   "cell_type": "markdown",
   "id": "2e7cccba",
   "metadata": {},
   "source": [
    "**Verify Assumptions**\n",
    "\n",
    "1. Independent Samples  YES! no observations in the 2008 sample exist in the 1999 sample.\n",
    "2. Normal Distribution, or at least 30 observations and \"kinda\" normal.  Plenty of observations, 177 for each. \n",
    "3. Equal Variances (we have a method for dealing with unequal variances)."
   ]
  },
  {
   "cell_type": "code",
   "execution_count": 90,
   "id": "9a2cc5ff",
   "metadata": {},
   "outputs": [
    {
     "name": "stdout",
     "output_type": "stream",
     "text": [
      "Variance for 2008 cars sample: 24.097480106100797\n",
      "Variance for 1999 cars sample: 27.122605363984682\n"
     ]
    }
   ],
   "source": [
    "print(\"Variance for 2008 cars sample:\", cars_2008_sample.var())\n",
    "print(\"Variance for 1999 cars sample:\", cars_1999_sample.var())"
   ]
  },
  {
   "cell_type": "markdown",
   "id": "7bd8f4af",
   "metadata": {},
   "source": [
    "The variances are not equal, so we will set the argument of equal_var to False."
   ]
  },
  {
   "cell_type": "markdown",
   "id": "1273c2b6",
   "metadata": {},
   "source": [
    "**Compute test statistic**"
   ]
  },
  {
   "cell_type": "code",
   "execution_count": 92,
   "id": "1ed5ae83",
   "metadata": {},
   "outputs": [
    {
     "name": "stdout",
     "output_type": "stream",
     "text": [
      "T-statistic: -0.21960177245940962\n",
      "P-value: 0.8263750772060638\n"
     ]
    }
   ],
   "source": [
    "t, p = stats.ttest_ind(cars_2008_sample, cars_1999_sample, equal_var = False)\n",
    "print(\"T-statistic:\", t)\n",
    "print(\"P-value:\", p)"
   ]
  },
  {
   "cell_type": "markdown",
   "id": "a6d5e5d6",
   "metadata": {},
   "source": [
    "**Make a conclusion based on the data**"
   ]
  },
  {
   "cell_type": "code",
   "execution_count": 93,
   "id": "6c023865",
   "metadata": {},
   "outputs": [
    {
     "name": "stdout",
     "output_type": "stream",
     "text": [
      "is p/2 < alpha?  False\n",
      "is t > 0?  False\n"
     ]
    }
   ],
   "source": [
    "print(\"is p/2 < alpha? \", p/2 < alpha)\n",
    "print(\"is t > 0? \", t > 0)"
   ]
  },
  {
   "cell_type": "code",
   "execution_count": 96,
   "id": "dccce4e1",
   "metadata": {},
   "outputs": [
    {
     "name": "stdout",
     "output_type": "stream",
     "text": [
      "We fail to reject the null hypothesis.\n"
     ]
    }
   ],
   "source": [
    "if p/2 > alpha:\n",
    "    print(\"We fail to reject the null hypothesis.\")\n",
    "else:\n",
    "    print(\"We reject the null hypothesis.\")"
   ]
  },
  {
   "cell_type": "markdown",
   "id": "03a261ae",
   "metadata": {},
   "source": [
    "We have high confidence that the mean mpg for cars built in 2008 is equal to the mean mpg for cars built in 1999."
   ]
  },
  {
   "cell_type": "markdown",
   "id": "8888a25a",
   "metadata": {},
   "source": [
    "### Part 2"
   ]
  },
  {
   "cell_type": "markdown",
   "id": "e3801439",
   "metadata": {},
   "source": [
    "Are compact cars more efficient than the average car?"
   ]
  },
  {
   "cell_type": "markdown",
   "id": "48cfa121",
   "metadata": {},
   "source": [
    "**Formatulate the hypotheses**"
   ]
  },
  {
   "cell_type": "markdown",
   "id": "b8958768",
   "metadata": {},
   "source": [
    "$H_{0}:$ Average miles per gallon for compact cars >= average miles per gallon for all cars. "
   ]
  },
  {
   "cell_type": "markdown",
   "id": "d7c7d0a9",
   "metadata": {},
   "source": [
    "$H_{a}:$ Average miles per gallon for compact cars > average miles per gallon for all cars."
   ]
  },
  {
   "cell_type": "markdown",
   "id": "f2b4bb0f",
   "metadata": {},
   "source": [
    "**Get data**"
   ]
  },
  {
   "cell_type": "markdown",
   "id": "f527fa44",
   "metadata": {},
   "source": [
    "We will make a new dataframe with just compact cars."
   ]
  },
  {
   "cell_type": "code",
   "execution_count": 114,
   "id": "10546b2d",
   "metadata": {},
   "outputs": [],
   "source": [
    "compact_cars = mpg_df[mpg_df[\"class\"] == \"compact\"]"
   ]
  },
  {
   "cell_type": "code",
   "execution_count": 115,
   "id": "08140fce",
   "metadata": {},
   "outputs": [
    {
     "data": {
      "image/png": "[encoded data removed]",
      "text/plain": [
       "<Figure size 432x288 with 1 Axes>"
      ]
     },
     "metadata": {
      "needs_background": "light"
     },
     "output_type": "display_data"
    }
   ],
   "source": [
    "compact_cars_mileage = compact_cars.avg_mpg.hist()"
   ]
  },
  {
   "cell_type": "code",
   "execution_count": 105,
   "id": "280bd996",
   "metadata": {},
   "outputs": [
    {
     "data": {
      "image/png": "[encoded data removed]",
      "text/plain": [
       "<Figure size 432x288 with 1 Axes>"
      ]
     },
     "metadata": {
      "needs_background": "light"
     },
     "output_type": "display_data"
    }
   ],
   "source": [
    "overall_mileage = mpg_df.avg_mpg.hist()"
   ]
  },
  {
   "cell_type": "markdown",
   "id": "60719455",
   "metadata": {},
   "source": [
    "**Set alpha**"
   ]
  },
  {
   "cell_type": "code",
   "execution_count": 108,
   "id": "b2eef100",
   "metadata": {},
   "outputs": [],
   "source": [
    "alpha = 0.05"
   ]
  },
  {
   "cell_type": "markdown",
   "id": "9cdf3b1b",
   "metadata": {},
   "source": [
    "**Verify Assumptions**"
   ]
  },
  {
   "cell_type": "code",
   "execution_count": 109,
   "id": "1a1e9d45",
   "metadata": {},
   "outputs": [
    {
     "data": {
      "text/plain": [
       "564"
      ]
     },
     "execution_count": 109,
     "metadata": {},
     "output_type": "execute_result"
    }
   ],
   "source": [
    "compact_cars.size"
   ]
  },
  {
   "cell_type": "code",
   "execution_count": 110,
   "id": "b315de9b",
   "metadata": {},
   "outputs": [
    {
     "data": {
      "text/plain": [
       "2808"
      ]
     },
     "execution_count": 110,
     "metadata": {},
     "output_type": "execute_result"
    }
   ],
   "source": [
    "mpg_df.size"
   ]
  },
  {
   "cell_type": "markdown",
   "id": "379dc61d",
   "metadata": {},
   "source": [
    "The sizes of both dataframe as large enough for us to assume normality."
   ]
  },
  {
   "cell_type": "markdown",
   "id": "cd182c65",
   "metadata": {},
   "source": [
    "**Compute p value and test statistic**"
   ]
  },
  {
   "cell_type": "code",
   "execution_count": 112,
   "id": "7e97bcf5",
   "metadata": {},
   "outputs": [
    {
     "data": {
      "text/plain": [
       "20.14957264957265"
      ]
     },
     "execution_count": 112,
     "metadata": {},
     "output_type": "execute_result"
    }
   ],
   "source": [
    "mean_for_all_cars = mpg_df.avg_mpg.mean()\n",
    "mean_for_all_cars"
   ]
  },
  {
   "cell_type": "code",
   "execution_count": 118,
   "id": "980c26e3",
   "metadata": {},
   "outputs": [
    {
     "name": "stdout",
     "output_type": "stream",
     "text": [
      "T statistic: 7.896888573132535\n",
      "p-value: 2.0992818971585668e-10\n",
      "alpha: 0.05\n"
     ]
    }
   ],
   "source": [
    "t, p = stats.ttest_1samp(compact_cars.avg_mpg, mean_for_all_cars)\n",
    "print(\"T statistic:\", t)\n",
    "print(\"p-value:\", p/2)\n",
    "print(\"alpha:\", alpha)"
   ]
  },
  {
   "cell_type": "markdown",
   "id": "10d334eb",
   "metadata": {},
   "source": [
    "**We will make a conclusion based on our data**"
   ]
  },
  {
   "cell_type": "code",
   "execution_count": 119,
   "id": "26c515b0",
   "metadata": {},
   "outputs": [
    {
     "name": "stdout",
     "output_type": "stream",
     "text": [
      "Is p-value significant? True\n",
      "Is t-statistic greater than 0? True\n"
     ]
    }
   ],
   "source": [
    "print(\"Is p-value significant?\", p/2 < alpha)\n",
    "print(\"Is t-statistic greater than 0?\", t > 0)"
   ]
  },
  {
   "cell_type": "markdown",
   "id": "d9efc437",
   "metadata": {},
   "source": [
    "Is $\\frac{1}{2} p < \\alpha$ and $t > 0$? \n",
    "\n",
    "Is $t > 0$ and $\\frac{1}{2}p < \\alpha$?"
   ]
  },
  {
   "cell_type": "code",
   "execution_count": 120,
   "id": "ba253e8c",
   "metadata": {},
   "outputs": [
    {
     "name": "stdout",
     "output_type": "stream",
     "text": [
      "We reject $H_{0}.\n",
      "The fuel efficiency of compact cars is likely better than the average fuel efficiency for all cars.\n"
     ]
    }
   ],
   "source": [
    "if p/2 > alpha:\n",
    "    print(\"We fail to reject the null hypothesis.\")\n",
    "elif t < 0:\n",
    "    print(\"We fail to reject the null hypothesis.\")\n",
    "    print(\"In fact, the mpg of compact cars is less than the average mpg of all cars.\")\n",
    "else:\n",
    "    print(\"We reject $H_{0}.\")\n",
    "    print(\"The fuel efficiency of compact cars is likely better than the average fuel efficiency for all cars.\")"
   ]
  },
  {
   "cell_type": "markdown",
   "id": "e101e869",
   "metadata": {},
   "source": [
    "We have high confidence that the mean miles per gallon of compact cars is greater than the mean miles per gallon of all cars. "
   ]
  },
  {
   "cell_type": "markdown",
   "id": "64aae8dd",
   "metadata": {},
   "source": [
    "### Part 3"
   ]
  },
  {
   "cell_type": "markdown",
   "id": "43608877",
   "metadata": {},
   "source": [
    "Do manual cars get better gas mileage than automatic cars?"
   ]
  },
  {
   "cell_type": "markdown",
   "id": "605c56b8",
   "metadata": {},
   "source": [
    "**Format the hypotheses**"
   ]
  },
  {
   "cell_type": "markdown",
   "id": "7c92d704",
   "metadata": {},
   "source": [
    "$H_{0}:$ The average miles per gallon of manual cars is less than or equal to the average miles per gallon of automatic cars. "
   ]
  },
  {
   "cell_type": "markdown",
   "id": "1047c084",
   "metadata": {},
   "source": [
    "$H_{a}:$ The average miles per gallon of manual cars is greater than the average miles per gallon of automatic cars."
   ]
  },
  {
   "cell_type": "markdown",
   "id": "05182179",
   "metadata": {},
   "source": [
    "**Get data**"
   ]
  },
  {
   "cell_type": "code",
   "execution_count": 133,
   "id": "b709dd50",
   "metadata": {},
   "outputs": [],
   "source": [
    "auto_cars = mpg_df['trans'].str.startswith('a')"
   ]
  },
  {
   "cell_type": "code",
   "execution_count": 132,
   "id": "d456b7bd",
   "metadata": {},
   "outputs": [],
   "source": [
    "manual_cars = mpg_df['trans'].str.startswith('m')"
   ]
  },
  {
   "cell_type": "code",
   "execution_count": 134,
   "id": "649b6938",
   "metadata": {},
   "outputs": [],
   "source": [
    "automatic = mpg_df[auto_cars]"
   ]
  },
  {
   "cell_type": "code",
   "execution_count": 135,
   "id": "aea5b820",
   "metadata": {},
   "outputs": [],
   "source": [
    "manual = mpg_df[manual_cars]"
   ]
  },
  {
   "cell_type": "code",
   "execution_count": 137,
   "id": "6f5711c8",
   "metadata": {},
   "outputs": [
    {
     "data": {
      "image/png": "[encoded data removed]",
      "text/plain": [
       "<Figure size 432x288 with 1 Axes>"
      ]
     },
     "metadata": {
      "needs_background": "light"
     },
     "output_type": "display_data"
    }
   ],
   "source": [
    "automatic_historgram = automatic.avg_mpg.hist()"
   ]
  },
  {
   "cell_type": "code",
   "execution_count": 138,
   "id": "b6403c79",
   "metadata": {},
   "outputs": [
    {
     "data": {
      "image/png": "[encoded data removed]",
      "text/plain": [
       "<Figure size 432x288 with 1 Axes>"
      ]
     },
     "metadata": {
      "needs_background": "light"
     },
     "output_type": "display_data"
    }
   ],
   "source": [
    "manual_histogram = manual.avg_mpg.hist()"
   ]
  },
  {
   "cell_type": "markdown",
   "id": "5a9c1b99",
   "metadata": {},
   "source": [
    "**Set alpha**"
   ]
  },
  {
   "cell_type": "code",
   "execution_count": 139,
   "id": "90612bd4",
   "metadata": {},
   "outputs": [],
   "source": [
    "alpha = 0.05"
   ]
  },
  {
   "cell_type": "markdown",
   "id": "a6485058",
   "metadata": {},
   "source": [
    "**Verify assumptions**"
   ]
  },
  {
   "cell_type": "code",
   "execution_count": 140,
   "id": "cffe3293",
   "metadata": {},
   "outputs": [
    {
     "data": {
      "text/plain": [
       "1884"
      ]
     },
     "execution_count": 140,
     "metadata": {},
     "output_type": "execute_result"
    }
   ],
   "source": [
    "automatic.size"
   ]
  },
  {
   "cell_type": "code",
   "execution_count": 141,
   "id": "343d2ad0",
   "metadata": {},
   "outputs": [
    {
     "data": {
      "text/plain": [
       "924"
      ]
     },
     "execution_count": 141,
     "metadata": {},
     "output_type": "execute_result"
    }
   ],
   "source": [
    "manual.size"
   ]
  },
  {
   "cell_type": "markdown",
   "id": "d284ea3f",
   "metadata": {},
   "source": [
    "1. Independent Samples. No observations in the automatic sample exist in the manual sample. \n",
    "\n",
    "2. Both of our data sets are large enough for us to assume normality.\n",
    "\n",
    "3. Equal Variances (we have an argument that can handle unequal variances)."
   ]
  },
  {
   "cell_type": "code",
   "execution_count": 143,
   "id": "fb73df3d",
   "metadata": {},
   "outputs": [
    {
     "name": "stdout",
     "output_type": "stream",
     "text": [
      "Variance for churn sample: 21.942777233382337\n",
      "Variance for no churn sample: 26.635167464114826\n"
     ]
    }
   ],
   "source": [
    "print(\"Variance for churn sample:\", automatic.avg_mpg.var())\n",
    "print(\"Variance for no churn sample:\", manual.avg_mpg.var())"
   ]
  },
  {
   "cell_type": "markdown",
   "id": "48e32b3d",
   "metadata": {},
   "source": [
    "These variances are not equal, so we use set equal_var to False."
   ]
  },
  {
   "cell_type": "markdown",
   "id": "59f6271d",
   "metadata": {},
   "source": [
    "**Compute test statistic and p value**"
   ]
  },
  {
   "cell_type": "code",
   "execution_count": 149,
   "id": "8cb007b8",
   "metadata": {},
   "outputs": [],
   "source": [
    "t, p = stats.ttest_ind(manual.avg_mpg, automatic.avg_mpg, equal_var = False)"
   ]
  },
  {
   "cell_type": "code",
   "execution_count": 150,
   "id": "222b1f60",
   "metadata": {},
   "outputs": [
    {
     "name": "stdout",
     "output_type": "stream",
     "text": [
      "T-statistic: 4.443514012903071\n",
      "P-value: 8.976124499958965e-06\n"
     ]
    }
   ],
   "source": [
    "print(\"T-statistic:\", t)\n",
    "print(\"P-value:\", p/2)"
   ]
  },
  {
   "cell_type": "markdown",
   "id": "aa2597db",
   "metadata": {},
   "source": [
    "**Reach conclusion**"
   ]
  },
  {
   "cell_type": "code",
   "execution_count": 151,
   "id": "cd1b1a48",
   "metadata": {},
   "outputs": [
    {
     "name": "stdout",
     "output_type": "stream",
     "text": [
      "is p/2 < alpha?  True\n",
      "is t > 0?  True\n"
     ]
    }
   ],
   "source": [
    "print(\"is p/2 < alpha? \", p/2 < alpha)\n",
    "print(\"is t > 0? \", t > 0)"
   ]
  },
  {
   "cell_type": "code",
   "execution_count": 153,
   "id": "240a9e6b",
   "metadata": {},
   "outputs": [
    {
     "name": "stdout",
     "output_type": "stream",
     "text": [
      "We reject the null hypothesis.\n"
     ]
    }
   ],
   "source": [
    "if p/2 > alpha:\n",
    "    print(\"We fail to reject the null hypothesis.\")\n",
    "elif t < 0:\n",
    "    print(\"We fail to reject the null hypothesis.\")\n",
    "else:\n",
    "    print(\"We reject the null hypothesis.\")"
   ]
  },
  {
   "cell_type": "markdown",
   "id": "1b3d8283",
   "metadata": {},
   "source": [
    "We have high confidence that the average miles per gallon for manual cars is greater than the average miles per gallon of automatic cars."
   ]
  }
 ],
 "metadata": {
  "kernelspec": {
   "display_name": "Python 3",
   "language": "python",
   "name": "python3"
  },
  "language_info": {
   "codemirror_mode": {
    "name": "ipython",
    "version": 3
   },
   "file_extension": ".py",
   "mimetype": "text/x-python",
   "name": "python",
   "nbconvert_exporter": "python",
   "pygments_lexer": "ipython3",
   "version": "3.8.8"
  }
 },
 "nbformat": 4,
 "nbformat_minor": 5
}
