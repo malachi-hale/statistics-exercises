{
 "cells": [
  {
   "cell_type": "markdown",
   "id": "6b9069a5",
   "metadata": {},
   "source": [
    "# Overview"
   ]
  },
  {
   "cell_type": "markdown",
   "id": "a157066d",
   "metadata": {},
   "source": [
    "**Has the network latency gone up since we switched internet service providers?**"
   ]
  },
  {
   "cell_type": "markdown",
   "id": "7aa57baf",
   "metadata": {},
   "source": [
    "$H_0:$ There is no difference in network latency since before we switched internet service providers and after we switched internet service providers. "
   ]
  },
  {
   "cell_type": "markdown",
   "id": "bb739655",
   "metadata": {},
   "source": [
    "$H_1:$ Network latency has gone up since we switched internet service providers. "
   ]
  },
  {
   "cell_type": "markdown",
   "id": "813f9503",
   "metadata": {},
   "source": [
    "**Is the website redesign any good?**"
   ]
  },
  {
   "cell_type": "markdown",
   "id": "fff25b52",
   "metadata": {},
   "source": [
    "$H_0$: There is no difference in user experience since before the websiste redesign and after the website redesign. "
   ]
  },
  {
   "cell_type": "markdown",
   "id": "6f11e219",
   "metadata": {},
   "source": [
    "$H_1:$ User experience has improved since the website redesign. "
   ]
  },
  {
   "cell_type": "markdown",
   "id": "620f4ccf",
   "metadata": {},
   "source": [
    "**Is our television ad driving more sales?**\n"
   ]
  },
  {
   "cell_type": "markdown",
   "id": "b28dbeb0",
   "metadata": {},
   "source": [
    "$H_0:$ There is no correlation between the television ad and sales. "
   ]
  },
  {
   "cell_type": "markdown",
   "id": "86aabcdf",
   "metadata": {},
   "source": [
    "$H_1:$ There is a positive correlation betwen the television and sales. "
   ]
  },
  {
   "cell_type": "markdown",
   "id": "f0a92884",
   "metadata": {},
   "source": [
    "# T-test"
   ]
  },
  {
   "cell_type": "markdown",
   "id": "373a42a3",
   "metadata": {},
   "source": [
    "Ace Realty wants to determine whether the average time it takes to sell homes is different for its two offices."
   ]
  },
  {
   "cell_type": "markdown",
   "id": "6505f971",
   "metadata": {},
   "source": [
    "A sample of 40 sales from office #1 revealed a mean of 90 days and a standard deviation of 15 days."
   ]
  },
  {
   "cell_type": "code",
   "execution_count": 8,
   "id": "13ae8720",
   "metadata": {},
   "outputs": [],
   "source": [
    "sample_size1 = 40\n",
    "mean1 = 90\n",
    "std1 = 15"
   ]
  },
  {
   "cell_type": "markdown",
   "id": "86f61f9e",
   "metadata": {},
   "source": [
    "A sample of 50 sales from office #2 revealed a mean of 100 days and a standard deviation of 20 days."
   ]
  },
  {
   "cell_type": "code",
   "execution_count": 9,
   "id": "cc746720",
   "metadata": {},
   "outputs": [],
   "source": [
    "sample_size2 = 50\n",
    "mean2 = 100\n",
    "std2 = 20"
   ]
  },
  {
   "cell_type": "markdown",
   "id": "a71db222",
   "metadata": {},
   "source": [
    "Use a .05 level of significance."
   ]
  },
  {
   "cell_type": "code",
   "execution_count": 10,
   "id": "1f64e18e",
   "metadata": {},
   "outputs": [],
   "source": [
    "level_of_significance = 0.05"
   ]
  }
 ],
 "metadata": {
  "kernelspec": {
   "display_name": "Python 3",
   "language": "python",
   "name": "python3"
  },
  "language_info": {
   "codemirror_mode": {
    "name": "ipython",
    "version": 3
   },
   "file_extension": ".py",
   "mimetype": "text/x-python",
   "name": "python",
   "nbconvert_exporter": "python",
   "pygments_lexer": "ipython3",
   "version": "3.8.8"
  }
 },
 "nbformat": 4,
 "nbformat_minor": 5
}
