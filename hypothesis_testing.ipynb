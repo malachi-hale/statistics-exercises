{
 "cells": [
  {
   "cell_type": "markdown",
   "id": "6b9069a5",
   "metadata": {},
   "source": [
    "# Overview"
   ]
  },
  {
   "cell_type": "markdown",
   "id": "a157066d",
   "metadata": {},
   "source": [
    "### Has the network latency gone up since we switched internet service providers?"
   ]
  },
  {
   "cell_type": "markdown",
   "id": "7aa57baf",
   "metadata": {},
   "source": [
    "$H_0:$ Mean latency in the three months after switiching internet service providers is less than or equal to mean latency in the three months before internet service providers. "
   ]
  },
  {
   "cell_type": "markdown",
   "id": "bb739655",
   "metadata": {},
   "source": [
    "$H_a:$ Mean latency in the three months after switching internet service providers is greater than mean latency in the three months before switching internet service providers."
   ]
  },
  {
   "cell_type": "markdown",
   "id": "d3d2bc74",
   "metadata": {},
   "source": [
    "**Type I Error**: To test this hypothesis, we sampled a group of people. Within our sample group, average latency for three months after switching internet service providers is greater than latency for three months before switching internet service providers, but the overall population experienced a decrease or no change in latency after switching internet service providers."
   ]
  },
  {
   "cell_type": "markdown",
   "id": "1fe35cb1",
   "metadata": {},
   "source": [
    "**Type II Error**: To test our hypothesis, we sampled a group of people. Within our sample group, average latency for three months after switching internet service providers is less than the average latency for three months before switching internet service providers. The overall population, however, experienced an average increase in latency after switching internet service providers. "
   ]
  },
  {
   "cell_type": "markdown",
   "id": "813f9503",
   "metadata": {},
   "source": [
    "### Is the website redesign any good?"
   ]
  },
  {
   "cell_type": "markdown",
   "id": "fff25b52",
   "metadata": {},
   "source": [
    "$H_0$: The mean click-through rate in the six months before the website redesign is equal to or greater than the mean click-through rate in the six months after the website redesign."
   ]
  },
  {
   "cell_type": "markdown",
   "id": "6f11e219",
   "metadata": {},
   "source": [
    "$H_a:$ The mean click-through rate in the six months before the website redesign is less than the mean click-through rate in the six months after the website redesign. "
   ]
  },
  {
   "cell_type": "markdown",
   "id": "8c765739",
   "metadata": {},
   "source": [
    "**Type I Error**: To sample our hypothesis, we sampled the website's mean click rates for users in a set number of areas. Of the areas we sampled, the mean click through rate for the six months before the website redesign was less than the mean click through rate for the six months after the website redesign. However, the mean click rate of users in all areas shows an increase in the click through rate since the website redesign. "
   ]
  },
  {
   "cell_type": "markdown",
   "id": "3ed23b0a",
   "metadata": {},
   "source": [
    "**Type II Error**: To sample our hypothesis, we sampled the website's mean click rate for a set number of areas. Of the areas we sampled, the mean click through rate for the six months before the website redesign was greater than the click through rate for the six months after the website redesign. However, the mean click rate of all days shows no change in the click through rate since website redesign. "
   ]
  },
  {
   "cell_type": "markdown",
   "id": "620f4ccf",
   "metadata": {},
   "source": [
    "### Is our television ad driving more sales?\n"
   ]
  },
  {
   "cell_type": "markdown",
   "id": "b28dbeb0",
   "metadata": {},
   "source": [
    "$H_0:$ The mean sales rate in the six months before the television advertisement campaign began is greater than or equal to the mean sales rate in the six months after the television campaign began. "
   ]
  },
  {
   "cell_type": "markdown",
   "id": "86aabcdf",
   "metadata": {},
   "source": [
    "$H_{a}:$ The mean sales rate in the six months before the television advertisement campaign began is less than the mean sales rate in the six months after the television campaign began. "
   ]
  },
  {
   "cell_type": "markdown",
   "id": "e14ed812",
   "metadata": {},
   "source": [
    "**Type I Error**: To test this hypothesis we sampled sales figures for a six month period in a set number of locations. In the sampled locations, the mean number of sales in the six months before the television advertising campaign began was less than the mean number of sales in the six months after the television advertising campaign began. \n",
    "\n",
    "However, in the whole market, sales rates remained the same after the television advertising campaign began. "
   ]
  },
  {
   "cell_type": "markdown",
   "id": "4322c2b2",
   "metadata": {},
   "source": [
    "**Type II Error**: To test this hypothesis, we sampled the sales figures in a set number of locations. In the sampled locations, the mean number of sales in the six months before the television advertising campaign began was greater than the mean number of sales in the six months after the television advertising campaign began. \n",
    "\n",
    "However, in the whole market, sales decreased after the television advertising campaign began."
   ]
  },
  {
   "cell_type": "markdown",
   "id": "f0a92884",
   "metadata": {},
   "source": [
    "# T-test"
   ]
  },
  {
   "cell_type": "markdown",
   "id": "531c361f",
   "metadata": {},
   "source": [
    "We will import the datasets that we may need."
   ]
  },
  {
   "cell_type": "code",
   "execution_count": 22,
   "id": "fdd25325",
   "metadata": {},
   "outputs": [],
   "source": [
    "import matplotlib.pyplot as plt\n",
    "import numpy as np\n",
    "from scipy import stats\n",
    "from pydataset import data\n",
    "from numpy import random\n",
    "import seaborn as sns\n",
    "import pandas as pd\n",
    "from math import sqrt"
   ]
  },
  {
   "cell_type": "markdown",
   "id": "373a42a3",
   "metadata": {},
   "source": [
    "Ace Realty wants to determine whether the average time it takes to sell homes is different for its two offices."
   ]
  },
  {
   "cell_type": "markdown",
   "id": "6505f971",
   "metadata": {},
   "source": [
    "A sample of 40 sales from office #1 revealed a mean of 90 days and a standard deviation of 15 days."
   ]
  },
  {
   "cell_type": "code",
   "execution_count": 2,
   "id": "13ae8720",
   "metadata": {},
   "outputs": [],
   "source": [
    "sample_size1 = 40\n",
    "mean1 = 90\n",
    "std1 = 15"
   ]
  },
  {
   "cell_type": "markdown",
   "id": "86f61f9e",
   "metadata": {},
   "source": [
    "A sample of 50 sales from office #2 revealed a mean of 100 days and a standard deviation of 20 days."
   ]
  },
  {
   "cell_type": "code",
   "execution_count": 3,
   "id": "cc746720",
   "metadata": {},
   "outputs": [],
   "source": [
    "sample_size2 = 50\n",
    "mean2 = 100\n",
    "std2 = 20"
   ]
  },
  {
   "cell_type": "markdown",
   "id": "a71db222",
   "metadata": {},
   "source": [
    "Use a .05 level of significance."
   ]
  },
  {
   "cell_type": "code",
   "execution_count": 4,
   "id": "1f64e18e",
   "metadata": {},
   "outputs": [],
   "source": [
    "level_of_significance = 0.05"
   ]
  },
  {
   "cell_type": "markdown",
   "id": "11f24f80",
   "metadata": {},
   "source": [
    "First we will formulate our hypotheses."
   ]
  },
  {
   "cell_type": "markdown",
   "id": "0a0a8780",
   "metadata": {},
   "source": [
    "$H_0$: There is no difference between the average home sale time for office #1 and office #2."
   ]
  },
  {
   "cell_type": "markdown",
   "id": "78668510",
   "metadata": {},
   "source": [
    "$H_a$: There is a difference between the average home sale time for office #1 and office #2."
   ]
  },
  {
   "cell_type": "code",
   "execution_count": 5,
   "id": "cd408f53",
   "metadata": {},
   "outputs": [
    {
     "data": {
      "text/html": [
       "<div>\n",
       "<style scoped>\n",
       "    .dataframe tbody tr th:only-of-type {\n",
       "        vertical-align: middle;\n",
       "    }\n",
       "\n",
       "    .dataframe tbody tr th {\n",
       "        vertical-align: top;\n",
       "    }\n",
       "\n",
       "    .dataframe thead th {\n",
       "        text-align: right;\n",
       "    }\n",
       "</style>\n",
       "<table border=\"1\" class=\"dataframe\">\n",
       "  <thead>\n",
       "    <tr style=\"text-align: right;\">\n",
       "      <th></th>\n",
       "      <th>time</th>\n",
       "    </tr>\n",
       "  </thead>\n",
       "  <tbody>\n",
       "    <tr>\n",
       "      <th>0</th>\n",
       "      <td>80.817265</td>\n",
       "    </tr>\n",
       "    <tr>\n",
       "      <th>1</th>\n",
       "      <td>100.948677</td>\n",
       "    </tr>\n",
       "    <tr>\n",
       "      <th>2</th>\n",
       "      <td>113.713092</td>\n",
       "    </tr>\n",
       "    <tr>\n",
       "      <th>3</th>\n",
       "      <td>92.537064</td>\n",
       "    </tr>\n",
       "    <tr>\n",
       "      <th>4</th>\n",
       "      <td>118.481805</td>\n",
       "    </tr>\n",
       "    <tr>\n",
       "      <th>...</th>\n",
       "      <td>...</td>\n",
       "    </tr>\n",
       "    <tr>\n",
       "      <th>9995</th>\n",
       "      <td>85.832188</td>\n",
       "    </tr>\n",
       "    <tr>\n",
       "      <th>9996</th>\n",
       "      <td>81.864330</td>\n",
       "    </tr>\n",
       "    <tr>\n",
       "      <th>9997</th>\n",
       "      <td>71.503399</td>\n",
       "    </tr>\n",
       "    <tr>\n",
       "      <th>9998</th>\n",
       "      <td>64.256225</td>\n",
       "    </tr>\n",
       "    <tr>\n",
       "      <th>9999</th>\n",
       "      <td>105.776180</td>\n",
       "    </tr>\n",
       "  </tbody>\n",
       "</table>\n",
       "<p>10000 rows × 1 columns</p>\n",
       "</div>"
      ],
      "text/plain": [
       "            time\n",
       "0      80.817265\n",
       "1     100.948677\n",
       "2     113.713092\n",
       "3      92.537064\n",
       "4     118.481805\n",
       "...          ...\n",
       "9995   85.832188\n",
       "9996   81.864330\n",
       "9997   71.503399\n",
       "9998   64.256225\n",
       "9999  105.776180\n",
       "\n",
       "[10000 rows x 1 columns]"
      ]
     },
     "execution_count": 5,
     "metadata": {},
     "output_type": "execute_result"
    }
   ],
   "source": [
    "office_1 = random.normal(mean1, std1, size = 10_000)\n",
    "office_1_pd = pd.DataFrame({'time': office_1})\n",
    "office_1_pd"
   ]
  },
  {
   "cell_type": "code",
   "execution_count": 13,
   "id": "bd66f3df",
   "metadata": {},
   "outputs": [
    {
     "data": {
      "text/html": [
       "<div>\n",
       "<style scoped>\n",
       "    .dataframe tbody tr th:only-of-type {\n",
       "        vertical-align: middle;\n",
       "    }\n",
       "\n",
       "    .dataframe tbody tr th {\n",
       "        vertical-align: top;\n",
       "    }\n",
       "\n",
       "    .dataframe thead th {\n",
       "        text-align: right;\n",
       "    }\n",
       "</style>\n",
       "<table border=\"1\" class=\"dataframe\">\n",
       "  <thead>\n",
       "    <tr style=\"text-align: right;\">\n",
       "      <th></th>\n",
       "      <th>time</th>\n",
       "    </tr>\n",
       "  </thead>\n",
       "  <tbody>\n",
       "    <tr>\n",
       "      <th>0</th>\n",
       "      <td>97.484297</td>\n",
       "    </tr>\n",
       "    <tr>\n",
       "      <th>1</th>\n",
       "      <td>88.186364</td>\n",
       "    </tr>\n",
       "    <tr>\n",
       "      <th>2</th>\n",
       "      <td>114.691223</td>\n",
       "    </tr>\n",
       "    <tr>\n",
       "      <th>3</th>\n",
       "      <td>117.984245</td>\n",
       "    </tr>\n",
       "    <tr>\n",
       "      <th>4</th>\n",
       "      <td>88.488167</td>\n",
       "    </tr>\n",
       "    <tr>\n",
       "      <th>...</th>\n",
       "      <td>...</td>\n",
       "    </tr>\n",
       "    <tr>\n",
       "      <th>9995</th>\n",
       "      <td>76.633079</td>\n",
       "    </tr>\n",
       "    <tr>\n",
       "      <th>9996</th>\n",
       "      <td>120.206621</td>\n",
       "    </tr>\n",
       "    <tr>\n",
       "      <th>9997</th>\n",
       "      <td>70.985564</td>\n",
       "    </tr>\n",
       "    <tr>\n",
       "      <th>9998</th>\n",
       "      <td>101.485143</td>\n",
       "    </tr>\n",
       "    <tr>\n",
       "      <th>9999</th>\n",
       "      <td>77.699720</td>\n",
       "    </tr>\n",
       "  </tbody>\n",
       "</table>\n",
       "<p>10000 rows × 1 columns</p>\n",
       "</div>"
      ],
      "text/plain": [
       "            time\n",
       "0      97.484297\n",
       "1      88.186364\n",
       "2     114.691223\n",
       "3     117.984245\n",
       "4      88.488167\n",
       "...          ...\n",
       "9995   76.633079\n",
       "9996  120.206621\n",
       "9997   70.985564\n",
       "9998  101.485143\n",
       "9999   77.699720\n",
       "\n",
       "[10000 rows x 1 columns]"
      ]
     },
     "execution_count": 13,
     "metadata": {},
     "output_type": "execute_result"
    }
   ],
   "source": [
    "office_2 = random.normal(mean2, std2, size = 10_000)\n",
    "office_2_pd = pd.DataFrame({'time': office_2})\n",
    "office_2_pd"
   ]
  },
  {
   "cell_type": "markdown",
   "id": "8a9e4fba",
   "metadata": {},
   "source": [
    "Let's calculate the mean for the average home sale time for each office."
   ]
  },
  {
   "cell_type": "code",
   "execution_count": 8,
   "id": "f5a96b41",
   "metadata": {},
   "outputs": [],
   "source": [
    "office_1_mean = office_1_pd['time'].mean()\n",
    "office_2_mean = office_2_pd['time'].mean()"
   ]
  },
  {
   "cell_type": "markdown",
   "id": "9eba9751",
   "metadata": {},
   "source": [
    "Let's calculate the standard deviation for the average home sale time for each office."
   ]
  },
  {
   "cell_type": "code",
   "execution_count": 9,
   "id": "2d29960b",
   "metadata": {},
   "outputs": [],
   "source": [
    "office_1_std = office_1_pd['time'].std()\n",
    "office_2_std = office_2_pd['time'].std()"
   ]
  },
  {
   "cell_type": "markdown",
   "id": "1cdbcef3",
   "metadata": {},
   "source": [
    "We apply the degrees of freedom formula. "
   ]
  },
  {
   "cell_type": "code",
   "execution_count": 17,
   "id": "0338eed6",
   "metadata": {},
   "outputs": [],
   "source": [
    "n1 = office_1_pd['time'].shape[0]\n",
    "n2 = office_2_pd['time'].shape[0]"
   ]
  },
  {
   "cell_type": "code",
   "execution_count": 18,
   "id": "2684b4ad",
   "metadata": {},
   "outputs": [
    {
     "data": {
      "text/plain": [
       "19998"
      ]
     },
     "execution_count": 18,
     "metadata": {},
     "output_type": "execute_result"
    }
   ],
   "source": [
    "degrees_of_freedom = n1 + n2 - 2\n",
    "degrees_of_freedom"
   ]
  },
  {
   "cell_type": "markdown",
   "id": "781ad4a4",
   "metadata": {},
   "source": [
    "Now we will calculate the pooled standard deviation."
   ]
  },
  {
   "cell_type": "code",
   "execution_count": 27,
   "id": "ed02cc83",
   "metadata": {},
   "outputs": [],
   "source": [
    "office_1_calculation = (n1 - 1) * (office_1_std**2)\n",
    "office_2_calculation = (n2 - 1) * (office_2_std**2)"
   ]
  },
  {
   "cell_type": "code",
   "execution_count": 30,
   "id": "7062407f",
   "metadata": {},
   "outputs": [
    {
     "data": {
      "text/plain": [
       "17.764366792778816"
      ]
     },
     "execution_count": 30,
     "metadata": {},
     "output_type": "execute_result"
    }
   ],
   "source": [
    "std_p = sqrt((office_1_calculation + office_2_calculation) / (degrees_of_freedom))\n",
    "std_p"
   ]
  },
  {
   "cell_type": "markdown",
   "id": "9fb1f788",
   "metadata": {},
   "source": [
    "We will calculate standard error."
   ]
  },
  {
   "cell_type": "code",
   "execution_count": 32,
   "id": "6bb5d390",
   "metadata": {},
   "outputs": [],
   "source": [
    "standard_error_office_1_calculation = (office_1_std**2)/n1\n",
    "standard_error_office_2_calculation = (office_2_std**2)/n2"
   ]
  },
  {
   "cell_type": "code",
   "execution_count": 34,
   "id": "fc0c525c",
   "metadata": {},
   "outputs": [
    {
     "data": {
      "text/plain": [
       "0.25122608445318045"
      ]
     },
     "execution_count": 34,
     "metadata": {},
     "output_type": "execute_result"
    }
   ],
   "source": [
    "standard_error = sqrt(standard_error_office_1_calculation + standard_error_office_2_calculation)\n",
    "standard_error"
   ]
  },
  {
   "cell_type": "markdown",
   "id": "ede0e95c",
   "metadata": {},
   "source": [
    "We will now apply to formula to calculate the t value"
   ]
  },
  {
   "cell_type": "code",
   "execution_count": 35,
   "id": "742e1598",
   "metadata": {},
   "outputs": [],
   "source": [
    "t_numerator = office_1_mean - office_2_mean\n",
    "t_denominator = (std_p * sqrt(1/n1 + 1/n2))"
   ]
  },
  {
   "cell_type": "code",
   "execution_count": 36,
   "id": "62cbfc7c",
   "metadata": {},
   "outputs": [
    {
     "data": {
      "text/plain": [
       "-39.72394318544515"
      ]
     },
     "execution_count": 36,
     "metadata": {},
     "output_type": "execute_result"
    }
   ],
   "source": [
    "t_value = t_numerator/t_denominator \n",
    "t_value"
   ]
  },
  {
   "cell_type": "markdown",
   "id": "c06039f7",
   "metadata": {},
   "source": [
    "We can use our calculated t_value to calculate our p value."
   ]
  },
  {
   "cell_type": "code",
   "execution_count": 38,
   "id": "e1ab37e2",
   "metadata": {},
   "outputs": [
    {
     "data": {
      "text/plain": [
       "2.0"
      ]
     },
     "execution_count": 38,
     "metadata": {},
     "output_type": "execute_result"
    }
   ],
   "source": [
    "p = stats.t(degrees_of_freedom).sf(t_value) * 2\n",
    "p"
   ]
  },
  {
   "cell_type": "markdown",
   "id": "0aadbf35",
   "metadata": {},
   "source": [
    "Because our p value is greater than our 0.05 level of significance, we do not reject the null hypothesis."
   ]
  },
  {
   "cell_type": "markdown",
   "id": "7614bbeb",
   "metadata": {},
   "source": [
    "### Based on these calculations, we conclude that there is not a statistically significant difference in the average amount of time it takes Office #1 and Office #2 to sell homes. "
   ]
  }
 ],
 "metadata": {
  "kernelspec": {
   "display_name": "Python 3",
   "language": "python",
   "name": "python3"
  },
  "language_info": {
   "codemirror_mode": {
    "name": "ipython",
    "version": 3
   },
   "file_extension": ".py",
   "mimetype": "text/x-python",
   "name": "python",
   "nbconvert_exporter": "python",
   "pygments_lexer": "ipython3",
   "version": "3.8.8"
  }
 },
 "nbformat": 4,
 "nbformat_minor": 5
}
