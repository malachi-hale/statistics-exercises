{
 "cells": [
  {
   "cell_type": "markdown",
   "id": "6b9069a5",
   "metadata": {},
   "source": [
    "# Overview"
   ]
  },
  {
   "cell_type": "markdown",
   "id": "a157066d",
   "metadata": {},
   "source": [
    "### Has the network latency gone up since we switched internet service providers?"
   ]
  },
  {
   "cell_type": "markdown",
   "id": "7aa57baf",
   "metadata": {},
   "source": [
    "$H_0:$  Mean latency in the three months after switiching internet service providers is less than or equal to mean latency in the three months before internet service providers. "
   ]
  },
  {
   "cell_type": "markdown",
   "id": "bb739655",
   "metadata": {},
   "source": [
    "$H_a:$ Mean latency in the three months after switching internet service providers is greater than mean latency in the three months before switching internet service providers."
   ]
  },
  {
   "cell_type": "markdown",
   "id": "d3d2bc74",
   "metadata": {},
   "source": [
    "**Type I Error**: To test this hypothesis, we sampled a group of people. Within our sample group, average latency for three months after switching internet service providers is greater than latency for three months before switching internet service providers, but the overall population experienced a decrease or no change in latency after switching internet service providers."
   ]
  },
  {
   "cell_type": "markdown",
   "id": "1fe35cb1",
   "metadata": {},
   "source": [
    "**Type II Error**: To test our hypothesis, we sampled a group of people. Within our sample group, average latency for three months after switching internet service providers is less than the average latency for three months before switching internet service providers. The overall population, however, experienced an average increase in latency after switching internet service providers. "
   ]
  },
  {
   "cell_type": "markdown",
   "id": "813f9503",
   "metadata": {},
   "source": [
    "### Is the website redesign any good?"
   ]
  },
  {
   "cell_type": "markdown",
   "id": "fff25b52",
   "metadata": {},
   "source": [
    "$H_0:$ The mean click-through rate in the six months before the website redesign is equal to or greater than the mean click-through rate in the six months after the website redesign."
   ]
  },
  {
   "cell_type": "markdown",
   "id": "6f11e219",
   "metadata": {},
   "source": [
    "$H_a:$ The mean click-through rate in the six months before the website redesign is less than the mean click-through rate in the six months after the website redesign. "
   ]
  },
  {
   "cell_type": "markdown",
   "id": "8c765739",
   "metadata": {},
   "source": [
    "**Type I Error**: To sample our hypothesis, we sampled the website's mean click rates for users in a set number of areas. Of the areas we sampled, the mean click through rate for the six months before the website redesign was less than the mean click through rate for the six months after the website redesign. However, the mean click rate of users in all areas shows an increase in the click through rate since the website redesign. "
   ]
  },
  {
   "cell_type": "markdown",
   "id": "3ed23b0a",
   "metadata": {},
   "source": [
    "**Type II Error**: To sample our hypothesis, we sampled the website's mean click rate for a set number of areas. Of the areas we sampled, the mean click through rate for the six months before the website redesign was greater than the click through rate for the six months after the website redesign. However, the mean click rate of all days shows no change in the click through rate since website redesign. "
   ]
  },
  {
   "cell_type": "markdown",
   "id": "620f4ccf",
   "metadata": {},
   "source": [
    "### Is our television ad driving more sales?\n"
   ]
  },
  {
   "cell_type": "markdown",
   "id": "b28dbeb0",
   "metadata": {},
   "source": [
    "$H_0:$ The mean sales rate in the six months before the television advertisement campaign began is greater than or equal to the mean sales rate in the six months after the television campaign began. "
   ]
  },
  {
   "cell_type": "markdown",
   "id": "86aabcdf",
   "metadata": {},
   "source": [
    "$H_{a}:$ The mean sales rate in the six months before the television advertisement campaign began is less than the mean sales rate in the six months after the television campaign began. "
   ]
  },
  {
   "cell_type": "markdown",
   "id": "e14ed812",
   "metadata": {},
   "source": [
    "**Type I Error**: To test this hypothesis we sampled sales figures for a six month period in a set number of locations. In the sampled locations, the mean number of sales in the six months before the television advertising campaign began was less than the mean number of sales in the six months after the television advertising campaign began. \n",
    "\n",
    "However, in the whole market, sales rates remained the same after the television advertising campaign began. "
   ]
  },
  {
   "cell_type": "markdown",
   "id": "4322c2b2",
   "metadata": {},
   "source": [
    "**Type II Error**: To test this hypothesis, we sampled the sales figures in a set number of locations. In the sampled locations, the mean number of sales in the six months before the television advertising campaign began was greater than the mean number of sales in the six months after the television advertising campaign began. \n",
    "\n",
    "However, in the whole market, sales decreased after the television advertising campaign began."
   ]
  },
  {
   "cell_type": "markdown",
   "id": "f0a92884",
   "metadata": {},
   "source": [
    "# T-test"
   ]
  },
  {
   "cell_type": "markdown",
   "id": "531c361f",
   "metadata": {},
   "source": [
    "We will import the datasets that we may need."
   ]
  },
  {
   "cell_type": "code",
   "execution_count": 15,
   "id": "fdd25325",
   "metadata": {},
   "outputs": [],
   "source": [
    "import matplotlib.pyplot as plt\n",
    "import numpy as np\n",
    "from scipy import stats\n",
    "from pydataset import data\n",
    "from numpy import random\n",
    "import seaborn as sns\n",
    "import pandas as pd\n",
    "from math import sqrt"
   ]
  },
  {
   "cell_type": "markdown",
   "id": "0560e088",
   "metadata": {},
   "source": [
    "## Question #1 "
   ]
  },
  {
   "cell_type": "markdown",
   "id": "373a42a3",
   "metadata": {},
   "source": [
    "Ace Realty wants to determine whether the average time it takes to sell homes is different for its two offices."
   ]
  },
  {
   "cell_type": "markdown",
   "id": "6505f971",
   "metadata": {},
   "source": [
    "A sample of 40 sales from office #1 revealed a mean of 90 days and a standard deviation of 15 days."
   ]
  },
  {
   "cell_type": "code",
   "execution_count": 16,
   "id": "13ae8720",
   "metadata": {},
   "outputs": [],
   "source": [
    "sample_size1 = 40\n",
    "mean1 = 90\n",
    "std1 = 15"
   ]
  },
  {
   "cell_type": "markdown",
   "id": "86f61f9e",
   "metadata": {},
   "source": [
    "A sample of 50 sales from office #2 revealed a mean of 100 days and a standard deviation of 20 days."
   ]
  },
  {
   "cell_type": "code",
   "execution_count": 17,
   "id": "cc746720",
   "metadata": {},
   "outputs": [],
   "source": [
    "sample_size2 = 50\n",
    "mean2 = 100\n",
    "std2 = 20"
   ]
  },
  {
   "cell_type": "markdown",
   "id": "a71db222",
   "metadata": {},
   "source": [
    "Use a .05 level of significance."
   ]
  },
  {
   "cell_type": "code",
   "execution_count": 18,
   "id": "1f64e18e",
   "metadata": {},
   "outputs": [],
   "source": [
    "level_of_significance = 0.05"
   ]
  },
  {
   "cell_type": "markdown",
   "id": "11f24f80",
   "metadata": {},
   "source": [
    "**Formulate Hypotheses**"
   ]
  },
  {
   "cell_type": "markdown",
   "id": "0a0a8780",
   "metadata": {},
   "source": [
    "$H_0$: Average home sale time for Office #1 = average home sale time for Office #2."
   ]
  },
  {
   "cell_type": "markdown",
   "id": "78668510",
   "metadata": {},
   "source": [
    "$H_a$: Average home sale time for Office #1 $\\ne$ average home sale time for Office #2."
   ]
  },
  {
   "cell_type": "markdown",
   "id": "293b1547",
   "metadata": {},
   "source": [
    "**Generate a sample for Office #1**"
   ]
  },
  {
   "cell_type": "code",
   "execution_count": 19,
   "id": "cd408f53",
   "metadata": {},
   "outputs": [
    {
     "data": {
      "text/html": [
       "<div>\n",
       "<style scoped>\n",
       "    .dataframe tbody tr th:only-of-type {\n",
       "        vertical-align: middle;\n",
       "    }\n",
       "\n",
       "    .dataframe tbody tr th {\n",
       "        vertical-align: top;\n",
       "    }\n",
       "\n",
       "    .dataframe thead th {\n",
       "        text-align: right;\n",
       "    }\n",
       "</style>\n",
       "<table border=\"1\" class=\"dataframe\">\n",
       "  <thead>\n",
       "    <tr style=\"text-align: right;\">\n",
       "      <th></th>\n",
       "      <th>time</th>\n",
       "    </tr>\n",
       "  </thead>\n",
       "  <tbody>\n",
       "    <tr>\n",
       "      <th>0</th>\n",
       "      <td>86.863019</td>\n",
       "    </tr>\n",
       "    <tr>\n",
       "      <th>1</th>\n",
       "      <td>65.662413</td>\n",
       "    </tr>\n",
       "    <tr>\n",
       "      <th>2</th>\n",
       "      <td>90.034150</td>\n",
       "    </tr>\n",
       "    <tr>\n",
       "      <th>3</th>\n",
       "      <td>109.155738</td>\n",
       "    </tr>\n",
       "    <tr>\n",
       "      <th>4</th>\n",
       "      <td>97.453487</td>\n",
       "    </tr>\n",
       "    <tr>\n",
       "      <th>5</th>\n",
       "      <td>110.480642</td>\n",
       "    </tr>\n",
       "    <tr>\n",
       "      <th>6</th>\n",
       "      <td>76.590429</td>\n",
       "    </tr>\n",
       "    <tr>\n",
       "      <th>7</th>\n",
       "      <td>66.374976</td>\n",
       "    </tr>\n",
       "    <tr>\n",
       "      <th>8</th>\n",
       "      <td>83.929814</td>\n",
       "    </tr>\n",
       "    <tr>\n",
       "      <th>9</th>\n",
       "      <td>92.131281</td>\n",
       "    </tr>\n",
       "    <tr>\n",
       "      <th>10</th>\n",
       "      <td>72.610468</td>\n",
       "    </tr>\n",
       "    <tr>\n",
       "      <th>11</th>\n",
       "      <td>100.931086</td>\n",
       "    </tr>\n",
       "    <tr>\n",
       "      <th>12</th>\n",
       "      <td>71.064921</td>\n",
       "    </tr>\n",
       "    <tr>\n",
       "      <th>13</th>\n",
       "      <td>85.377286</td>\n",
       "    </tr>\n",
       "    <tr>\n",
       "      <th>14</th>\n",
       "      <td>88.540964</td>\n",
       "    </tr>\n",
       "    <tr>\n",
       "      <th>15</th>\n",
       "      <td>86.712311</td>\n",
       "    </tr>\n",
       "    <tr>\n",
       "      <th>16</th>\n",
       "      <td>95.881157</td>\n",
       "    </tr>\n",
       "    <tr>\n",
       "      <th>17</th>\n",
       "      <td>109.727339</td>\n",
       "    </tr>\n",
       "    <tr>\n",
       "      <th>18</th>\n",
       "      <td>111.287450</td>\n",
       "    </tr>\n",
       "    <tr>\n",
       "      <th>19</th>\n",
       "      <td>86.793104</td>\n",
       "    </tr>\n",
       "    <tr>\n",
       "      <th>20</th>\n",
       "      <td>92.545460</td>\n",
       "    </tr>\n",
       "    <tr>\n",
       "      <th>21</th>\n",
       "      <td>115.923867</td>\n",
       "    </tr>\n",
       "    <tr>\n",
       "      <th>22</th>\n",
       "      <td>97.776270</td>\n",
       "    </tr>\n",
       "    <tr>\n",
       "      <th>23</th>\n",
       "      <td>67.105393</td>\n",
       "    </tr>\n",
       "    <tr>\n",
       "      <th>24</th>\n",
       "      <td>92.323969</td>\n",
       "    </tr>\n",
       "    <tr>\n",
       "      <th>25</th>\n",
       "      <td>100.252939</td>\n",
       "    </tr>\n",
       "    <tr>\n",
       "      <th>26</th>\n",
       "      <td>82.848457</td>\n",
       "    </tr>\n",
       "    <tr>\n",
       "      <th>27</th>\n",
       "      <td>66.968568</td>\n",
       "    </tr>\n",
       "    <tr>\n",
       "      <th>28</th>\n",
       "      <td>95.425113</td>\n",
       "    </tr>\n",
       "    <tr>\n",
       "      <th>29</th>\n",
       "      <td>81.516593</td>\n",
       "    </tr>\n",
       "    <tr>\n",
       "      <th>30</th>\n",
       "      <td>103.733868</td>\n",
       "    </tr>\n",
       "    <tr>\n",
       "      <th>31</th>\n",
       "      <td>72.791062</td>\n",
       "    </tr>\n",
       "    <tr>\n",
       "      <th>32</th>\n",
       "      <td>88.555582</td>\n",
       "    </tr>\n",
       "    <tr>\n",
       "      <th>33</th>\n",
       "      <td>73.171556</td>\n",
       "    </tr>\n",
       "    <tr>\n",
       "      <th>34</th>\n",
       "      <td>81.552383</td>\n",
       "    </tr>\n",
       "    <tr>\n",
       "      <th>35</th>\n",
       "      <td>85.034809</td>\n",
       "    </tr>\n",
       "    <tr>\n",
       "      <th>36</th>\n",
       "      <td>113.397352</td>\n",
       "    </tr>\n",
       "    <tr>\n",
       "      <th>37</th>\n",
       "      <td>78.996127</td>\n",
       "    </tr>\n",
       "    <tr>\n",
       "      <th>38</th>\n",
       "      <td>70.499831</td>\n",
       "    </tr>\n",
       "    <tr>\n",
       "      <th>39</th>\n",
       "      <td>60.864292</td>\n",
       "    </tr>\n",
       "  </tbody>\n",
       "</table>\n",
       "</div>"
      ],
      "text/plain": [
       "          time\n",
       "0    86.863019\n",
       "1    65.662413\n",
       "2    90.034150\n",
       "3   109.155738\n",
       "4    97.453487\n",
       "5   110.480642\n",
       "6    76.590429\n",
       "7    66.374976\n",
       "8    83.929814\n",
       "9    92.131281\n",
       "10   72.610468\n",
       "11  100.931086\n",
       "12   71.064921\n",
       "13   85.377286\n",
       "14   88.540964\n",
       "15   86.712311\n",
       "16   95.881157\n",
       "17  109.727339\n",
       "18  111.287450\n",
       "19   86.793104\n",
       "20   92.545460\n",
       "21  115.923867\n",
       "22   97.776270\n",
       "23   67.105393\n",
       "24   92.323969\n",
       "25  100.252939\n",
       "26   82.848457\n",
       "27   66.968568\n",
       "28   95.425113\n",
       "29   81.516593\n",
       "30  103.733868\n",
       "31   72.791062\n",
       "32   88.555582\n",
       "33   73.171556\n",
       "34   81.552383\n",
       "35   85.034809\n",
       "36  113.397352\n",
       "37   78.996127\n",
       "38   70.499831\n",
       "39   60.864292"
      ]
     },
     "execution_count": 19,
     "metadata": {},
     "output_type": "execute_result"
    }
   ],
   "source": [
    "office_1 = random.normal(mean1, std1, size= sample_size1)\n",
    "office_1_pd = pd.DataFrame({'time': office_1})\n",
    "office_1_pd"
   ]
  },
  {
   "cell_type": "markdown",
   "id": "45e64024",
   "metadata": {},
   "source": [
    "**Generate a sample for Office #2**"
   ]
  },
  {
   "cell_type": "code",
   "execution_count": 20,
   "id": "bd66f3df",
   "metadata": {},
   "outputs": [
    {
     "data": {
      "text/html": [
       "<div>\n",
       "<style scoped>\n",
       "    .dataframe tbody tr th:only-of-type {\n",
       "        vertical-align: middle;\n",
       "    }\n",
       "\n",
       "    .dataframe tbody tr th {\n",
       "        vertical-align: top;\n",
       "    }\n",
       "\n",
       "    .dataframe thead th {\n",
       "        text-align: right;\n",
       "    }\n",
       "</style>\n",
       "<table border=\"1\" class=\"dataframe\">\n",
       "  <thead>\n",
       "    <tr style=\"text-align: right;\">\n",
       "      <th></th>\n",
       "      <th>time</th>\n",
       "    </tr>\n",
       "  </thead>\n",
       "  <tbody>\n",
       "    <tr>\n",
       "      <th>0</th>\n",
       "      <td>98.775402</td>\n",
       "    </tr>\n",
       "    <tr>\n",
       "      <th>1</th>\n",
       "      <td>75.231021</td>\n",
       "    </tr>\n",
       "    <tr>\n",
       "      <th>2</th>\n",
       "      <td>73.135666</td>\n",
       "    </tr>\n",
       "    <tr>\n",
       "      <th>3</th>\n",
       "      <td>112.138029</td>\n",
       "    </tr>\n",
       "    <tr>\n",
       "      <th>4</th>\n",
       "      <td>128.310492</td>\n",
       "    </tr>\n",
       "    <tr>\n",
       "      <th>5</th>\n",
       "      <td>87.024644</td>\n",
       "    </tr>\n",
       "    <tr>\n",
       "      <th>6</th>\n",
       "      <td>123.282479</td>\n",
       "    </tr>\n",
       "    <tr>\n",
       "      <th>7</th>\n",
       "      <td>116.107620</td>\n",
       "    </tr>\n",
       "    <tr>\n",
       "      <th>8</th>\n",
       "      <td>84.899523</td>\n",
       "    </tr>\n",
       "    <tr>\n",
       "      <th>9</th>\n",
       "      <td>122.848287</td>\n",
       "    </tr>\n",
       "    <tr>\n",
       "      <th>10</th>\n",
       "      <td>88.308923</td>\n",
       "    </tr>\n",
       "    <tr>\n",
       "      <th>11</th>\n",
       "      <td>107.240662</td>\n",
       "    </tr>\n",
       "    <tr>\n",
       "      <th>12</th>\n",
       "      <td>113.443674</td>\n",
       "    </tr>\n",
       "    <tr>\n",
       "      <th>13</th>\n",
       "      <td>112.321739</td>\n",
       "    </tr>\n",
       "    <tr>\n",
       "      <th>14</th>\n",
       "      <td>111.034284</td>\n",
       "    </tr>\n",
       "    <tr>\n",
       "      <th>15</th>\n",
       "      <td>81.534824</td>\n",
       "    </tr>\n",
       "    <tr>\n",
       "      <th>16</th>\n",
       "      <td>91.244343</td>\n",
       "    </tr>\n",
       "    <tr>\n",
       "      <th>17</th>\n",
       "      <td>87.703797</td>\n",
       "    </tr>\n",
       "    <tr>\n",
       "      <th>18</th>\n",
       "      <td>135.477272</td>\n",
       "    </tr>\n",
       "    <tr>\n",
       "      <th>19</th>\n",
       "      <td>120.173343</td>\n",
       "    </tr>\n",
       "    <tr>\n",
       "      <th>20</th>\n",
       "      <td>88.277737</td>\n",
       "    </tr>\n",
       "    <tr>\n",
       "      <th>21</th>\n",
       "      <td>121.514950</td>\n",
       "    </tr>\n",
       "    <tr>\n",
       "      <th>22</th>\n",
       "      <td>82.163348</td>\n",
       "    </tr>\n",
       "    <tr>\n",
       "      <th>23</th>\n",
       "      <td>99.441930</td>\n",
       "    </tr>\n",
       "    <tr>\n",
       "      <th>24</th>\n",
       "      <td>89.738145</td>\n",
       "    </tr>\n",
       "    <tr>\n",
       "      <th>25</th>\n",
       "      <td>109.117918</td>\n",
       "    </tr>\n",
       "    <tr>\n",
       "      <th>26</th>\n",
       "      <td>111.549153</td>\n",
       "    </tr>\n",
       "    <tr>\n",
       "      <th>27</th>\n",
       "      <td>109.702353</td>\n",
       "    </tr>\n",
       "    <tr>\n",
       "      <th>28</th>\n",
       "      <td>79.624949</td>\n",
       "    </tr>\n",
       "    <tr>\n",
       "      <th>29</th>\n",
       "      <td>105.812941</td>\n",
       "    </tr>\n",
       "    <tr>\n",
       "      <th>30</th>\n",
       "      <td>111.271500</td>\n",
       "    </tr>\n",
       "    <tr>\n",
       "      <th>31</th>\n",
       "      <td>108.872687</td>\n",
       "    </tr>\n",
       "    <tr>\n",
       "      <th>32</th>\n",
       "      <td>92.672168</td>\n",
       "    </tr>\n",
       "    <tr>\n",
       "      <th>33</th>\n",
       "      <td>110.325972</td>\n",
       "    </tr>\n",
       "    <tr>\n",
       "      <th>34</th>\n",
       "      <td>79.506469</td>\n",
       "    </tr>\n",
       "    <tr>\n",
       "      <th>35</th>\n",
       "      <td>106.648169</td>\n",
       "    </tr>\n",
       "    <tr>\n",
       "      <th>36</th>\n",
       "      <td>97.182251</td>\n",
       "    </tr>\n",
       "    <tr>\n",
       "      <th>37</th>\n",
       "      <td>110.883863</td>\n",
       "    </tr>\n",
       "    <tr>\n",
       "      <th>38</th>\n",
       "      <td>117.061894</td>\n",
       "    </tr>\n",
       "    <tr>\n",
       "      <th>39</th>\n",
       "      <td>103.477385</td>\n",
       "    </tr>\n",
       "    <tr>\n",
       "      <th>40</th>\n",
       "      <td>138.946668</td>\n",
       "    </tr>\n",
       "    <tr>\n",
       "      <th>41</th>\n",
       "      <td>82.445553</td>\n",
       "    </tr>\n",
       "    <tr>\n",
       "      <th>42</th>\n",
       "      <td>71.107050</td>\n",
       "    </tr>\n",
       "    <tr>\n",
       "      <th>43</th>\n",
       "      <td>61.121782</td>\n",
       "    </tr>\n",
       "    <tr>\n",
       "      <th>44</th>\n",
       "      <td>87.077274</td>\n",
       "    </tr>\n",
       "    <tr>\n",
       "      <th>45</th>\n",
       "      <td>138.945269</td>\n",
       "    </tr>\n",
       "    <tr>\n",
       "      <th>46</th>\n",
       "      <td>76.763031</td>\n",
       "    </tr>\n",
       "    <tr>\n",
       "      <th>47</th>\n",
       "      <td>98.760018</td>\n",
       "    </tr>\n",
       "    <tr>\n",
       "      <th>48</th>\n",
       "      <td>121.912744</td>\n",
       "    </tr>\n",
       "    <tr>\n",
       "      <th>49</th>\n",
       "      <td>68.512360</td>\n",
       "    </tr>\n",
       "  </tbody>\n",
       "</table>\n",
       "</div>"
      ],
      "text/plain": [
       "          time\n",
       "0    98.775402\n",
       "1    75.231021\n",
       "2    73.135666\n",
       "3   112.138029\n",
       "4   128.310492\n",
       "5    87.024644\n",
       "6   123.282479\n",
       "7   116.107620\n",
       "8    84.899523\n",
       "9   122.848287\n",
       "10   88.308923\n",
       "11  107.240662\n",
       "12  113.443674\n",
       "13  112.321739\n",
       "14  111.034284\n",
       "15   81.534824\n",
       "16   91.244343\n",
       "17   87.703797\n",
       "18  135.477272\n",
       "19  120.173343\n",
       "20   88.277737\n",
       "21  121.514950\n",
       "22   82.163348\n",
       "23   99.441930\n",
       "24   89.738145\n",
       "25  109.117918\n",
       "26  111.549153\n",
       "27  109.702353\n",
       "28   79.624949\n",
       "29  105.812941\n",
       "30  111.271500\n",
       "31  108.872687\n",
       "32   92.672168\n",
       "33  110.325972\n",
       "34   79.506469\n",
       "35  106.648169\n",
       "36   97.182251\n",
       "37  110.883863\n",
       "38  117.061894\n",
       "39  103.477385\n",
       "40  138.946668\n",
       "41   82.445553\n",
       "42   71.107050\n",
       "43   61.121782\n",
       "44   87.077274\n",
       "45  138.945269\n",
       "46   76.763031\n",
       "47   98.760018\n",
       "48  121.912744\n",
       "49   68.512360"
      ]
     },
     "execution_count": 20,
     "metadata": {},
     "output_type": "execute_result"
    }
   ],
   "source": [
    "office_2 = random.normal(mean2, std2, size = sample_size2)\n",
    "office_2_pd = pd.DataFrame({'time': office_2})\n",
    "office_2_pd"
   ]
  },
  {
   "cell_type": "markdown",
   "id": "e6f3f38b",
   "metadata": {},
   "source": [
    "**Graph of Office #1 sale times**"
   ]
  },
  {
   "cell_type": "code",
   "execution_count": 21,
   "id": "280d7442",
   "metadata": {},
   "outputs": [
    {
     "data": {
      "image/png": "[encoded data removed]",
      "text/plain": [
       "<Figure size 432x288 with 1 Axes>"
      ]
     },
     "metadata": {
      "needs_background": "light"
     },
     "output_type": "display_data"
    }
   ],
   "source": [
    "office_1_plot = office_1_pd['time'].hist()"
   ]
  },
  {
   "cell_type": "markdown",
   "id": "49fe7872",
   "metadata": {},
   "source": [
    "**Graph of Office #2 sale times**"
   ]
  },
  {
   "cell_type": "code",
   "execution_count": 22,
   "id": "3cc6eff8",
   "metadata": {},
   "outputs": [
    {
     "data": {
      "image/png": "[encoded data removed]",
      "text/plain": [
       "<Figure size 432x288 with 1 Axes>"
      ]
     },
     "metadata": {
      "needs_background": "light"
     },
     "output_type": "display_data"
    }
   ],
   "source": [
    "office_2_plot = office_2_pd['time'].hist()"
   ]
  },
  {
   "cell_type": "markdown",
   "id": "d4e69fb4",
   "metadata": {},
   "source": [
    "These graphs look different to the eye, but we will still do a calculation to determine if there is a statistical difference."
   ]
  },
  {
   "cell_type": "markdown",
   "id": "40cf4b88",
   "metadata": {},
   "source": [
    "**Check the variance**"
   ]
  },
  {
   "cell_type": "code",
   "execution_count": 23,
   "id": "201e6ac7",
   "metadata": {},
   "outputs": [
    {
     "name": "stdout",
     "output_type": "stream",
     "text": [
      "Variance for Office 1: 218.92939583883265\n",
      "Variance for Office 2: 362.11573540419494\n"
     ]
    }
   ],
   "source": [
    "print(\"Variance for Office 1:\", office_1_pd['time'].var())\n",
    "print(\"Variance for Office 2:\", office_2_pd['time'].var())"
   ]
  },
  {
   "cell_type": "markdown",
   "id": "fdae266a",
   "metadata": {},
   "source": [
    "These two variances are not equal, so we will set the argument of equal_var to False."
   ]
  },
  {
   "cell_type": "markdown",
   "id": "ea1ef01e",
   "metadata": {},
   "source": [
    "**Compute test statistic**"
   ]
  },
  {
   "cell_type": "code",
   "execution_count": 24,
   "id": "755afe26",
   "metadata": {},
   "outputs": [
    {
     "name": "stdout",
     "output_type": "stream",
     "text": [
      "T-statistic: -3.7273568083251125\n",
      "P-value: 0.00034166361072268897\n"
     ]
    }
   ],
   "source": [
    "t, p = stats.ttest_ind(office_1_pd['time'], office_2_pd['time'], equal_var = False)\n",
    "print(\"T-statistic:\", t)\n",
    "print(\"P-value:\", p)"
   ]
  },
  {
   "cell_type": "markdown",
   "id": "c56df326",
   "metadata": {},
   "source": [
    "We will now check whether $\\frac{1}{2}p < 0.05$ and $t>0$."
   ]
  },
  {
   "cell_type": "code",
   "execution_count": 25,
   "id": "066191f9",
   "metadata": {},
   "outputs": [
    {
     "name": "stdout",
     "output_type": "stream",
     "text": [
      "Is p-value significant? True\n",
      "Is t-statistic greater than 0? False\n"
     ]
    }
   ],
   "source": [
    "print(\"Is p-value significant?\", p < level_of_significance)\n",
    "print(\"Is t-statistic greater than 0?\", t > 0)"
   ]
  },
  {
   "cell_type": "markdown",
   "id": "4e16ea49",
   "metadata": {},
   "source": [
    "**We will use the p-value and t-statistic to reach a conclusion.**"
   ]
  },
  {
   "cell_type": "code",
   "execution_count": 26,
   "id": "71f1ac76",
   "metadata": {},
   "outputs": [
    {
     "name": "stdout",
     "output_type": "stream",
     "text": [
      "We reject the null hypothesis.\n",
      "The average sale time for Office #1 is not equal to the average sale time for Office #2.\n"
     ]
    }
   ],
   "source": [
    "if p > level_of_significance:\n",
    "    print(\"We fail to reject the null hypothesis\")\n",
    "else:\n",
    "    print(\"We reject the null hypothesis.\")\n",
    "    print(\"The average sale time for Office #1 is not equal to the average sale time for Office #2.\")"
   ]
  },
  {
   "cell_type": "markdown",
   "id": "64cc237c",
   "metadata": {},
   "source": [
    "## Question 2"
   ]
  },
  {
   "cell_type": "markdown",
   "id": "b4b4b1b7",
   "metadata": {},
   "source": [
    "Load the mpg dataset."
   ]
  },
  {
   "cell_type": "code",
   "execution_count": 27,
   "id": "bc07b9c1",
   "metadata": {},
   "outputs": [],
   "source": [
    "mpg_df = data(\"mpg\")"
   ]
  },
  {
   "cell_type": "code",
   "execution_count": 28,
   "id": "3f923239",
   "metadata": {
    "scrolled": true
   },
   "outputs": [
    {
     "data": {
      "text/html": [
       "<div>\n",
       "<style scoped>\n",
       "    .dataframe tbody tr th:only-of-type {\n",
       "        vertical-align: middle;\n",
       "    }\n",
       "\n",
       "    .dataframe tbody tr th {\n",
       "        vertical-align: top;\n",
       "    }\n",
       "\n",
       "    .dataframe thead th {\n",
       "        text-align: right;\n",
       "    }\n",
       "</style>\n",
       "<table border=\"1\" class=\"dataframe\">\n",
       "  <thead>\n",
       "    <tr style=\"text-align: right;\">\n",
       "      <th></th>\n",
       "      <th>manufacturer</th>\n",
       "      <th>model</th>\n",
       "      <th>displ</th>\n",
       "      <th>year</th>\n",
       "      <th>cyl</th>\n",
       "      <th>trans</th>\n",
       "      <th>drv</th>\n",
       "      <th>cty</th>\n",
       "      <th>hwy</th>\n",
       "      <th>fl</th>\n",
       "      <th>class</th>\n",
       "    </tr>\n",
       "  </thead>\n",
       "  <tbody>\n",
       "    <tr>\n",
       "      <th>1</th>\n",
       "      <td>audi</td>\n",
       "      <td>a4</td>\n",
       "      <td>1.8</td>\n",
       "      <td>1999</td>\n",
       "      <td>4</td>\n",
       "      <td>auto(l5)</td>\n",
       "      <td>f</td>\n",
       "      <td>18</td>\n",
       "      <td>29</td>\n",
       "      <td>p</td>\n",
       "      <td>compact</td>\n",
       "    </tr>\n",
       "    <tr>\n",
       "      <th>2</th>\n",
       "      <td>audi</td>\n",
       "      <td>a4</td>\n",
       "      <td>1.8</td>\n",
       "      <td>1999</td>\n",
       "      <td>4</td>\n",
       "      <td>manual(m5)</td>\n",
       "      <td>f</td>\n",
       "      <td>21</td>\n",
       "      <td>29</td>\n",
       "      <td>p</td>\n",
       "      <td>compact</td>\n",
       "    </tr>\n",
       "    <tr>\n",
       "      <th>3</th>\n",
       "      <td>audi</td>\n",
       "      <td>a4</td>\n",
       "      <td>2.0</td>\n",
       "      <td>2008</td>\n",
       "      <td>4</td>\n",
       "      <td>manual(m6)</td>\n",
       "      <td>f</td>\n",
       "      <td>20</td>\n",
       "      <td>31</td>\n",
       "      <td>p</td>\n",
       "      <td>compact</td>\n",
       "    </tr>\n",
       "    <tr>\n",
       "      <th>4</th>\n",
       "      <td>audi</td>\n",
       "      <td>a4</td>\n",
       "      <td>2.0</td>\n",
       "      <td>2008</td>\n",
       "      <td>4</td>\n",
       "      <td>auto(av)</td>\n",
       "      <td>f</td>\n",
       "      <td>21</td>\n",
       "      <td>30</td>\n",
       "      <td>p</td>\n",
       "      <td>compact</td>\n",
       "    </tr>\n",
       "    <tr>\n",
       "      <th>5</th>\n",
       "      <td>audi</td>\n",
       "      <td>a4</td>\n",
       "      <td>2.8</td>\n",
       "      <td>1999</td>\n",
       "      <td>6</td>\n",
       "      <td>auto(l5)</td>\n",
       "      <td>f</td>\n",
       "      <td>16</td>\n",
       "      <td>26</td>\n",
       "      <td>p</td>\n",
       "      <td>compact</td>\n",
       "    </tr>\n",
       "    <tr>\n",
       "      <th>...</th>\n",
       "      <td>...</td>\n",
       "      <td>...</td>\n",
       "      <td>...</td>\n",
       "      <td>...</td>\n",
       "      <td>...</td>\n",
       "      <td>...</td>\n",
       "      <td>...</td>\n",
       "      <td>...</td>\n",
       "      <td>...</td>\n",
       "      <td>...</td>\n",
       "      <td>...</td>\n",
       "    </tr>\n",
       "    <tr>\n",
       "      <th>230</th>\n",
       "      <td>volkswagen</td>\n",
       "      <td>passat</td>\n",
       "      <td>2.0</td>\n",
       "      <td>2008</td>\n",
       "      <td>4</td>\n",
       "      <td>auto(s6)</td>\n",
       "      <td>f</td>\n",
       "      <td>19</td>\n",
       "      <td>28</td>\n",
       "      <td>p</td>\n",
       "      <td>midsize</td>\n",
       "    </tr>\n",
       "    <tr>\n",
       "      <th>231</th>\n",
       "      <td>volkswagen</td>\n",
       "      <td>passat</td>\n",
       "      <td>2.0</td>\n",
       "      <td>2008</td>\n",
       "      <td>4</td>\n",
       "      <td>manual(m6)</td>\n",
       "      <td>f</td>\n",
       "      <td>21</td>\n",
       "      <td>29</td>\n",
       "      <td>p</td>\n",
       "      <td>midsize</td>\n",
       "    </tr>\n",
       "    <tr>\n",
       "      <th>232</th>\n",
       "      <td>volkswagen</td>\n",
       "      <td>passat</td>\n",
       "      <td>2.8</td>\n",
       "      <td>1999</td>\n",
       "      <td>6</td>\n",
       "      <td>auto(l5)</td>\n",
       "      <td>f</td>\n",
       "      <td>16</td>\n",
       "      <td>26</td>\n",
       "      <td>p</td>\n",
       "      <td>midsize</td>\n",
       "    </tr>\n",
       "    <tr>\n",
       "      <th>233</th>\n",
       "      <td>volkswagen</td>\n",
       "      <td>passat</td>\n",
       "      <td>2.8</td>\n",
       "      <td>1999</td>\n",
       "      <td>6</td>\n",
       "      <td>manual(m5)</td>\n",
       "      <td>f</td>\n",
       "      <td>18</td>\n",
       "      <td>26</td>\n",
       "      <td>p</td>\n",
       "      <td>midsize</td>\n",
       "    </tr>\n",
       "    <tr>\n",
       "      <th>234</th>\n",
       "      <td>volkswagen</td>\n",
       "      <td>passat</td>\n",
       "      <td>3.6</td>\n",
       "      <td>2008</td>\n",
       "      <td>6</td>\n",
       "      <td>auto(s6)</td>\n",
       "      <td>f</td>\n",
       "      <td>17</td>\n",
       "      <td>26</td>\n",
       "      <td>p</td>\n",
       "      <td>midsize</td>\n",
       "    </tr>\n",
       "  </tbody>\n",
       "</table>\n",
       "<p>234 rows × 11 columns</p>\n",
       "</div>"
      ],
      "text/plain": [
       "    manufacturer   model  displ  year  cyl       trans drv  cty  hwy fl  \\\n",
       "1           audi      a4    1.8  1999    4    auto(l5)   f   18   29  p   \n",
       "2           audi      a4    1.8  1999    4  manual(m5)   f   21   29  p   \n",
       "3           audi      a4    2.0  2008    4  manual(m6)   f   20   31  p   \n",
       "4           audi      a4    2.0  2008    4    auto(av)   f   21   30  p   \n",
       "5           audi      a4    2.8  1999    6    auto(l5)   f   16   26  p   \n",
       "..           ...     ...    ...   ...  ...         ...  ..  ...  ... ..   \n",
       "230   volkswagen  passat    2.0  2008    4    auto(s6)   f   19   28  p   \n",
       "231   volkswagen  passat    2.0  2008    4  manual(m6)   f   21   29  p   \n",
       "232   volkswagen  passat    2.8  1999    6    auto(l5)   f   16   26  p   \n",
       "233   volkswagen  passat    2.8  1999    6  manual(m5)   f   18   26  p   \n",
       "234   volkswagen  passat    3.6  2008    6    auto(s6)   f   17   26  p   \n",
       "\n",
       "       class  \n",
       "1    compact  \n",
       "2    compact  \n",
       "3    compact  \n",
       "4    compact  \n",
       "5    compact  \n",
       "..       ...  \n",
       "230  midsize  \n",
       "231  midsize  \n",
       "232  midsize  \n",
       "233  midsize  \n",
       "234  midsize  \n",
       "\n",
       "[234 rows x 11 columns]"
      ]
     },
     "execution_count": 28,
     "metadata": {},
     "output_type": "execute_result"
    }
   ],
   "source": [
    "mpg_df"
   ]
  },
  {
   "cell_type": "markdown",
   "id": "9b083814",
   "metadata": {},
   "source": [
    "### Part 1"
   ]
  },
  {
   "cell_type": "markdown",
   "id": "ae520e28",
   "metadata": {},
   "source": [
    "Is there a difference in fuel-efficiency in cars from 2008 vs 1999?"
   ]
  },
  {
   "cell_type": "markdown",
   "id": "120f33a9",
   "metadata": {},
   "source": [
    "**Formulate fuel hypotheses**"
   ]
  },
  {
   "cell_type": "markdown",
   "id": "7a50bfc8",
   "metadata": {},
   "source": [
    "$H_{0}:$ Average fuel efficiency in cars from 2008 = average fuel efficiency in cars from 1999. "
   ]
  },
  {
   "cell_type": "markdown",
   "id": "23cb36de",
   "metadata": {},
   "source": [
    "$H_{a}:$ Average fuel efficiency in cars from 2008 $\\ne$ average fuel efficiency in cars from 1999. "
   ]
  },
  {
   "cell_type": "markdown",
   "id": "b8489c72",
   "metadata": {},
   "source": [
    "**Get data**"
   ]
  },
  {
   "cell_type": "markdown",
   "id": "1daa4c63",
   "metadata": {},
   "source": [
    "We will make a new column averaging the city mileage and highway mileage."
   ]
  },
  {
   "cell_type": "code",
   "execution_count": 29,
   "id": "7bbfee88",
   "metadata": {},
   "outputs": [
    {
     "data": {
      "text/html": [
       "<div>\n",
       "<style scoped>\n",
       "    .dataframe tbody tr th:only-of-type {\n",
       "        vertical-align: middle;\n",
       "    }\n",
       "\n",
       "    .dataframe tbody tr th {\n",
       "        vertical-align: top;\n",
       "    }\n",
       "\n",
       "    .dataframe thead th {\n",
       "        text-align: right;\n",
       "    }\n",
       "</style>\n",
       "<table border=\"1\" class=\"dataframe\">\n",
       "  <thead>\n",
       "    <tr style=\"text-align: right;\">\n",
       "      <th></th>\n",
       "      <th>manufacturer</th>\n",
       "      <th>model</th>\n",
       "      <th>displ</th>\n",
       "      <th>year</th>\n",
       "      <th>cyl</th>\n",
       "      <th>trans</th>\n",
       "      <th>drv</th>\n",
       "      <th>cty</th>\n",
       "      <th>hwy</th>\n",
       "      <th>fl</th>\n",
       "      <th>class</th>\n",
       "      <th>avg_mpg</th>\n",
       "    </tr>\n",
       "  </thead>\n",
       "  <tbody>\n",
       "    <tr>\n",
       "      <th>1</th>\n",
       "      <td>audi</td>\n",
       "      <td>a4</td>\n",
       "      <td>1.8</td>\n",
       "      <td>1999</td>\n",
       "      <td>4</td>\n",
       "      <td>auto(l5)</td>\n",
       "      <td>f</td>\n",
       "      <td>18</td>\n",
       "      <td>29</td>\n",
       "      <td>p</td>\n",
       "      <td>compact</td>\n",
       "      <td>23.5</td>\n",
       "    </tr>\n",
       "    <tr>\n",
       "      <th>2</th>\n",
       "      <td>audi</td>\n",
       "      <td>a4</td>\n",
       "      <td>1.8</td>\n",
       "      <td>1999</td>\n",
       "      <td>4</td>\n",
       "      <td>manual(m5)</td>\n",
       "      <td>f</td>\n",
       "      <td>21</td>\n",
       "      <td>29</td>\n",
       "      <td>p</td>\n",
       "      <td>compact</td>\n",
       "      <td>25.0</td>\n",
       "    </tr>\n",
       "    <tr>\n",
       "      <th>3</th>\n",
       "      <td>audi</td>\n",
       "      <td>a4</td>\n",
       "      <td>2.0</td>\n",
       "      <td>2008</td>\n",
       "      <td>4</td>\n",
       "      <td>manual(m6)</td>\n",
       "      <td>f</td>\n",
       "      <td>20</td>\n",
       "      <td>31</td>\n",
       "      <td>p</td>\n",
       "      <td>compact</td>\n",
       "      <td>25.5</td>\n",
       "    </tr>\n",
       "    <tr>\n",
       "      <th>4</th>\n",
       "      <td>audi</td>\n",
       "      <td>a4</td>\n",
       "      <td>2.0</td>\n",
       "      <td>2008</td>\n",
       "      <td>4</td>\n",
       "      <td>auto(av)</td>\n",
       "      <td>f</td>\n",
       "      <td>21</td>\n",
       "      <td>30</td>\n",
       "      <td>p</td>\n",
       "      <td>compact</td>\n",
       "      <td>25.5</td>\n",
       "    </tr>\n",
       "    <tr>\n",
       "      <th>5</th>\n",
       "      <td>audi</td>\n",
       "      <td>a4</td>\n",
       "      <td>2.8</td>\n",
       "      <td>1999</td>\n",
       "      <td>6</td>\n",
       "      <td>auto(l5)</td>\n",
       "      <td>f</td>\n",
       "      <td>16</td>\n",
       "      <td>26</td>\n",
       "      <td>p</td>\n",
       "      <td>compact</td>\n",
       "      <td>21.0</td>\n",
       "    </tr>\n",
       "    <tr>\n",
       "      <th>...</th>\n",
       "      <td>...</td>\n",
       "      <td>...</td>\n",
       "      <td>...</td>\n",
       "      <td>...</td>\n",
       "      <td>...</td>\n",
       "      <td>...</td>\n",
       "      <td>...</td>\n",
       "      <td>...</td>\n",
       "      <td>...</td>\n",
       "      <td>...</td>\n",
       "      <td>...</td>\n",
       "      <td>...</td>\n",
       "    </tr>\n",
       "    <tr>\n",
       "      <th>230</th>\n",
       "      <td>volkswagen</td>\n",
       "      <td>passat</td>\n",
       "      <td>2.0</td>\n",
       "      <td>2008</td>\n",
       "      <td>4</td>\n",
       "      <td>auto(s6)</td>\n",
       "      <td>f</td>\n",
       "      <td>19</td>\n",
       "      <td>28</td>\n",
       "      <td>p</td>\n",
       "      <td>midsize</td>\n",
       "      <td>23.5</td>\n",
       "    </tr>\n",
       "    <tr>\n",
       "      <th>231</th>\n",
       "      <td>volkswagen</td>\n",
       "      <td>passat</td>\n",
       "      <td>2.0</td>\n",
       "      <td>2008</td>\n",
       "      <td>4</td>\n",
       "      <td>manual(m6)</td>\n",
       "      <td>f</td>\n",
       "      <td>21</td>\n",
       "      <td>29</td>\n",
       "      <td>p</td>\n",
       "      <td>midsize</td>\n",
       "      <td>25.0</td>\n",
       "    </tr>\n",
       "    <tr>\n",
       "      <th>232</th>\n",
       "      <td>volkswagen</td>\n",
       "      <td>passat</td>\n",
       "      <td>2.8</td>\n",
       "      <td>1999</td>\n",
       "      <td>6</td>\n",
       "      <td>auto(l5)</td>\n",
       "      <td>f</td>\n",
       "      <td>16</td>\n",
       "      <td>26</td>\n",
       "      <td>p</td>\n",
       "      <td>midsize</td>\n",
       "      <td>21.0</td>\n",
       "    </tr>\n",
       "    <tr>\n",
       "      <th>233</th>\n",
       "      <td>volkswagen</td>\n",
       "      <td>passat</td>\n",
       "      <td>2.8</td>\n",
       "      <td>1999</td>\n",
       "      <td>6</td>\n",
       "      <td>manual(m5)</td>\n",
       "      <td>f</td>\n",
       "      <td>18</td>\n",
       "      <td>26</td>\n",
       "      <td>p</td>\n",
       "      <td>midsize</td>\n",
       "      <td>22.0</td>\n",
       "    </tr>\n",
       "    <tr>\n",
       "      <th>234</th>\n",
       "      <td>volkswagen</td>\n",
       "      <td>passat</td>\n",
       "      <td>3.6</td>\n",
       "      <td>2008</td>\n",
       "      <td>6</td>\n",
       "      <td>auto(s6)</td>\n",
       "      <td>f</td>\n",
       "      <td>17</td>\n",
       "      <td>26</td>\n",
       "      <td>p</td>\n",
       "      <td>midsize</td>\n",
       "      <td>21.5</td>\n",
       "    </tr>\n",
       "  </tbody>\n",
       "</table>\n",
       "<p>234 rows × 12 columns</p>\n",
       "</div>"
      ],
      "text/plain": [
       "    manufacturer   model  displ  year  cyl       trans drv  cty  hwy fl  \\\n",
       "1           audi      a4    1.8  1999    4    auto(l5)   f   18   29  p   \n",
       "2           audi      a4    1.8  1999    4  manual(m5)   f   21   29  p   \n",
       "3           audi      a4    2.0  2008    4  manual(m6)   f   20   31  p   \n",
       "4           audi      a4    2.0  2008    4    auto(av)   f   21   30  p   \n",
       "5           audi      a4    2.8  1999    6    auto(l5)   f   16   26  p   \n",
       "..           ...     ...    ...   ...  ...         ...  ..  ...  ... ..   \n",
       "230   volkswagen  passat    2.0  2008    4    auto(s6)   f   19   28  p   \n",
       "231   volkswagen  passat    2.0  2008    4  manual(m6)   f   21   29  p   \n",
       "232   volkswagen  passat    2.8  1999    6    auto(l5)   f   16   26  p   \n",
       "233   volkswagen  passat    2.8  1999    6  manual(m5)   f   18   26  p   \n",
       "234   volkswagen  passat    3.6  2008    6    auto(s6)   f   17   26  p   \n",
       "\n",
       "       class  avg_mpg  \n",
       "1    compact     23.5  \n",
       "2    compact     25.0  \n",
       "3    compact     25.5  \n",
       "4    compact     25.5  \n",
       "5    compact     21.0  \n",
       "..       ...      ...  \n",
       "230  midsize     23.5  \n",
       "231  midsize     25.0  \n",
       "232  midsize     21.0  \n",
       "233  midsize     22.0  \n",
       "234  midsize     21.5  \n",
       "\n",
       "[234 rows x 12 columns]"
      ]
     },
     "execution_count": 29,
     "metadata": {},
     "output_type": "execute_result"
    }
   ],
   "source": [
    "mpg_df[\"avg_mpg\"] = (mpg_df.cty + mpg_df.hwy)/2\n",
    "mpg_df"
   ]
  },
  {
   "cell_type": "markdown",
   "id": "5b789adf",
   "metadata": {},
   "source": [
    "Now we can use this new column to compare mileages for 2008 and 1999 cars."
   ]
  },
  {
   "cell_type": "code",
   "execution_count": 30,
   "id": "43499429",
   "metadata": {},
   "outputs": [],
   "source": [
    "cars_2008_sample = mpg_df[mpg_df.year==2008].avg_mpg"
   ]
  },
  {
   "cell_type": "code",
   "execution_count": 31,
   "id": "5f7800f2",
   "metadata": {},
   "outputs": [
    {
     "data": {
      "image/png": "[encoded data removed]",
      "text/plain": [
       "<Figure size 432x288 with 1 Axes>"
      ]
     },
     "metadata": {
      "needs_background": "light"
     },
     "output_type": "display_data"
    }
   ],
   "source": [
    "cars_2008_chart = cars_2008_sample.hist()"
   ]
  },
  {
   "cell_type": "code",
   "execution_count": 32,
   "id": "8700439f",
   "metadata": {},
   "outputs": [],
   "source": [
    "cars_1999_sample = mpg_df[mpg_df.year==1999].avg_mpg"
   ]
  },
  {
   "cell_type": "code",
   "execution_count": 33,
   "id": "a27a3de7",
   "metadata": {},
   "outputs": [
    {
     "data": {
      "image/png": "[encoded data removed]",
      "text/plain": [
       "<Figure size 432x288 with 1 Axes>"
      ]
     },
     "metadata": {
      "needs_background": "light"
     },
     "output_type": "display_data"
    }
   ],
   "source": [
    "cars_1999_chart = cars_1999_sample.hist()"
   ]
  },
  {
   "cell_type": "code",
   "execution_count": 34,
   "id": "527e7398",
   "metadata": {},
   "outputs": [
    {
     "data": {
      "text/plain": [
       "20.076923076923077"
      ]
     },
     "execution_count": 34,
     "metadata": {},
     "output_type": "execute_result"
    }
   ],
   "source": [
    "cars_2008_sample.mean()"
   ]
  },
  {
   "cell_type": "code",
   "execution_count": 35,
   "id": "4df756f1",
   "metadata": {},
   "outputs": [
    {
     "data": {
      "text/plain": [
       "20.22222222222222"
      ]
     },
     "execution_count": 35,
     "metadata": {},
     "output_type": "execute_result"
    }
   ],
   "source": [
    "cars_1999_sample.mean()"
   ]
  },
  {
   "cell_type": "code",
   "execution_count": 36,
   "id": "8aa88e89",
   "metadata": {},
   "outputs": [
    {
     "data": {
      "text/plain": [
       "117"
      ]
     },
     "execution_count": 36,
     "metadata": {},
     "output_type": "execute_result"
    }
   ],
   "source": [
    "cars_2008_sample.size"
   ]
  },
  {
   "cell_type": "code",
   "execution_count": 37,
   "id": "b30d5c72",
   "metadata": {},
   "outputs": [
    {
     "data": {
      "text/plain": [
       "117"
      ]
     },
     "execution_count": 37,
     "metadata": {},
     "output_type": "execute_result"
    }
   ],
   "source": [
    "cars_1999_sample.size"
   ]
  },
  {
   "cell_type": "markdown",
   "id": "080bbae6",
   "metadata": {},
   "source": [
    "**Set alpha**"
   ]
  },
  {
   "cell_type": "code",
   "execution_count": 38,
   "id": "5bde58c1",
   "metadata": {},
   "outputs": [],
   "source": [
    "alpha = 0.05"
   ]
  },
  {
   "cell_type": "markdown",
   "id": "2e7cccba",
   "metadata": {},
   "source": [
    "**Verify Assumptions**\n",
    "\n",
    "1. Independent Samples  YES! no observations in the 2008 sample exist in the 1999 sample.\n",
    "2. Normal Distribution, or at least 30 observations and \"kinda\" normal.  Plenty of observations, 177 for each. \n",
    "3. Equal Variances (we have a method for dealing with unequal variances)."
   ]
  },
  {
   "cell_type": "code",
   "execution_count": 39,
   "id": "9a2cc5ff",
   "metadata": {},
   "outputs": [
    {
     "name": "stdout",
     "output_type": "stream",
     "text": [
      "Variance for 2008 cars sample: 24.097480106100797\n",
      "Variance for 1999 cars sample: 27.122605363984682\n"
     ]
    }
   ],
   "source": [
    "print(\"Variance for 2008 cars sample:\", cars_2008_sample.var())\n",
    "print(\"Variance for 1999 cars sample:\", cars_1999_sample.var())"
   ]
  },
  {
   "cell_type": "code",
   "execution_count": 70,
   "id": "b905f13e",
   "metadata": {},
   "outputs": [
    {
     "data": {
      "text/plain": [
       "LeveneResult(statistic=0.033228136671080453, pvalue=0.855517569468803)"
      ]
     },
     "execution_count": 70,
     "metadata": {},
     "output_type": "execute_result"
    }
   ],
   "source": [
    "stats.levene(cars_2008_sample, cars_1999_sample)"
   ]
  },
  {
   "cell_type": "markdown",
   "id": "7bd8f4af",
   "metadata": {},
   "source": [
    "Because the p-value is greater than 0.05, we conclude that these two variances are equal."
   ]
  },
  {
   "cell_type": "markdown",
   "id": "1273c2b6",
   "metadata": {},
   "source": [
    "**Compute test statistic**"
   ]
  },
  {
   "cell_type": "code",
   "execution_count": 71,
   "id": "1ed5ae83",
   "metadata": {},
   "outputs": [
    {
     "name": "stdout",
     "output_type": "stream",
     "text": [
      "T-statistic: -0.21960177245940962\n",
      "P-value: 0.8263744040323578\n"
     ]
    }
   ],
   "source": [
    "t, p = stats.ttest_ind(cars_2008_sample, cars_1999_sample)\n",
    "print(\"T-statistic:\", t)\n",
    "print(\"P-value:\", p)"
   ]
  },
  {
   "cell_type": "markdown",
   "id": "a6d5e5d6",
   "metadata": {},
   "source": [
    "**Make a conclusion based on the data**"
   ]
  },
  {
   "cell_type": "code",
   "execution_count": 72,
   "id": "6c023865",
   "metadata": {},
   "outputs": [
    {
     "name": "stdout",
     "output_type": "stream",
     "text": [
      "is p/2 < alpha?  False\n",
      "is t > 0?  False\n"
     ]
    }
   ],
   "source": [
    "print(\"is p/2 < alpha? \", p/2 < alpha)\n",
    "print(\"is t > 0? \", t > 0)"
   ]
  },
  {
   "cell_type": "code",
   "execution_count": 73,
   "id": "dccce4e1",
   "metadata": {},
   "outputs": [
    {
     "name": "stdout",
     "output_type": "stream",
     "text": [
      "We fail to reject the null hypothesis.\n"
     ]
    }
   ],
   "source": [
    "if p/2 > alpha:\n",
    "    print(\"We fail to reject the null hypothesis.\")\n",
    "else:\n",
    "    print(\"We reject the null hypothesis.\")"
   ]
  },
  {
   "cell_type": "markdown",
   "id": "03a261ae",
   "metadata": {},
   "source": [
    "We have high confidence that the mean mpg for cars built in 2008 is equal to the mean mpg for cars built in 1999."
   ]
  },
  {
   "cell_type": "markdown",
   "id": "8888a25a",
   "metadata": {},
   "source": [
    "### Part 2"
   ]
  },
  {
   "cell_type": "markdown",
   "id": "e3801439",
   "metadata": {},
   "source": [
    "Are compact cars more efficient than the average car?"
   ]
  },
  {
   "cell_type": "markdown",
   "id": "48cfa121",
   "metadata": {},
   "source": [
    "**Formatulate the hypotheses**"
   ]
  },
  {
   "cell_type": "markdown",
   "id": "b8958768",
   "metadata": {},
   "source": [
    "$H_{0}:$ Average miles per gallon for compact cars >= average miles per gallon for all cars. "
   ]
  },
  {
   "cell_type": "markdown",
   "id": "d7c7d0a9",
   "metadata": {},
   "source": [
    "$H_{a}:$ Average miles per gallon for compact cars > average miles per gallon for all cars."
   ]
  },
  {
   "cell_type": "markdown",
   "id": "f2b4bb0f",
   "metadata": {},
   "source": [
    "**Get data**"
   ]
  },
  {
   "cell_type": "markdown",
   "id": "f527fa44",
   "metadata": {},
   "source": [
    "We will make a new dataframe with just compact cars."
   ]
  },
  {
   "cell_type": "code",
   "execution_count": 43,
   "id": "10546b2d",
   "metadata": {},
   "outputs": [],
   "source": [
    "compact_cars = mpg_df[mpg_df[\"class\"] == \"compact\"]"
   ]
  },
  {
   "cell_type": "code",
   "execution_count": 44,
   "id": "08140fce",
   "metadata": {},
   "outputs": [
    {
     "data": {
      "image/png": "[encoded data removed]",
      "text/plain": [
       "<Figure size 432x288 with 1 Axes>"
      ]
     },
     "metadata": {
      "needs_background": "light"
     },
     "output_type": "display_data"
    }
   ],
   "source": [
    "compact_cars_mileage = compact_cars.avg_mpg.hist()"
   ]
  },
  {
   "cell_type": "code",
   "execution_count": 45,
   "id": "280bd996",
   "metadata": {},
   "outputs": [
    {
     "data": {
      "image/png": "[encoded data removed]",
      "text/plain": [
       "<Figure size 432x288 with 1 Axes>"
      ]
     },
     "metadata": {
      "needs_background": "light"
     },
     "output_type": "display_data"
    }
   ],
   "source": [
    "overall_mileage = mpg_df.avg_mpg.hist()"
   ]
  },
  {
   "cell_type": "markdown",
   "id": "60719455",
   "metadata": {},
   "source": [
    "**Set alpha**"
   ]
  },
  {
   "cell_type": "code",
   "execution_count": 46,
   "id": "b2eef100",
   "metadata": {},
   "outputs": [],
   "source": [
    "alpha = 0.05"
   ]
  },
  {
   "cell_type": "markdown",
   "id": "9cdf3b1b",
   "metadata": {},
   "source": [
    "**Verify Assumptions**"
   ]
  },
  {
   "cell_type": "code",
   "execution_count": 47,
   "id": "1a1e9d45",
   "metadata": {},
   "outputs": [
    {
     "data": {
      "text/plain": [
       "564"
      ]
     },
     "execution_count": 47,
     "metadata": {},
     "output_type": "execute_result"
    }
   ],
   "source": [
    "compact_cars.size"
   ]
  },
  {
   "cell_type": "code",
   "execution_count": 48,
   "id": "b315de9b",
   "metadata": {},
   "outputs": [
    {
     "data": {
      "text/plain": [
       "2808"
      ]
     },
     "execution_count": 48,
     "metadata": {},
     "output_type": "execute_result"
    }
   ],
   "source": [
    "mpg_df.size"
   ]
  },
  {
   "cell_type": "markdown",
   "id": "379dc61d",
   "metadata": {},
   "source": [
    "The sizes of both dataframe as large enough for us to assume normality."
   ]
  },
  {
   "cell_type": "code",
   "execution_count": 49,
   "id": "7e97bcf5",
   "metadata": {},
   "outputs": [
    {
     "data": {
      "text/plain": [
       "20.14957264957265"
      ]
     },
     "execution_count": 49,
     "metadata": {},
     "output_type": "execute_result"
    }
   ],
   "source": [
    "mean_for_all_cars = mpg_df.avg_mpg.mean()\n",
    "mean_for_all_cars"
   ]
  },
  {
   "cell_type": "markdown",
   "id": "eb649709",
   "metadata": {},
   "source": [
    "**Compute p value and test statistic**"
   ]
  },
  {
   "cell_type": "code",
   "execution_count": 50,
   "id": "980c26e3",
   "metadata": {},
   "outputs": [
    {
     "name": "stdout",
     "output_type": "stream",
     "text": [
      "T statistic: 7.896888573132535\n",
      "p-value: 2.0992818971585668e-10\n",
      "alpha: 0.05\n"
     ]
    }
   ],
   "source": [
    "t, p = stats.ttest_1samp(compact_cars.avg_mpg, mean_for_all_cars)\n",
    "print(\"T statistic:\", t)\n",
    "print(\"p-value:\", p/2)\n",
    "print(\"alpha:\", alpha)"
   ]
  },
  {
   "cell_type": "markdown",
   "id": "10d334eb",
   "metadata": {},
   "source": [
    "**We will make a conclusion based on our data**"
   ]
  },
  {
   "cell_type": "code",
   "execution_count": 51,
   "id": "26c515b0",
   "metadata": {},
   "outputs": [
    {
     "name": "stdout",
     "output_type": "stream",
     "text": [
      "Is p-value significant? True\n",
      "Is t-statistic greater than 0? True\n"
     ]
    }
   ],
   "source": [
    "print(\"Is p-value significant?\", p/2 < alpha)\n",
    "print(\"Is t-statistic greater than 0?\", t > 0)"
   ]
  },
  {
   "cell_type": "markdown",
   "id": "d9efc437",
   "metadata": {},
   "source": [
    "Is $\\frac{1}{2} p < \\alpha$ and $t > 0$? \n",
    "\n",
    "Is $t > 0$ and $\\frac{1}{2}p < \\alpha$?"
   ]
  },
  {
   "cell_type": "code",
   "execution_count": 52,
   "id": "ba253e8c",
   "metadata": {},
   "outputs": [
    {
     "name": "stdout",
     "output_type": "stream",
     "text": [
      "We reject $H_{0}.\n",
      "The fuel efficiency of compact cars is likely better than the average fuel efficiency for all cars.\n"
     ]
    }
   ],
   "source": [
    "if p/2 > alpha:\n",
    "    print(\"We fail to reject the null hypothesis.\")\n",
    "elif t < 0:\n",
    "    print(\"We fail to reject the null hypothesis.\")\n",
    "    print(\"In fact, the mpg of compact cars is less than the average mpg of all cars.\")\n",
    "else:\n",
    "    print(\"We reject $H_{0}.\")\n",
    "    print(\"The fuel efficiency of compact cars is likely better than the average fuel efficiency for all cars.\")"
   ]
  },
  {
   "cell_type": "markdown",
   "id": "e101e869",
   "metadata": {},
   "source": [
    "We have high confidence that the mean miles per gallon of compact cars is greater than the mean miles per gallon of all cars. "
   ]
  },
  {
   "cell_type": "markdown",
   "id": "64aae8dd",
   "metadata": {},
   "source": [
    "### Part 3"
   ]
  },
  {
   "cell_type": "markdown",
   "id": "43608877",
   "metadata": {},
   "source": [
    "Do manual cars get better gas mileage than automatic cars?"
   ]
  },
  {
   "cell_type": "markdown",
   "id": "605c56b8",
   "metadata": {},
   "source": [
    "**Format the hypotheses**"
   ]
  },
  {
   "cell_type": "markdown",
   "id": "7c92d704",
   "metadata": {},
   "source": [
    "$H_{0}:$ The average miles per gallon of manual cars is less than or equal to the average miles per gallon of automatic cars. "
   ]
  },
  {
   "cell_type": "markdown",
   "id": "1047c084",
   "metadata": {},
   "source": [
    "$H_{a}:$ The average miles per gallon of manual cars is greater than the average miles per gallon of automatic cars."
   ]
  },
  {
   "cell_type": "markdown",
   "id": "05182179",
   "metadata": {},
   "source": [
    "**Get data**"
   ]
  },
  {
   "cell_type": "code",
   "execution_count": 53,
   "id": "b709dd50",
   "metadata": {},
   "outputs": [],
   "source": [
    "auto_cars = mpg_df['trans'].str.startswith('a')"
   ]
  },
  {
   "cell_type": "code",
   "execution_count": 54,
   "id": "d456b7bd",
   "metadata": {},
   "outputs": [],
   "source": [
    "manual_cars = mpg_df['trans'].str.startswith('m')"
   ]
  },
  {
   "cell_type": "code",
   "execution_count": 55,
   "id": "649b6938",
   "metadata": {},
   "outputs": [],
   "source": [
    "automatic = mpg_df[auto_cars]"
   ]
  },
  {
   "cell_type": "code",
   "execution_count": 56,
   "id": "aea5b820",
   "metadata": {},
   "outputs": [],
   "source": [
    "manual = mpg_df[manual_cars]"
   ]
  },
  {
   "cell_type": "code",
   "execution_count": 57,
   "id": "6f5711c8",
   "metadata": {},
   "outputs": [
    {
     "data": {
      "image/png": "[encoded data removed]",
      "text/plain": [
       "<Figure size 432x288 with 1 Axes>"
      ]
     },
     "metadata": {
      "needs_background": "light"
     },
     "output_type": "display_data"
    }
   ],
   "source": [
    "automatic_historgram = automatic.avg_mpg.hist()"
   ]
  },
  {
   "cell_type": "code",
   "execution_count": 58,
   "id": "b6403c79",
   "metadata": {},
   "outputs": [
    {
     "data": {
      "image/png": "[encoded data removed]",
      "text/plain": [
       "<Figure size 432x288 with 1 Axes>"
      ]
     },
     "metadata": {
      "needs_background": "light"
     },
     "output_type": "display_data"
    }
   ],
   "source": [
    "manual_histogram = manual.avg_mpg.hist()"
   ]
  },
  {
   "cell_type": "markdown",
   "id": "5a9c1b99",
   "metadata": {},
   "source": [
    "**Set alpha**"
   ]
  },
  {
   "cell_type": "code",
   "execution_count": 59,
   "id": "90612bd4",
   "metadata": {},
   "outputs": [],
   "source": [
    "alpha = 0.05"
   ]
  },
  {
   "cell_type": "markdown",
   "id": "a6485058",
   "metadata": {},
   "source": [
    "**Verify assumptions**"
   ]
  },
  {
   "cell_type": "code",
   "execution_count": 60,
   "id": "cffe3293",
   "metadata": {},
   "outputs": [
    {
     "data": {
      "text/plain": [
       "1884"
      ]
     },
     "execution_count": 60,
     "metadata": {},
     "output_type": "execute_result"
    }
   ],
   "source": [
    "automatic.size"
   ]
  },
  {
   "cell_type": "code",
   "execution_count": 61,
   "id": "343d2ad0",
   "metadata": {},
   "outputs": [
    {
     "data": {
      "text/plain": [
       "924"
      ]
     },
     "execution_count": 61,
     "metadata": {},
     "output_type": "execute_result"
    }
   ],
   "source": [
    "manual.size"
   ]
  },
  {
   "cell_type": "markdown",
   "id": "d284ea3f",
   "metadata": {},
   "source": [
    "1. Independent Samples. No observations in the automatic sample exist in the manual sample. \n",
    "\n",
    "2. Both of our data sets are large enough for us to assume normality.\n",
    "\n",
    "3. Equal Variances (we have an argument that can handle unequal variances)."
   ]
  },
  {
   "cell_type": "code",
   "execution_count": 64,
   "id": "fb73df3d",
   "metadata": {},
   "outputs": [
    {
     "name": "stdout",
     "output_type": "stream",
     "text": [
      "Variance for automaitc sample: 21.942777233382337\n",
      "Variance for manual sample: 26.635167464114826\n"
     ]
    }
   ],
   "source": [
    "print(\"Variance for automaitc sample:\", automatic.avg_mpg.var())\n",
    "print(\"Variance for manual sample:\", manual.avg_mpg.var())"
   ]
  },
  {
   "cell_type": "code",
   "execution_count": 65,
   "id": "25fe8c73",
   "metadata": {},
   "outputs": [
    {
     "data": {
      "text/plain": [
       "LeveneResult(statistic=0.20075824847529639, pvalue=0.6545276355131857)"
      ]
     },
     "execution_count": 65,
     "metadata": {},
     "output_type": "execute_result"
    }
   ],
   "source": [
    "stats.levene(automatic.avg_mpg, manual.avg_mpg)"
   ]
  },
  {
   "cell_type": "markdown",
   "id": "f8ddcba8",
   "metadata": {},
   "source": [
    "Because the resulting p-value is greater than 0.05, we conclude that these two variances ar equal."
   ]
  },
  {
   "cell_type": "markdown",
   "id": "59f6271d",
   "metadata": {},
   "source": [
    "**Compute test statistic and p value**"
   ]
  },
  {
   "cell_type": "code",
   "execution_count": 66,
   "id": "8cb007b8",
   "metadata": {},
   "outputs": [],
   "source": [
    "t, p = stats.ttest_ind(manual.avg_mpg, automatic.avg_mpg)"
   ]
  },
  {
   "cell_type": "code",
   "execution_count": 67,
   "id": "222b1f60",
   "metadata": {},
   "outputs": [
    {
     "name": "stdout",
     "output_type": "stream",
     "text": [
      "T-statistic: 4.593437735750014\n",
      "P-value: 3.5771872005728416e-06\n"
     ]
    }
   ],
   "source": [
    "print(\"T-statistic:\", t)\n",
    "print(\"P-value:\", p/2)"
   ]
  },
  {
   "cell_type": "markdown",
   "id": "aa2597db",
   "metadata": {},
   "source": [
    "**Reach conclusion**"
   ]
  },
  {
   "cell_type": "code",
   "execution_count": 68,
   "id": "cd1b1a48",
   "metadata": {},
   "outputs": [
    {
     "name": "stdout",
     "output_type": "stream",
     "text": [
      "is p/2 < alpha?  True\n",
      "is t > 0?  True\n"
     ]
    }
   ],
   "source": [
    "print(\"is p/2 < alpha? \", p/2 < alpha)\n",
    "print(\"is t > 0? \", t > 0)"
   ]
  },
  {
   "cell_type": "code",
   "execution_count": 69,
   "id": "240a9e6b",
   "metadata": {},
   "outputs": [
    {
     "name": "stdout",
     "output_type": "stream",
     "text": [
      "We reject the null hypothesis.\n"
     ]
    }
   ],
   "source": [
    "if p/2 > alpha:\n",
    "    print(\"We fail to reject the null hypothesis.\")\n",
    "elif t < 0:\n",
    "    print(\"We fail to reject the null hypothesis.\")\n",
    "else:\n",
    "    print(\"We reject the null hypothesis.\")"
   ]
  },
  {
   "cell_type": "markdown",
   "id": "1b3d8283",
   "metadata": {},
   "source": [
    "We have high confidence that the average miles per gallon for manual cars is greater than the average miles per gallon of automatic cars."
   ]
  }
 ],
 "metadata": {
  "kernelspec": {
   "display_name": "Python 3",
   "language": "python",
   "name": "python3"
  },
  "language_info": {
   "codemirror_mode": {
    "name": "ipython",
    "version": 3
   },
   "file_extension": ".py",
   "mimetype": "text/x-python",
   "name": "python",
   "nbconvert_exporter": "python",
   "pygments_lexer": "ipython3",
   "version": "3.8.8"
  }
 },
 "nbformat": 4,
 "nbformat_minor": 5
}
